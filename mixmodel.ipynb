{
 "cells": [
  {
   "cell_type": "code",
   "execution_count": 2,
   "metadata": {},
   "outputs": [],
   "source": [
    "import pandas as pd"
   ]
  },
  {
   "cell_type": "code",
   "execution_count": 5,
   "metadata": {},
   "outputs": [
    {
     "data": {
      "text/html": [
       "<div>\n",
       "<style scoped>\n",
       "    .dataframe tbody tr th:only-of-type {\n",
       "        vertical-align: middle;\n",
       "    }\n",
       "\n",
       "    .dataframe tbody tr th {\n",
       "        vertical-align: top;\n",
       "    }\n",
       "\n",
       "    .dataframe thead th {\n",
       "        text-align: right;\n",
       "    }\n",
       "</style>\n",
       "<table border=\"1\" class=\"dataframe\">\n",
       "  <thead>\n",
       "    <tr style=\"text-align: right;\">\n",
       "      <th></th>\n",
       "      <th>Date</th>\n",
       "      <th>TikTok</th>\n",
       "      <th>Facebook</th>\n",
       "      <th>Google Ads</th>\n",
       "      <th>Sales</th>\n",
       "    </tr>\n",
       "  </thead>\n",
       "  <tbody>\n",
       "    <tr>\n",
       "      <th>0</th>\n",
       "      <td>01-07-2018</td>\n",
       "      <td>13528.10</td>\n",
       "      <td>0.00</td>\n",
       "      <td>0.00</td>\n",
       "      <td>9779.80</td>\n",
       "    </tr>\n",
       "    <tr>\n",
       "      <th>1</th>\n",
       "      <td>1/14/2018</td>\n",
       "      <td>0.00</td>\n",
       "      <td>5349.65</td>\n",
       "      <td>2218.93</td>\n",
       "      <td>13245.19</td>\n",
       "    </tr>\n",
       "    <tr>\n",
       "      <th>2</th>\n",
       "      <td>1/21/2018</td>\n",
       "      <td>0.00</td>\n",
       "      <td>4235.86</td>\n",
       "      <td>2046.96</td>\n",
       "      <td>12022.66</td>\n",
       "    </tr>\n",
       "    <tr>\n",
       "      <th>3</th>\n",
       "      <td>1/28/2018</td>\n",
       "      <td>0.00</td>\n",
       "      <td>3562.21</td>\n",
       "      <td>0.00</td>\n",
       "      <td>8846.95</td>\n",
       "    </tr>\n",
       "    <tr>\n",
       "      <th>4</th>\n",
       "      <td>02-04-2018</td>\n",
       "      <td>0.00</td>\n",
       "      <td>0.00</td>\n",
       "      <td>2187.29</td>\n",
       "      <td>9797.07</td>\n",
       "    </tr>\n",
       "    <tr>\n",
       "      <th>...</th>\n",
       "      <td>...</td>\n",
       "      <td>...</td>\n",
       "      <td>...</td>\n",
       "      <td>...</td>\n",
       "      <td>...</td>\n",
       "    </tr>\n",
       "    <tr>\n",
       "      <th>195</th>\n",
       "      <td>10-03-2021</td>\n",
       "      <td>0.00</td>\n",
       "      <td>0.00</td>\n",
       "      <td>1691.68</td>\n",
       "      <td>9030.17</td>\n",
       "    </tr>\n",
       "    <tr>\n",
       "      <th>196</th>\n",
       "      <td>10-10-2021</td>\n",
       "      <td>11543.58</td>\n",
       "      <td>4615.35</td>\n",
       "      <td>2518.88</td>\n",
       "      <td>15904.11</td>\n",
       "    </tr>\n",
       "    <tr>\n",
       "      <th>197</th>\n",
       "      <td>10/17/2021</td>\n",
       "      <td>0.00</td>\n",
       "      <td>4556.16</td>\n",
       "      <td>1919.19</td>\n",
       "      <td>12839.29</td>\n",
       "    </tr>\n",
       "    <tr>\n",
       "      <th>198</th>\n",
       "      <td>10/24/2021</td>\n",
       "      <td>0.00</td>\n",
       "      <td>0.00</td>\n",
       "      <td>1707.65</td>\n",
       "      <td>9063.45</td>\n",
       "    </tr>\n",
       "    <tr>\n",
       "      <th>199</th>\n",
       "      <td>10/31/2021</td>\n",
       "      <td>0.00</td>\n",
       "      <td>0.00</td>\n",
       "      <td>1863.31</td>\n",
       "      <td>7250.21</td>\n",
       "    </tr>\n",
       "  </tbody>\n",
       "</table>\n",
       "<p>200 rows × 5 columns</p>\n",
       "</div>"
      ],
      "text/plain": [
       "           Date    TikTok  Facebook  Google Ads     Sales\n",
       "0    01-07-2018  13528.10      0.00        0.00   9779.80\n",
       "1     1/14/2018      0.00   5349.65     2218.93  13245.19\n",
       "2     1/21/2018      0.00   4235.86     2046.96  12022.66\n",
       "3     1/28/2018      0.00   3562.21        0.00   8846.95\n",
       "4    02-04-2018      0.00      0.00     2187.29   9797.07\n",
       "..          ...       ...       ...         ...       ...\n",
       "195  10-03-2021      0.00      0.00     1691.68   9030.17\n",
       "196  10-10-2021  11543.58   4615.35     2518.88  15904.11\n",
       "197  10/17/2021      0.00   4556.16     1919.19  12839.29\n",
       "198  10/24/2021      0.00      0.00     1707.65   9063.45\n",
       "199  10/31/2021      0.00      0.00     1863.31   7250.21\n",
       "\n",
       "[200 rows x 5 columns]"
      ]
     },
     "execution_count": 5,
     "metadata": {},
     "output_type": "execute_result"
    }
   ],
   "source": [
    "df = pd.read_csv(r'C:\\Users\\manil\\OneDrive\\Desktop\\manil\\PROJECT 3\\market mix model\\mmm\\market-mix-model\\mmm_dataset.csv')\n",
    "df"
   ]
  },
  {
   "cell_type": "code",
   "execution_count": 3,
   "metadata": {},
   "outputs": [
    {
     "data": {
      "text/plain": [
       "200"
      ]
     },
     "execution_count": 3,
     "metadata": {},
     "output_type": "execute_result"
    }
   ],
   "source": [
    "n = len(df)\n",
    "n"
   ]
  },
  {
   "cell_type": "code",
   "execution_count": 4,
   "metadata": {},
   "outputs": [],
   "source": [
    "date = df['Date']\n",
    "x1= df['TikTok']\n",
    "x2 = df['Facebook']\n",
    "x3 = df['Google Ads']\n",
    "y = df['Sales']"
   ]
  },
  {
   "cell_type": "code",
   "execution_count": 5,
   "metadata": {},
   "outputs": [],
   "source": [
    "sum_x1 = sum(x1)\n",
    "sum_x2 = sum(x2)\n",
    "sum_x3 = sum(x3)\n",
    "sum_y = sum(y)"
   ]
  },
  {
   "cell_type": "code",
   "execution_count": 6,
   "metadata": {},
   "outputs": [
    {
     "name": "stdout",
     "output_type": "stream",
     "text": [
      " sum of x1 values :   589241.53\n",
      " sum of x2 values :   442717.00999999995\n",
      " sum of x3 values :   304144.5100000002\n"
     ]
    }
   ],
   "source": [
    "print(\" sum of x1 values :  \",sum_x1)\n",
    "print(\" sum of x2 values :  \",sum_x2)\n",
    "print(\" sum of x3 values :  \",sum_x3)\n",
    "\n"
   ]
  },
  {
   "cell_type": "code",
   "execution_count": 7,
   "metadata": {},
   "outputs": [],
   "source": [
    "sqrd_x1 = x1.pow(2)\n",
    "sqrd_x2 = x2.pow(2)\n",
    "sqrd_x3 = x3.pow(2)"
   ]
  },
  {
   "cell_type": "code",
   "execution_count": 8,
   "metadata": {},
   "outputs": [],
   "source": [
    "sum_sqrd_x1 = sum(sqrd_x1)\n",
    "sum_sqrd_x2 = sum(sqrd_x2)\n",
    "sum_sqrd_x3 = sum(sqrd_x3)"
   ]
  },
  {
   "cell_type": "code",
   "execution_count": 9,
   "metadata": {},
   "outputs": [
    {
     "name": "stdout",
     "output_type": "stream",
     "text": [
      " sum of squred value of x1 :  6225297906.842701\n",
      " sum of squred value of x2 :  2229686889.2043\n",
      " sum of squred value of x13:  613407296.1247003\n"
     ]
    }
   ],
   "source": [
    "print(\" sum of squred value of x1 : \",sum_sqrd_x1)\n",
    "print(\" sum of squred value of x2 : \" ,sum_sqrd_x2)\n",
    "print(\" sum of squred value of x13: \",sum_sqrd_x3)"
   ]
  },
  {
   "cell_type": "code",
   "execution_count": 10,
   "metadata": {},
   "outputs": [],
   "source": [
    "x1_x2 = x1 * x2 \n",
    "x1_x3 = x1 * x3 \n",
    "x2_x3 = x2 * x3"
   ]
  },
  {
   "cell_type": "code",
   "execution_count": 11,
   "metadata": {},
   "outputs": [],
   "source": [
    "sum_x1_x2 = sum(x1_x2)\n",
    "sum_x1_x3 = sum(x1_x3)\n",
    "sum_x2_x3 = sum(x2_x3)"
   ]
  },
  {
   "cell_type": "code",
   "execution_count": 12,
   "metadata": {},
   "outputs": [
    {
     "name": "stdout",
     "output_type": "stream",
     "text": [
      " sum of x1 * x2 :  1503600398.8225\n",
      " sum of x1 * x3 :  913961314.1338001\n",
      " sum of x2 * x3 :  629414994.4983001\n"
     ]
    }
   ],
   "source": [
    "print(\" sum of x1 * x2 : \",sum_x1_x2)\n",
    "print(\" sum of x1 * x3 : \",sum_x1_x3)\n",
    "print(\" sum of x2 * x3 : \",sum_x2_x3)"
   ]
  },
  {
   "cell_type": "code",
   "execution_count": 13,
   "metadata": {},
   "outputs": [],
   "source": [
    "x1_y = x1 * y\n",
    "x2_y = x2 * y \n",
    "x3_y = x3 * y"
   ]
  },
  {
   "cell_type": "code",
   "execution_count": 14,
   "metadata": {},
   "outputs": [],
   "source": [
    "sum_x1_y = sum(x1_y)\n",
    "sum_x2_y = sum(x2_y)\n",
    "sum_x3_y = sum(x3_y)"
   ]
  },
  {
   "cell_type": "code",
   "execution_count": 15,
   "metadata": {},
   "outputs": [
    {
     "name": "stdout",
     "output_type": "stream",
     "text": [
      "sum of x1 * y :  8019887854.614502\n",
      "sum of x2 * y :  5351606990.755799\n",
      "sum of x3 * y :  3413152406.5068974\n"
     ]
    }
   ],
   "source": [
    "print(\"sum of x1 * y : \",sum_x1_y)\n",
    "print(\"sum of x2 * y : \",sum_x2_y)\n",
    "print(\"sum of x3 * y : \",sum_x3_y)"
   ]
  },
  {
   "cell_type": "code",
   "execution_count": 16,
   "metadata": {},
   "outputs": [
    {
     "data": {
      "text/plain": [
       "4489270003.458997"
      ]
     },
     "execution_count": 16,
     "metadata": {},
     "output_type": "execute_result"
    }
   ],
   "source": [
    "sigm_x1_sqrd= sum_sqrd_x1 - ((sum_x1**2)/n)\n",
    "sigm_x1_sqrd"
   ]
  },
  {
   "cell_type": "code",
   "execution_count": 17,
   "metadata": {},
   "outputs": [
    {
     "data": {
      "text/plain": [
       "1249695134.4875996"
      ]
     },
     "execution_count": 17,
     "metadata": {},
     "output_type": "execute_result"
    }
   ],
   "source": [
    "sigm_x2_sqrd = sum_sqrd_x2 -((sum_x2 ** 2)/n)\n",
    "sigm_x2_sqrd"
   ]
  },
  {
   "cell_type": "code",
   "execution_count": 18,
   "metadata": {},
   "outputs": [
    {
     "data": {
      "text/plain": [
       "150887881.30899924"
      ]
     },
     "execution_count": 18,
     "metadata": {},
     "output_type": "execute_result"
    }
   ],
   "source": [
    "sigm_x3_sqrd = sum_sqrd_x3 -((sum_x3 ** 2)/n)\n",
    "sigm_x3_sqrd"
   ]
  },
  {
   "cell_type": "code",
   "execution_count": 19,
   "metadata": {},
   "outputs": [
    {
     "data": {
      "text/plain": [
       "199264157.17537355"
      ]
     },
     "execution_count": 19,
     "metadata": {},
     "output_type": "execute_result"
    }
   ],
   "source": [
    "sigm_x1_x2 = sum_x1_x2 - ((sum_x1 * sum_x2)/n)\n",
    "sigm_x1_x2"
   ]
  },
  {
   "cell_type": "code",
   "execution_count": 20,
   "metadata": {},
   "outputs": [
    {
     "data": {
      "text/plain": [
       "17888432.066298008"
      ]
     },
     "execution_count": 20,
     "metadata": {},
     "output_type": "execute_result"
    }
   ],
   "source": [
    "sigm_x1_x3 = sum_x1_x3 - ((sum_x1 * sum_x3)/n)\n",
    "sigm_x1_x3"
   ]
  },
  {
   "cell_type": "code",
   "execution_count": 21,
   "metadata": {},
   "outputs": [
    {
     "data": {
      "text/plain": [
       "-43834745.877275825"
      ]
     },
     "execution_count": 21,
     "metadata": {},
     "output_type": "execute_result"
    }
   ],
   "source": [
    "sigm_x2_x3 = sum_x2_x3 - ((sum_x2 * sum_x3)/n)\n",
    "sigm_x2_x3"
   ]
  },
  {
   "cell_type": "markdown",
   "metadata": {},
   "source": []
  },
  {
   "cell_type": "code",
   "execution_count": 22,
   "metadata": {},
   "outputs": [
    {
     "data": {
      "text/plain": [
       "1733775834.8980055"
      ]
     },
     "execution_count": 22,
     "metadata": {},
     "output_type": "execute_result"
    }
   ],
   "source": [
    "sigm_x1_y = sum_x1_y - ((sum_x1 * sum_y)/n)\n",
    "sigm_x1_y"
   ]
  },
  {
   "cell_type": "code",
   "execution_count": 23,
   "metadata": {},
   "outputs": [
    {
     "data": {
      "text/plain": [
       "628639283.6188841"
      ]
     },
     "execution_count": 23,
     "metadata": {},
     "output_type": "execute_result"
    }
   ],
   "source": [
    "sigm_x2_y = sum_x2_y - ((sum_x2 * sum_y)/n)\n",
    "sigm_x2_y"
   ]
  },
  {
   "cell_type": "code",
   "execution_count": 24,
   "metadata": {},
   "outputs": [
    {
     "data": {
      "text/plain": [
       "168495737.3787303"
      ]
     },
     "execution_count": 24,
     "metadata": {},
     "output_type": "execute_result"
    }
   ],
   "source": [
    "sigm_x3_y = sum_x3_y - ((sum_x3 * sum_y)/n)\n",
    "sigm_x3_y"
   ]
  },
  {
   "cell_type": "code",
   "execution_count": 25,
   "metadata": {},
   "outputs": [
    {
     "name": "stdout",
     "output_type": "stream",
     "text": [
      "values of matrix :  [[4489270003.458997, 199264157.17537355, 17888432.066298008], [199264157.17537355, 1249695134.4875996, -43834745.877275825], [17888432.066298008, -43834745.877275825, 150887881.30899924]]\n",
      "determinate :  8.311843934185646e+26\n",
      "adjoint matrix :  [[1.8664236617887344e+17, -3.085068137078462e+16, -3.1089780209096628e+16], [-3.085068137078462e+16, 6.770564434441811e+17, 2.0035053311498208e+17], [-3.1089780209096628e+16, 2.0035053311498208e+17, 5.570512676389026e+18]]\n",
      "inverse det :  1.2031024739132991e-27\n",
      " vector :  [[1733775834.8980055], [628639283.6188841], [168495737.3787303]]\n",
      "Regression Coefficients:\n",
      "b1: 0.35968382098965346\n",
      "b2: 0.488332463591538\n",
      "b3: 1.215919301372198\n"
     ]
    }
   ],
   "source": [
    "def get_minor(matrix, i, j):\n",
    "    return [row[:j] + row[j+1:] for row in (matrix[:i]+matrix[i+1:])]\n",
    "\n",
    "def determinant(matrix):\n",
    "    if len(matrix) == 1:\n",
    "        return matrix[0][0]\n",
    "    elif len(matrix) == 2:\n",
    "        return matrix[0][0]*matrix[1][1] - matrix[0][1]*matrix[1][0]\n",
    "    else:\n",
    "        det = 0\n",
    "        for j in range(len(matrix)):\n",
    "            det += ((-1)**j) * matrix[0][j] * determinant(get_minor(matrix, 0, j))\n",
    "        return det\n",
    "\n",
    "def transpose(matrix):\n",
    "    return [[matrix[j][i] for j in range(len(matrix))] for i in range(len(matrix[0]))]\n",
    "\n",
    "def cofactor(matrix):\n",
    "    return [[((-1) ** (i + j)) * determinant(get_minor(matrix, i, j)) for j in range(len(matrix))] for i in range(len(matrix))]\n",
    "\n",
    "def adjugate(matrix):\n",
    "    cofactors = cofactor(matrix)\n",
    "    return transpose(cofactors)\n",
    "\n",
    "def scalar_multiply(matrix, scalar):\n",
    "    return [[scalar * matrix[i][j] for j in range(len(matrix[0]))] for i in range(len(matrix))]\n",
    "\n",
    "def matrix_multiply(matrix1, matrix2):\n",
    "    if len(matrix1[0]) != len(matrix2):\n",
    "        raise ValueError(\"Matrix dimensions incompatible for multiplication\")\n",
    "    result = [[0] * len(matrix2[0]) for _ in range(len(matrix1))]\n",
    "    for i in range(len(matrix1)):\n",
    "        for j in range(len(matrix2[0])):\n",
    "            for k in range(len(matrix2)):\n",
    "                result[i][j] += matrix1[i][k] * matrix2[k][j]\n",
    "    return result\n",
    "\n",
    "# Example matrix\n",
    "matrix = [\n",
    "          [sigm_x1_sqrd , sigm_x1_x2, sigm_x1_x3 ],\n",
    "          [sigm_x1_x2 , sigm_x2_sqrd , sigm_x2_x3],\n",
    "          [sigm_x1_x3, sigm_x2_x3 , sigm_x3_sqrd]\n",
    "]\n",
    "\n",
    "print(\"values of matrix : \" , matrix)\n",
    "# Calculate determinant\n",
    "det = determinant(matrix)\n",
    "print(\"determinate : \",det)\n",
    "\n",
    "# Calculate adjugate\n",
    "adj = adjugate(matrix)\n",
    "print(\"adjoint matrix : \", adj)\n",
    "\n",
    "# Calculate 1/det\n",
    "inv_det = 1 / det\n",
    "print(\"inverse det : \" ,inv_det)\n",
    "\n",
    "# 1 x 3 matrix\n",
    "vector = [[sigm_x1_y],\n",
    "          [sigm_x2_y],\n",
    "          [sigm_x3_y]]\n",
    "\n",
    "print(\" vector : \",vector )\n",
    "\n",
    "# Perform the operation\n",
    "result = scalar_multiply(adj, inv_det)\n",
    "result = matrix_multiply(result, vector)\n",
    "\n",
    "# Print the result\n",
    "print(\"Regression Coefficients:\")\n",
    "print(\"b1:\", result[0][0])\n",
    "print(\"b2:\", result[1][0])\n",
    "print(\"b3:\", result[2][0])\n"
   ]
  },
  {
   "cell_type": "code",
   "execution_count": 26,
   "metadata": {},
   "outputs": [],
   "source": [
    "b1 = result[0][0]\n",
    "b2 = result[1][0]\n",
    "b3 = result[2][0]\n"
   ]
  },
  {
   "cell_type": "code",
   "execution_count": 27,
   "metadata": {},
   "outputs": [
    {
     "name": "stdout",
     "output_type": "stream",
     "text": [
      "Correlation Matrix:\n",
      "                Date    TikTok  Facebook  Google Ads     Sales\n",
      "Date        1.000000  0.064813  0.064952   -0.039955  0.047973\n",
      "TikTok      0.064813  1.000000  0.084128    0.021735  0.679205\n",
      "Facebook    0.064952  0.084128  1.000000   -0.100946  0.466762\n",
      "Google Ads -0.039955  0.021735 -0.100946    1.000000  0.360046\n",
      "Sales       0.047973  0.679205  0.466762    0.360046  1.000000\n"
     ]
    }
   ],
   "source": [
    "df['Date'] = pd.to_datetime(df['Date'], errors='coerce')\n",
    "\n",
    "correlation_matrix = df.corr()\n",
    "\n",
    "# Print correlation matrix\n",
    "print(\"Correlation Matrix:\")\n",
    "print(correlation_matrix)"
   ]
  },
  {
   "cell_type": "code",
   "execution_count": 28,
   "metadata": {},
   "outputs": [],
   "source": [
    "y_mean = y.mean()\n",
    "x1_mean = x1.mean()\n",
    "x2_mean = x2.mean()\n",
    "x3_mean = x3.mean()"
   ]
  },
  {
   "cell_type": "code",
   "execution_count": 29,
   "metadata": {},
   "outputs": [
    {
     "data": {
      "text/plain": [
       "6678.396933606206"
      ]
     },
     "execution_count": 29,
     "metadata": {},
     "output_type": "execute_result"
    }
   ],
   "source": [
    "intercept = y_mean - (b1 * x1_mean) -(b2 * x2_mean) -(b3 * x3_mean)\n",
    "intercept"
   ]
  },
  {
   "cell_type": "code",
   "execution_count": 30,
   "metadata": {},
   "outputs": [
    {
     "data": {
      "text/plain": [
       "Date          0.047973\n",
       "TikTok        0.679205\n",
       "Facebook      0.466762\n",
       "Google Ads    0.360046\n",
       "Sales         1.000000\n",
       "Name: Sales, dtype: float64"
      ]
     },
     "execution_count": 30,
     "metadata": {},
     "output_type": "execute_result"
    }
   ],
   "source": [
    "df.corr()['Sales']"
   ]
  },
  {
   "cell_type": "code",
   "execution_count": 31,
   "metadata": {},
   "outputs": [
    {
     "name": "stdout",
     "output_type": "stream",
     "text": [
      "Line Plot:\n",
      "Date: 01-07-2018, Sales: 9779.8\n",
      "Date: 1/14/2018, Sales: 13245.19\n",
      "Date: 1/21/2018, Sales: 12022.66\n",
      "Date: 1/28/2018, Sales: 8846.95\n",
      "Date: 02-04-2018, Sales: 9797.07\n",
      "Date: 10-03-2021, Sales: 9030.17\n",
      "Date: 10-10-2021, Sales: 15904.11\n",
      "Date: 10/17/2021, Sales: 12839.29\n",
      "Date: 10/24/2021, Sales: 9063.45\n",
      "Date: 10/31/2021, Sales: 7250.21\n"
     ]
    }
   ],
   "source": [
    "# Define a function to plot a line graph\n",
    "def plot_line(x_values, y_values, x_label, y_label):\n",
    "    print(\"Line Plot:\")\n",
    "    for x, y in zip(x_values, y_values):\n",
    "        print(f\"{x_label}: {x}, {y_label}: {y}\")\n",
    "\n",
    "# Example data\n",
    "dates = ['01-07-2018', '1/14/2018', '1/21/2018', '1/28/2018', '02-04-2018',\n",
    "         '10-03-2021', '10-10-2021', '10/17/2021', '10/24/2021', '10/31/2021']\n",
    "sales = [9779.80, 13245.19, 12022.66, 8846.95, 9797.07, 9030.17, 15904.11, 12839.29, 9063.45, 7250.21]\n",
    "\n",
    "# Plot the line graph\n",
    "plot_line(dates, sales, 'Date', 'Sales')\n"
   ]
  },
  {
   "cell_type": "code",
   "execution_count": 32,
   "metadata": {},
   "outputs": [
    {
     "data": {
      "application/vnd.plotly.v1+json": {
       "config": {
        "plotlyServerURL": "https://plot.ly"
       },
       "data": [
        {
         "hovertemplate": "variable=TikTok<br>Date=%{x}<br>value=%{y}<extra></extra>",
         "legendgroup": "TikTok",
         "line": {
          "color": "#636efa",
          "dash": "solid"
         },
         "marker": {
          "symbol": "circle"
         },
         "mode": "lines",
         "name": "TikTok",
         "orientation": "v",
         "showlegend": true,
         "type": "scatter",
         "x": [
          "2018-01-07T00:00:00",
          null,
          null,
          null,
          "2018-02-04T00:00:00",
          "2018-02-11T00:00:00",
          null,
          null,
          "2018-03-04T00:00:00",
          "2018-03-11T00:00:00",
          null,
          null,
          "2018-04-01T00:00:00",
          "2018-04-08T00:00:00",
          null,
          null,
          null,
          "2018-05-06T00:00:00",
          null,
          null,
          null,
          "2018-06-03T00:00:00",
          "2018-06-10T00:00:00",
          null,
          null,
          "2018-07-01T00:00:00",
          "2018-07-08T00:00:00",
          null,
          null,
          null,
          "2018-08-05T00:00:00",
          "2018-08-12T00:00:00",
          null,
          null,
          "2018-09-02T00:00:00",
          "2018-09-09T00:00:00",
          null,
          null,
          null,
          "2018-10-07T00:00:00",
          null,
          null,
          null,
          "2018-11-04T00:00:00",
          "2018-11-11T00:00:00",
          null,
          null,
          "2018-12-02T00:00:00",
          "2018-12-09T00:00:00",
          null,
          null,
          null,
          "2019-01-06T00:00:00",
          null,
          null,
          null,
          "2019-02-03T00:00:00",
          "2019-02-10T00:00:00",
          null,
          null,
          "2019-03-03T00:00:00",
          "2019-03-10T00:00:00",
          null,
          null,
          null,
          "2019-04-07T00:00:00",
          null,
          null,
          null,
          "2019-05-05T00:00:00",
          "2019-05-12T00:00:00",
          null,
          null,
          "2019-06-02T00:00:00",
          "2019-06-09T00:00:00",
          null,
          null,
          null,
          "2019-07-07T00:00:00",
          null,
          null,
          null,
          "2019-08-04T00:00:00",
          "2019-08-11T00:00:00",
          null,
          null,
          "2019-09-01T00:00:00",
          "2019-09-08T00:00:00",
          null,
          null,
          null,
          "2019-10-06T00:00:00",
          null,
          null,
          null,
          "2019-11-03T00:00:00",
          "2019-11-10T00:00:00",
          null,
          null,
          "2019-12-01T00:00:00",
          "2019-12-08T00:00:00",
          null,
          null,
          null,
          "2020-01-05T00:00:00",
          "2020-01-12T00:00:00",
          null,
          null,
          "2020-02-02T00:00:00",
          "2020-02-09T00:00:00",
          null,
          null,
          "2020-03-01T00:00:00",
          "2020-03-08T00:00:00",
          null,
          null,
          null,
          "2020-04-05T00:00:00",
          "2020-04-12T00:00:00",
          null,
          null,
          "2020-05-03T00:00:00",
          "2020-05-10T00:00:00",
          null,
          null,
          null,
          "2020-06-07T00:00:00",
          null,
          null,
          null,
          "2020-07-05T00:00:00",
          "2020-07-12T00:00:00",
          null,
          null,
          "2020-08-02T00:00:00",
          "2020-08-09T00:00:00",
          null,
          null,
          null,
          "2020-09-06T00:00:00",
          null,
          null,
          null,
          "2020-10-04T00:00:00",
          "2020-10-11T00:00:00",
          null,
          null,
          "2020-11-01T00:00:00",
          "2020-11-08T00:00:00",
          null,
          null,
          null,
          "2020-12-06T00:00:00",
          null,
          null,
          null,
          "2021-01-03T00:00:00",
          "2021-01-10T00:00:00",
          null,
          null,
          null,
          "2021-02-07T00:00:00",
          null,
          null,
          null,
          "2021-03-07T00:00:00",
          null,
          null,
          null,
          "2021-04-04T00:00:00",
          "2021-04-11T00:00:00",
          null,
          null,
          "2021-05-02T00:00:00",
          "2021-05-09T00:00:00",
          null,
          null,
          null,
          "2021-06-06T00:00:00",
          null,
          null,
          null,
          "2021-07-04T00:00:00",
          "2021-07-11T00:00:00",
          null,
          null,
          "2021-08-01T00:00:00",
          "2021-08-08T00:00:00",
          null,
          null,
          null,
          "2021-09-05T00:00:00",
          "2021-09-12T00:00:00",
          null,
          null,
          "2021-10-03T00:00:00",
          "2021-10-10T00:00:00",
          null,
          null,
          null
         ],
         "xaxis": "x",
         "y": [
          13528.1,
          0,
          0,
          0,
          0,
          8045.44,
          0,
          9697.29,
          0,
          0,
          0,
          0,
          11522.08,
          10243.35,
          0,
          10667.35,
          0,
          9589.68,
          10626.14,
          8291.81,
          0,
          11307.24,
          0,
          8515.67,
          0,
          0,
          0,
          0,
          13065.56,
          0,
          0,
          0,
          0,
          0,
          9304.18,
          0,
          0,
          0,
          0,
          9395.39,
          7902.89,
          7159.96,
          6587.46,
          13901.55,
          0,
          0,
          0,
          0,
          0,
          0,
          8209.07,
          0,
          8978.39,
          0,
          0,
          0,
          0,
          0,
          0,
          0,
          8655.08,
          9280.89,
          0,
          0,
          0,
          0,
          0,
          0,
          0,
          0,
          0,
          0,
          0,
          7530.35,
          0,
          0,
          8258.41,
          8842.3,
          0,
          0,
          0,
          0,
          0,
          0,
          0,
          0,
          12357.56,
          0,
          0,
          0,
          0,
          12444.89,
          0,
          0,
          0,
          0,
          0,
          0,
          0,
          0,
          0,
          7304.48,
          0,
          11938.79,
          0,
          0,
          9172.76,
          0,
          13845.88,
          0,
          13735.12,
          0,
          0,
          0,
          9463.99,
          0,
          0,
          0,
          11228.16,
          11844.41,
          0,
          0,
          10596.48,
          0,
          8610.86,
          0,
          9129.69,
          13698.53,
          11344.59,
          0,
          0,
          0,
          0,
          0,
          0,
          11352.87,
          0,
          9583.4,
          0,
          0,
          0,
          0,
          0,
          11270.06,
          0,
          11888.96,
          8174.36,
          0,
          0,
          0,
          0,
          0,
          0,
          0,
          0,
          0,
          0,
          0,
          0,
          0,
          0,
          0,
          11898.84,
          10175.1,
          0,
          0,
          0,
          0,
          12376.06,
          0,
          11841.72,
          0,
          0,
          0,
          0,
          0,
          0,
          0,
          0,
          0,
          9292.01,
          0,
          0,
          5553.19,
          11250.46,
          0,
          0,
          0,
          8520.87,
          13086.03,
          7414.29,
          10534.1,
          0,
          7663.81,
          0,
          0,
          11543.58,
          0,
          0,
          0
         ],
         "yaxis": "y"
        },
        {
         "hovertemplate": "variable=Facebook<br>Date=%{x}<br>value=%{y}<extra></extra>",
         "legendgroup": "Facebook",
         "line": {
          "color": "#EF553B",
          "dash": "solid"
         },
         "marker": {
          "symbol": "circle"
         },
         "mode": "lines",
         "name": "Facebook",
         "orientation": "v",
         "showlegend": true,
         "type": "scatter",
         "x": [
          "2018-01-07T00:00:00",
          null,
          null,
          null,
          "2018-02-04T00:00:00",
          "2018-02-11T00:00:00",
          null,
          null,
          "2018-03-04T00:00:00",
          "2018-03-11T00:00:00",
          null,
          null,
          "2018-04-01T00:00:00",
          "2018-04-08T00:00:00",
          null,
          null,
          null,
          "2018-05-06T00:00:00",
          null,
          null,
          null,
          "2018-06-03T00:00:00",
          "2018-06-10T00:00:00",
          null,
          null,
          "2018-07-01T00:00:00",
          "2018-07-08T00:00:00",
          null,
          null,
          null,
          "2018-08-05T00:00:00",
          "2018-08-12T00:00:00",
          null,
          null,
          "2018-09-02T00:00:00",
          "2018-09-09T00:00:00",
          null,
          null,
          null,
          "2018-10-07T00:00:00",
          null,
          null,
          null,
          "2018-11-04T00:00:00",
          "2018-11-11T00:00:00",
          null,
          null,
          "2018-12-02T00:00:00",
          "2018-12-09T00:00:00",
          null,
          null,
          null,
          "2019-01-06T00:00:00",
          null,
          null,
          null,
          "2019-02-03T00:00:00",
          "2019-02-10T00:00:00",
          null,
          null,
          "2019-03-03T00:00:00",
          "2019-03-10T00:00:00",
          null,
          null,
          null,
          "2019-04-07T00:00:00",
          null,
          null,
          null,
          "2019-05-05T00:00:00",
          "2019-05-12T00:00:00",
          null,
          null,
          "2019-06-02T00:00:00",
          "2019-06-09T00:00:00",
          null,
          null,
          null,
          "2019-07-07T00:00:00",
          null,
          null,
          null,
          "2019-08-04T00:00:00",
          "2019-08-11T00:00:00",
          null,
          null,
          "2019-09-01T00:00:00",
          "2019-09-08T00:00:00",
          null,
          null,
          null,
          "2019-10-06T00:00:00",
          null,
          null,
          null,
          "2019-11-03T00:00:00",
          "2019-11-10T00:00:00",
          null,
          null,
          "2019-12-01T00:00:00",
          "2019-12-08T00:00:00",
          null,
          null,
          null,
          "2020-01-05T00:00:00",
          "2020-01-12T00:00:00",
          null,
          null,
          "2020-02-02T00:00:00",
          "2020-02-09T00:00:00",
          null,
          null,
          "2020-03-01T00:00:00",
          "2020-03-08T00:00:00",
          null,
          null,
          null,
          "2020-04-05T00:00:00",
          "2020-04-12T00:00:00",
          null,
          null,
          "2020-05-03T00:00:00",
          "2020-05-10T00:00:00",
          null,
          null,
          null,
          "2020-06-07T00:00:00",
          null,
          null,
          null,
          "2020-07-05T00:00:00",
          "2020-07-12T00:00:00",
          null,
          null,
          "2020-08-02T00:00:00",
          "2020-08-09T00:00:00",
          null,
          null,
          null,
          "2020-09-06T00:00:00",
          null,
          null,
          null,
          "2020-10-04T00:00:00",
          "2020-10-11T00:00:00",
          null,
          null,
          "2020-11-01T00:00:00",
          "2020-11-08T00:00:00",
          null,
          null,
          null,
          "2020-12-06T00:00:00",
          null,
          null,
          null,
          "2021-01-03T00:00:00",
          "2021-01-10T00:00:00",
          null,
          null,
          null,
          "2021-02-07T00:00:00",
          null,
          null,
          null,
          "2021-03-07T00:00:00",
          null,
          null,
          null,
          "2021-04-04T00:00:00",
          "2021-04-11T00:00:00",
          null,
          null,
          "2021-05-02T00:00:00",
          "2021-05-09T00:00:00",
          null,
          null,
          null,
          "2021-06-06T00:00:00",
          null,
          null,
          null,
          "2021-07-04T00:00:00",
          "2021-07-11T00:00:00",
          null,
          null,
          "2021-08-01T00:00:00",
          "2021-08-08T00:00:00",
          null,
          null,
          null,
          "2021-09-05T00:00:00",
          "2021-09-12T00:00:00",
          null,
          null,
          "2021-10-03T00:00:00",
          "2021-10-10T00:00:00",
          null,
          null,
          null
         ],
         "xaxis": "x",
         "y": [
          0,
          5349.65,
          4235.86,
          3562.21,
          0,
          4310.55,
          0,
          4478.81,
          3156.93,
          4522.03,
          4520.34,
          0,
          5698.46,
          0,
          0,
          0,
          0,
          5160.93,
          0,
          4605.15,
          0,
          0,
          0,
          4006.88,
          0,
          0,
          5049.49,
          0,
          5643.31,
          3429.38,
          4793.1,
          5880.18,
          0,
          5387.28,
          2744.44,
          3977.49,
          0,
          3343.28,
          0,
          0,
          0,
          0,
          5567.29,
          0,
          0,
          0,
          4708.16,
          4238.51,
          5857.92,
          0,
          6466.58,
          5852.55,
          4401.35,
          0,
          0,
          0,
          3231.46,
          0,
          0,
          0,
          4814.95,
          4192.35,
          0,
          0,
          4690.89,
          4766.53,
          0,
          0,
          0,
          0,
          0,
          0,
          5929.51,
          0,
          2905.4,
          0,
          4869.89,
          5093.95,
          0,
          0,
          0,
          0,
          0,
          3583.09,
          0,
          0,
          4028.9,
          5314.82,
          5821.59,
          0,
          5800.56,
          5078.26,
          0,
          3840.58,
          0,
          5194.29,
          0,
          0,
          0,
          0,
          4217.37,
          4889.61,
          0,
          0,
          0,
          0,
          0,
          7021.04,
          0,
          2798.56,
          5199.3,
          0,
          4482.48,
          0,
          4560.81,
          5181.34,
          4497.18,
          0,
          4039.5,
          0,
          0,
          5251.48,
          0,
          0,
          0,
          4290.27,
          0,
          5994.39,
          6319.14,
          0,
          0,
          5496,
          5771.41,
          6029.44,
          0,
          4575.68,
          5862.6,
          2344.38,
          0,
          0,
          0,
          0,
          3970.06,
          4650.06,
          0,
          0,
          7696.22,
          4926.08,
          0,
          0,
          3981.96,
          0,
          5382.73,
          0,
          6096.35,
          0,
          0,
          0,
          0,
          0,
          3820.84,
          6301.43,
          5895.26,
          0,
          3667.79,
          3031.38,
          4339.94,
          0,
          5498.69,
          6047.97,
          0,
          6742.67,
          0,
          0,
          0,
          4111.03,
          5242.12,
          0,
          5936.74,
          6412.33,
          0,
          0,
          2760.4,
          0,
          0,
          0,
          3720.31,
          4414.57,
          0,
          0,
          0,
          0,
          5213.48,
          0,
          4757.98,
          0,
          4615.35,
          4556.16,
          0,
          0
         ],
         "yaxis": "y"
        },
        {
         "hovertemplate": "variable=Google Ads<br>Date=%{x}<br>value=%{y}<extra></extra>",
         "legendgroup": "Google Ads",
         "line": {
          "color": "#00cc96",
          "dash": "solid"
         },
         "marker": {
          "symbol": "circle"
         },
         "mode": "lines",
         "name": "Google Ads",
         "orientation": "v",
         "showlegend": true,
         "type": "scatter",
         "x": [
          "2018-01-07T00:00:00",
          null,
          null,
          null,
          "2018-02-04T00:00:00",
          "2018-02-11T00:00:00",
          null,
          null,
          "2018-03-04T00:00:00",
          "2018-03-11T00:00:00",
          null,
          null,
          "2018-04-01T00:00:00",
          "2018-04-08T00:00:00",
          null,
          null,
          null,
          "2018-05-06T00:00:00",
          null,
          null,
          null,
          "2018-06-03T00:00:00",
          "2018-06-10T00:00:00",
          null,
          null,
          "2018-07-01T00:00:00",
          "2018-07-08T00:00:00",
          null,
          null,
          null,
          "2018-08-05T00:00:00",
          "2018-08-12T00:00:00",
          null,
          null,
          "2018-09-02T00:00:00",
          "2018-09-09T00:00:00",
          null,
          null,
          null,
          "2018-10-07T00:00:00",
          null,
          null,
          null,
          "2018-11-04T00:00:00",
          "2018-11-11T00:00:00",
          null,
          null,
          "2018-12-02T00:00:00",
          "2018-12-09T00:00:00",
          null,
          null,
          null,
          "2019-01-06T00:00:00",
          null,
          null,
          null,
          "2019-02-03T00:00:00",
          "2019-02-10T00:00:00",
          null,
          null,
          "2019-03-03T00:00:00",
          "2019-03-10T00:00:00",
          null,
          null,
          null,
          "2019-04-07T00:00:00",
          null,
          null,
          null,
          "2019-05-05T00:00:00",
          "2019-05-12T00:00:00",
          null,
          null,
          "2019-06-02T00:00:00",
          "2019-06-09T00:00:00",
          null,
          null,
          null,
          "2019-07-07T00:00:00",
          null,
          null,
          null,
          "2019-08-04T00:00:00",
          "2019-08-11T00:00:00",
          null,
          null,
          "2019-09-01T00:00:00",
          "2019-09-08T00:00:00",
          null,
          null,
          null,
          "2019-10-06T00:00:00",
          null,
          null,
          null,
          "2019-11-03T00:00:00",
          "2019-11-10T00:00:00",
          null,
          null,
          "2019-12-01T00:00:00",
          "2019-12-08T00:00:00",
          null,
          null,
          null,
          "2020-01-05T00:00:00",
          "2020-01-12T00:00:00",
          null,
          null,
          "2020-02-02T00:00:00",
          "2020-02-09T00:00:00",
          null,
          null,
          "2020-03-01T00:00:00",
          "2020-03-08T00:00:00",
          null,
          null,
          null,
          "2020-04-05T00:00:00",
          "2020-04-12T00:00:00",
          null,
          null,
          "2020-05-03T00:00:00",
          "2020-05-10T00:00:00",
          null,
          null,
          null,
          "2020-06-07T00:00:00",
          null,
          null,
          null,
          "2020-07-05T00:00:00",
          "2020-07-12T00:00:00",
          null,
          null,
          "2020-08-02T00:00:00",
          "2020-08-09T00:00:00",
          null,
          null,
          null,
          "2020-09-06T00:00:00",
          null,
          null,
          null,
          "2020-10-04T00:00:00",
          "2020-10-11T00:00:00",
          null,
          null,
          "2020-11-01T00:00:00",
          "2020-11-08T00:00:00",
          null,
          null,
          null,
          "2020-12-06T00:00:00",
          null,
          null,
          null,
          "2021-01-03T00:00:00",
          "2021-01-10T00:00:00",
          null,
          null,
          null,
          "2021-02-07T00:00:00",
          null,
          null,
          null,
          "2021-03-07T00:00:00",
          null,
          null,
          null,
          "2021-04-04T00:00:00",
          "2021-04-11T00:00:00",
          null,
          null,
          "2021-05-02T00:00:00",
          "2021-05-09T00:00:00",
          null,
          null,
          null,
          "2021-06-06T00:00:00",
          null,
          null,
          null,
          "2021-07-04T00:00:00",
          "2021-07-11T00:00:00",
          null,
          null,
          "2021-08-01T00:00:00",
          "2021-08-08T00:00:00",
          null,
          null,
          null,
          "2021-09-05T00:00:00",
          "2021-09-12T00:00:00",
          null,
          null,
          "2021-10-03T00:00:00",
          "2021-10-10T00:00:00",
          null,
          null,
          null
         ],
         "xaxis": "x",
         "y": [
          0,
          2218.93,
          2046.96,
          0,
          2187.29,
          1992.98,
          2253.02,
          2042.3,
          1859.02,
          2135.99,
          0,
          0,
          0,
          0,
          1839.37,
          1907.13,
          2204.36,
          1889.49,
          1922.63,
          1897.94,
          2036.79,
          1922.9,
          1679.63,
          0,
          0,
          0,
          2162.53,
          2117.45,
          1898.93,
          0,
          1898.5,
          0,
          2499.44,
          0,
          0,
          1743.09,
          1979.13,
          1802.4,
          1764.47,
          1771.96,
          2351,
          1973.4,
          0,
          0,
          0,
          2144.01,
          0,
          2060.72,
          2154.54,
          1667.68,
          2089.64,
          2339.24,
          1997.03,
          2164.28,
          2134.11,
          1858.5,
          2007.95,
          1686.6,
          1909.74,
          2053.14,
          2144.62,
          2004.92,
          2144,
          1779.42,
          0,
          2003.86,
          0,
          1957.17,
          1900.2,
          2004.27,
          0,
          2038.55,
          1926.99,
          1641.73,
          1988.28,
          0,
          1673.52,
          1986.57,
          2297.87,
          2104.26,
          2122.39,
          0,
          2095.38,
          2029.69,
          2105.81,
          2084.53,
          0,
          0,
          0,
          1989.98,
          0,
          2262.49,
          1828.21,
          1820.21,
          2014.92,
          1784.58,
          1915.07,
          1834.01,
          2282.23,
          2157.16,
          0,
          1921.76,
          2188.18,
          2081.04,
          2099.61,
          1994.76,
          1662.35,
          0,
          1893.5,
          2129.01,
          2202.37,
          1868.41,
          2093.68,
          0,
          0,
          2336.38,
          1829.48,
          0,
          1997.77,
          2002.3,
          0,
          1881.76,
          0,
          2065.39,
          2066.01,
          2445.19,
          2274.2,
          0,
          2064.97,
          2199.42,
          0,
          1986.07,
          2010.31,
          2173.46,
          1830.34,
          1934.87,
          0,
          2062.29,
          0,
          0,
          2194.51,
          0,
          2081.28,
          1961.36,
          2151.15,
          1892.17,
          0,
          0,
          0,
          1769.21,
          1930.41,
          0,
          1793.47,
          1912.65,
          0,
          1918.79,
          1892.95,
          2005.08,
          2230.84,
          2034.5,
          2004.21,
          2019.89,
          2045.48,
          1796.65,
          1977.04,
          0,
          1725.85,
          2173.13,
          2216.28,
          1873.72,
          1951.73,
          1824.36,
          2139.88,
          1787.76,
          1955.5,
          0,
          2010.19,
          1641.15,
          2265.29,
          1807.08,
          2011.98,
          1957.5,
          1847.58,
          1822.44,
          2187.28,
          1894.87,
          2054.23,
          1839.7,
          0,
          2094.45,
          2186.08,
          1964.94,
          1715.62,
          2399.59,
          0,
          1691.68,
          2518.88,
          1919.19,
          1707.65,
          1863.31
         ],
         "yaxis": "y"
        },
        {
         "hovertemplate": "variable=Sales<br>Date=%{x}<br>value=%{y}<extra></extra>",
         "legendgroup": "Sales",
         "line": {
          "color": "#ab63fa",
          "dash": "solid"
         },
         "marker": {
          "symbol": "circle"
         },
         "mode": "lines",
         "name": "Sales",
         "orientation": "v",
         "showlegend": true,
         "type": "scatter",
         "x": [
          "2018-01-07T00:00:00",
          null,
          null,
          null,
          "2018-02-04T00:00:00",
          "2018-02-11T00:00:00",
          null,
          null,
          "2018-03-04T00:00:00",
          "2018-03-11T00:00:00",
          null,
          null,
          "2018-04-01T00:00:00",
          "2018-04-08T00:00:00",
          null,
          null,
          null,
          "2018-05-06T00:00:00",
          null,
          null,
          null,
          "2018-06-03T00:00:00",
          "2018-06-10T00:00:00",
          null,
          null,
          "2018-07-01T00:00:00",
          "2018-07-08T00:00:00",
          null,
          null,
          null,
          "2018-08-05T00:00:00",
          "2018-08-12T00:00:00",
          null,
          null,
          "2018-09-02T00:00:00",
          "2018-09-09T00:00:00",
          null,
          null,
          null,
          "2018-10-07T00:00:00",
          null,
          null,
          null,
          "2018-11-04T00:00:00",
          "2018-11-11T00:00:00",
          null,
          null,
          "2018-12-02T00:00:00",
          "2018-12-09T00:00:00",
          null,
          null,
          null,
          "2019-01-06T00:00:00",
          null,
          null,
          null,
          "2019-02-03T00:00:00",
          "2019-02-10T00:00:00",
          null,
          null,
          "2019-03-03T00:00:00",
          "2019-03-10T00:00:00",
          null,
          null,
          null,
          "2019-04-07T00:00:00",
          null,
          null,
          null,
          "2019-05-05T00:00:00",
          "2019-05-12T00:00:00",
          null,
          null,
          "2019-06-02T00:00:00",
          "2019-06-09T00:00:00",
          null,
          null,
          null,
          "2019-07-07T00:00:00",
          null,
          null,
          null,
          "2019-08-04T00:00:00",
          "2019-08-11T00:00:00",
          null,
          null,
          "2019-09-01T00:00:00",
          "2019-09-08T00:00:00",
          null,
          null,
          null,
          "2019-10-06T00:00:00",
          null,
          null,
          null,
          "2019-11-03T00:00:00",
          "2019-11-10T00:00:00",
          null,
          null,
          "2019-12-01T00:00:00",
          "2019-12-08T00:00:00",
          null,
          null,
          null,
          "2020-01-05T00:00:00",
          "2020-01-12T00:00:00",
          null,
          null,
          "2020-02-02T00:00:00",
          "2020-02-09T00:00:00",
          null,
          null,
          "2020-03-01T00:00:00",
          "2020-03-08T00:00:00",
          null,
          null,
          null,
          "2020-04-05T00:00:00",
          "2020-04-12T00:00:00",
          null,
          null,
          "2020-05-03T00:00:00",
          "2020-05-10T00:00:00",
          null,
          null,
          null,
          "2020-06-07T00:00:00",
          null,
          null,
          null,
          "2020-07-05T00:00:00",
          "2020-07-12T00:00:00",
          null,
          null,
          "2020-08-02T00:00:00",
          "2020-08-09T00:00:00",
          null,
          null,
          null,
          "2020-09-06T00:00:00",
          null,
          null,
          null,
          "2020-10-04T00:00:00",
          "2020-10-11T00:00:00",
          null,
          null,
          "2020-11-01T00:00:00",
          "2020-11-08T00:00:00",
          null,
          null,
          null,
          "2020-12-06T00:00:00",
          null,
          null,
          null,
          "2021-01-03T00:00:00",
          "2021-01-10T00:00:00",
          null,
          null,
          null,
          "2021-02-07T00:00:00",
          null,
          null,
          null,
          "2021-03-07T00:00:00",
          null,
          null,
          null,
          "2021-04-04T00:00:00",
          "2021-04-11T00:00:00",
          null,
          null,
          "2021-05-02T00:00:00",
          "2021-05-09T00:00:00",
          null,
          null,
          null,
          "2021-06-06T00:00:00",
          null,
          null,
          null,
          "2021-07-04T00:00:00",
          "2021-07-11T00:00:00",
          null,
          null,
          "2021-08-01T00:00:00",
          "2021-08-08T00:00:00",
          null,
          null,
          null,
          "2021-09-05T00:00:00",
          "2021-09-12T00:00:00",
          null,
          null,
          "2021-10-03T00:00:00",
          "2021-10-10T00:00:00",
          null,
          null,
          null
         ],
         "xaxis": "x",
         "y": [
          9779.8,
          13245.19,
          12022.66,
          8846.95,
          9797.07,
          13527.65,
          9635.43,
          15355.11,
          12199.37,
          11368.23,
          8640.44,
          4960.26,
          12726.46,
          11421.71,
          10875.31,
          13048.08,
          10775.86,
          15013.62,
          14158.32,
          15918.14,
          11128.75,
          12170.36,
          10134.7,
          11093.55,
          8170.63,
          6542.71,
          11325.8,
          7793.24,
          15010.94,
          10634.31,
          11751.39,
          9151.2,
          9141.46,
          7399.92,
          10893.16,
          11550.47,
          8672.09,
          9427.22,
          8036.91,
          11240.58,
          12386.83,
          12513.84,
          12235.08,
          11895.78,
          10047.41,
          9705.39,
          8847.19,
          10379.07,
          11312.48,
          8226.23,
          13966.11,
          13460.32,
          15742.61,
          10440.98,
          8535.49,
          7801.58,
          9570.01,
          7854.78,
          8067.55,
          7848.26,
          14012.71,
          16127.45,
          11636.97,
          8193.65,
          9451.61,
          11454.02,
          5526.84,
          7677.52,
          8084.98,
          7456.56,
          5365.18,
          8134.16,
          10065.53,
          10878.94,
          11524.63,
          6563.85,
          14165.57,
          15624.56,
          11305.04,
          8245.57,
          7676.64,
          5023.53,
          8058.85,
          9902.44,
          8058.05,
          7498.36,
          12216.8,
          11042.8,
          10713.92,
          9130.06,
          7325.82,
          15292.36,
          11571.92,
          10464.3,
          9229.31,
          9964.76,
          8018.56,
          7278.85,
          8467.44,
          7620.08,
          7353.99,
          12947.48,
          10250.78,
          13096.57,
          10843.3,
          9702.32,
          11509.72,
          10862.91,
          14894.3,
          12071.16,
          16592.25,
          12441.24,
          12279.8,
          6790.08,
          11909.22,
          13496.33,
          12297.33,
          6378.02,
          14447.22,
          14199.63,
          8818.6,
          11735.1,
          10804.46,
          10008.84,
          13038.94,
          12997.57,
          13131.68,
          14703.9,
          17668.34,
          13267.43,
          8106.56,
          11182.44,
          10886.67,
          11160.91,
          7160.31,
          14452.13,
          11189.87,
          15012.92,
          8606.27,
          5991.27,
          8239.06,
          5561.95,
          9797.26,
          14673.81,
          11598.35,
          13368.12,
          14428.14,
          11172.84,
          6340.56,
          8095.38,
          9268.66,
          4532.33,
          10982.62,
          8447.64,
          7617.05,
          7610.02,
          7849.88,
          7104.61,
          8447.4,
          7885.48,
          9992.42,
          11322.95,
          15977.27,
          14259.48,
          12886.05,
          9131.86,
          10953.39,
          8574.23,
          14958.05,
          13543.21,
          13867.08,
          13854.92,
          10895.22,
          7854.4,
          7405.54,
          7705.26,
          10888.41,
          7715.63,
          10581.72,
          11218.58,
          12789.7,
          9923.23,
          9781.83,
          11570.62,
          12294.54,
          9745.9,
          11918.41,
          10983.4,
          8944.74,
          13131.49,
          14669.4,
          13843.33,
          14024.53,
          13315.79,
          10237.24,
          9030.17,
          15904.11,
          12839.29,
          9063.45,
          7250.21
         ],
         "yaxis": "y"
        }
       ],
       "layout": {
        "legend": {
         "title": {
          "text": "variable"
         },
         "tracegroupgap": 0
        },
        "margin": {
         "t": 60
        },
        "template": {
         "data": {
          "bar": [
           {
            "error_x": {
             "color": "#2a3f5f"
            },
            "error_y": {
             "color": "#2a3f5f"
            },
            "marker": {
             "line": {
              "color": "#E5ECF6",
              "width": 0.5
             },
             "pattern": {
              "fillmode": "overlay",
              "size": 10,
              "solidity": 0.2
             }
            },
            "type": "bar"
           }
          ],
          "barpolar": [
           {
            "marker": {
             "line": {
              "color": "#E5ECF6",
              "width": 0.5
             },
             "pattern": {
              "fillmode": "overlay",
              "size": 10,
              "solidity": 0.2
             }
            },
            "type": "barpolar"
           }
          ],
          "carpet": [
           {
            "aaxis": {
             "endlinecolor": "#2a3f5f",
             "gridcolor": "white",
             "linecolor": "white",
             "minorgridcolor": "white",
             "startlinecolor": "#2a3f5f"
            },
            "baxis": {
             "endlinecolor": "#2a3f5f",
             "gridcolor": "white",
             "linecolor": "white",
             "minorgridcolor": "white",
             "startlinecolor": "#2a3f5f"
            },
            "type": "carpet"
           }
          ],
          "choropleth": [
           {
            "colorbar": {
             "outlinewidth": 0,
             "ticks": ""
            },
            "type": "choropleth"
           }
          ],
          "contour": [
           {
            "colorbar": {
             "outlinewidth": 0,
             "ticks": ""
            },
            "colorscale": [
             [
              0,
              "#0d0887"
             ],
             [
              0.1111111111111111,
              "#46039f"
             ],
             [
              0.2222222222222222,
              "#7201a8"
             ],
             [
              0.3333333333333333,
              "#9c179e"
             ],
             [
              0.4444444444444444,
              "#bd3786"
             ],
             [
              0.5555555555555556,
              "#d8576b"
             ],
             [
              0.6666666666666666,
              "#ed7953"
             ],
             [
              0.7777777777777778,
              "#fb9f3a"
             ],
             [
              0.8888888888888888,
              "#fdca26"
             ],
             [
              1,
              "#f0f921"
             ]
            ],
            "type": "contour"
           }
          ],
          "contourcarpet": [
           {
            "colorbar": {
             "outlinewidth": 0,
             "ticks": ""
            },
            "type": "contourcarpet"
           }
          ],
          "heatmap": [
           {
            "colorbar": {
             "outlinewidth": 0,
             "ticks": ""
            },
            "colorscale": [
             [
              0,
              "#0d0887"
             ],
             [
              0.1111111111111111,
              "#46039f"
             ],
             [
              0.2222222222222222,
              "#7201a8"
             ],
             [
              0.3333333333333333,
              "#9c179e"
             ],
             [
              0.4444444444444444,
              "#bd3786"
             ],
             [
              0.5555555555555556,
              "#d8576b"
             ],
             [
              0.6666666666666666,
              "#ed7953"
             ],
             [
              0.7777777777777778,
              "#fb9f3a"
             ],
             [
              0.8888888888888888,
              "#fdca26"
             ],
             [
              1,
              "#f0f921"
             ]
            ],
            "type": "heatmap"
           }
          ],
          "heatmapgl": [
           {
            "colorbar": {
             "outlinewidth": 0,
             "ticks": ""
            },
            "colorscale": [
             [
              0,
              "#0d0887"
             ],
             [
              0.1111111111111111,
              "#46039f"
             ],
             [
              0.2222222222222222,
              "#7201a8"
             ],
             [
              0.3333333333333333,
              "#9c179e"
             ],
             [
              0.4444444444444444,
              "#bd3786"
             ],
             [
              0.5555555555555556,
              "#d8576b"
             ],
             [
              0.6666666666666666,
              "#ed7953"
             ],
             [
              0.7777777777777778,
              "#fb9f3a"
             ],
             [
              0.8888888888888888,
              "#fdca26"
             ],
             [
              1,
              "#f0f921"
             ]
            ],
            "type": "heatmapgl"
           }
          ],
          "histogram": [
           {
            "marker": {
             "pattern": {
              "fillmode": "overlay",
              "size": 10,
              "solidity": 0.2
             }
            },
            "type": "histogram"
           }
          ],
          "histogram2d": [
           {
            "colorbar": {
             "outlinewidth": 0,
             "ticks": ""
            },
            "colorscale": [
             [
              0,
              "#0d0887"
             ],
             [
              0.1111111111111111,
              "#46039f"
             ],
             [
              0.2222222222222222,
              "#7201a8"
             ],
             [
              0.3333333333333333,
              "#9c179e"
             ],
             [
              0.4444444444444444,
              "#bd3786"
             ],
             [
              0.5555555555555556,
              "#d8576b"
             ],
             [
              0.6666666666666666,
              "#ed7953"
             ],
             [
              0.7777777777777778,
              "#fb9f3a"
             ],
             [
              0.8888888888888888,
              "#fdca26"
             ],
             [
              1,
              "#f0f921"
             ]
            ],
            "type": "histogram2d"
           }
          ],
          "histogram2dcontour": [
           {
            "colorbar": {
             "outlinewidth": 0,
             "ticks": ""
            },
            "colorscale": [
             [
              0,
              "#0d0887"
             ],
             [
              0.1111111111111111,
              "#46039f"
             ],
             [
              0.2222222222222222,
              "#7201a8"
             ],
             [
              0.3333333333333333,
              "#9c179e"
             ],
             [
              0.4444444444444444,
              "#bd3786"
             ],
             [
              0.5555555555555556,
              "#d8576b"
             ],
             [
              0.6666666666666666,
              "#ed7953"
             ],
             [
              0.7777777777777778,
              "#fb9f3a"
             ],
             [
              0.8888888888888888,
              "#fdca26"
             ],
             [
              1,
              "#f0f921"
             ]
            ],
            "type": "histogram2dcontour"
           }
          ],
          "mesh3d": [
           {
            "colorbar": {
             "outlinewidth": 0,
             "ticks": ""
            },
            "type": "mesh3d"
           }
          ],
          "parcoords": [
           {
            "line": {
             "colorbar": {
              "outlinewidth": 0,
              "ticks": ""
             }
            },
            "type": "parcoords"
           }
          ],
          "pie": [
           {
            "automargin": true,
            "type": "pie"
           }
          ],
          "scatter": [
           {
            "fillpattern": {
             "fillmode": "overlay",
             "size": 10,
             "solidity": 0.2
            },
            "type": "scatter"
           }
          ],
          "scatter3d": [
           {
            "line": {
             "colorbar": {
              "outlinewidth": 0,
              "ticks": ""
             }
            },
            "marker": {
             "colorbar": {
              "outlinewidth": 0,
              "ticks": ""
             }
            },
            "type": "scatter3d"
           }
          ],
          "scattercarpet": [
           {
            "marker": {
             "colorbar": {
              "outlinewidth": 0,
              "ticks": ""
             }
            },
            "type": "scattercarpet"
           }
          ],
          "scattergeo": [
           {
            "marker": {
             "colorbar": {
              "outlinewidth": 0,
              "ticks": ""
             }
            },
            "type": "scattergeo"
           }
          ],
          "scattergl": [
           {
            "marker": {
             "colorbar": {
              "outlinewidth": 0,
              "ticks": ""
             }
            },
            "type": "scattergl"
           }
          ],
          "scattermapbox": [
           {
            "marker": {
             "colorbar": {
              "outlinewidth": 0,
              "ticks": ""
             }
            },
            "type": "scattermapbox"
           }
          ],
          "scatterpolar": [
           {
            "marker": {
             "colorbar": {
              "outlinewidth": 0,
              "ticks": ""
             }
            },
            "type": "scatterpolar"
           }
          ],
          "scatterpolargl": [
           {
            "marker": {
             "colorbar": {
              "outlinewidth": 0,
              "ticks": ""
             }
            },
            "type": "scatterpolargl"
           }
          ],
          "scatterternary": [
           {
            "marker": {
             "colorbar": {
              "outlinewidth": 0,
              "ticks": ""
             }
            },
            "type": "scatterternary"
           }
          ],
          "surface": [
           {
            "colorbar": {
             "outlinewidth": 0,
             "ticks": ""
            },
            "colorscale": [
             [
              0,
              "#0d0887"
             ],
             [
              0.1111111111111111,
              "#46039f"
             ],
             [
              0.2222222222222222,
              "#7201a8"
             ],
             [
              0.3333333333333333,
              "#9c179e"
             ],
             [
              0.4444444444444444,
              "#bd3786"
             ],
             [
              0.5555555555555556,
              "#d8576b"
             ],
             [
              0.6666666666666666,
              "#ed7953"
             ],
             [
              0.7777777777777778,
              "#fb9f3a"
             ],
             [
              0.8888888888888888,
              "#fdca26"
             ],
             [
              1,
              "#f0f921"
             ]
            ],
            "type": "surface"
           }
          ],
          "table": [
           {
            "cells": {
             "fill": {
              "color": "#EBF0F8"
             },
             "line": {
              "color": "white"
             }
            },
            "header": {
             "fill": {
              "color": "#C8D4E3"
             },
             "line": {
              "color": "white"
             }
            },
            "type": "table"
           }
          ]
         },
         "layout": {
          "annotationdefaults": {
           "arrowcolor": "#2a3f5f",
           "arrowhead": 0,
           "arrowwidth": 1
          },
          "autotypenumbers": "strict",
          "coloraxis": {
           "colorbar": {
            "outlinewidth": 0,
            "ticks": ""
           }
          },
          "colorscale": {
           "diverging": [
            [
             0,
             "#8e0152"
            ],
            [
             0.1,
             "#c51b7d"
            ],
            [
             0.2,
             "#de77ae"
            ],
            [
             0.3,
             "#f1b6da"
            ],
            [
             0.4,
             "#fde0ef"
            ],
            [
             0.5,
             "#f7f7f7"
            ],
            [
             0.6,
             "#e6f5d0"
            ],
            [
             0.7,
             "#b8e186"
            ],
            [
             0.8,
             "#7fbc41"
            ],
            [
             0.9,
             "#4d9221"
            ],
            [
             1,
             "#276419"
            ]
           ],
           "sequential": [
            [
             0,
             "#0d0887"
            ],
            [
             0.1111111111111111,
             "#46039f"
            ],
            [
             0.2222222222222222,
             "#7201a8"
            ],
            [
             0.3333333333333333,
             "#9c179e"
            ],
            [
             0.4444444444444444,
             "#bd3786"
            ],
            [
             0.5555555555555556,
             "#d8576b"
            ],
            [
             0.6666666666666666,
             "#ed7953"
            ],
            [
             0.7777777777777778,
             "#fb9f3a"
            ],
            [
             0.8888888888888888,
             "#fdca26"
            ],
            [
             1,
             "#f0f921"
            ]
           ],
           "sequentialminus": [
            [
             0,
             "#0d0887"
            ],
            [
             0.1111111111111111,
             "#46039f"
            ],
            [
             0.2222222222222222,
             "#7201a8"
            ],
            [
             0.3333333333333333,
             "#9c179e"
            ],
            [
             0.4444444444444444,
             "#bd3786"
            ],
            [
             0.5555555555555556,
             "#d8576b"
            ],
            [
             0.6666666666666666,
             "#ed7953"
            ],
            [
             0.7777777777777778,
             "#fb9f3a"
            ],
            [
             0.8888888888888888,
             "#fdca26"
            ],
            [
             1,
             "#f0f921"
            ]
           ]
          },
          "colorway": [
           "#636efa",
           "#EF553B",
           "#00cc96",
           "#ab63fa",
           "#FFA15A",
           "#19d3f3",
           "#FF6692",
           "#B6E880",
           "#FF97FF",
           "#FECB52"
          ],
          "font": {
           "color": "#2a3f5f"
          },
          "geo": {
           "bgcolor": "white",
           "lakecolor": "white",
           "landcolor": "#E5ECF6",
           "showlakes": true,
           "showland": true,
           "subunitcolor": "white"
          },
          "hoverlabel": {
           "align": "left"
          },
          "hovermode": "closest",
          "mapbox": {
           "style": "light"
          },
          "paper_bgcolor": "white",
          "plot_bgcolor": "#E5ECF6",
          "polar": {
           "angularaxis": {
            "gridcolor": "white",
            "linecolor": "white",
            "ticks": ""
           },
           "bgcolor": "#E5ECF6",
           "radialaxis": {
            "gridcolor": "white",
            "linecolor": "white",
            "ticks": ""
           }
          },
          "scene": {
           "xaxis": {
            "backgroundcolor": "#E5ECF6",
            "gridcolor": "white",
            "gridwidth": 2,
            "linecolor": "white",
            "showbackground": true,
            "ticks": "",
            "zerolinecolor": "white"
           },
           "yaxis": {
            "backgroundcolor": "#E5ECF6",
            "gridcolor": "white",
            "gridwidth": 2,
            "linecolor": "white",
            "showbackground": true,
            "ticks": "",
            "zerolinecolor": "white"
           },
           "zaxis": {
            "backgroundcolor": "#E5ECF6",
            "gridcolor": "white",
            "gridwidth": 2,
            "linecolor": "white",
            "showbackground": true,
            "ticks": "",
            "zerolinecolor": "white"
           }
          },
          "shapedefaults": {
           "line": {
            "color": "#2a3f5f"
           }
          },
          "ternary": {
           "aaxis": {
            "gridcolor": "white",
            "linecolor": "white",
            "ticks": ""
           },
           "baxis": {
            "gridcolor": "white",
            "linecolor": "white",
            "ticks": ""
           },
           "bgcolor": "#E5ECF6",
           "caxis": {
            "gridcolor": "white",
            "linecolor": "white",
            "ticks": ""
           }
          },
          "title": {
           "x": 0.05
          },
          "xaxis": {
           "automargin": true,
           "gridcolor": "white",
           "linecolor": "white",
           "ticks": "",
           "title": {
            "standoff": 15
           },
           "zerolinecolor": "white",
           "zerolinewidth": 2
          },
          "yaxis": {
           "automargin": true,
           "gridcolor": "white",
           "linecolor": "white",
           "ticks": "",
           "title": {
            "standoff": 15
           },
           "zerolinecolor": "white",
           "zerolinewidth": 2
          }
         }
        },
        "xaxis": {
         "anchor": "y",
         "domain": [
          0,
          1
         ],
         "title": {
          "text": "Date"
         }
        },
        "yaxis": {
         "anchor": "x",
         "domain": [
          0,
          1
         ],
         "title": {
          "text": "value"
         }
        }
       }
      }
     },
     "metadata": {},
     "output_type": "display_data"
    },
    {
     "data": {
      "image/png": "[encoded data removed]",
      "text/plain": [
       "<Figure size 1000x600 with 1 Axes>"
      ]
     },
     "metadata": {},
     "output_type": "display_data"
    }
   ],
   "source": [
    "import matplotlib.pyplot as plt\n",
    "import plotly.express as px  # Add this line to import Plotly Express\n",
    "\n",
    "fig, axes = plt.subplots(figsize=(10, 6))\n",
    "df.boxplot(column=['TikTok', 'Facebook', 'Google Ads', 'Sales'])\n",
    "\n",
    "figure = px.line(df, x='Date', y=df.columns)\n",
    "figure.show()\n"
   ]
  },
  {
   "cell_type": "code",
   "execution_count": 33,
   "metadata": {},
   "outputs": [
    {
     "data": {
      "image/png": "[encoded data removed]",
      "text/plain": [
       "<Figure size 1000x1000 with 6 Axes>"
      ]
     },
     "metadata": {},
     "output_type": "display_data"
    }
   ],
   "source": [
    "df.hist(figsize=(10,10))\n",
    "plt.show()"
   ]
  },
  {
   "cell_type": "code",
   "execution_count": 34,
   "metadata": {},
   "outputs": [],
   "source": [
    "percentile25 = df['Google Ads'].quantile(0.25)\n",
    "percentile75 = df['Google Ads'].quantile(0.75)"
   ]
  },
  {
   "cell_type": "code",
   "execution_count": 35,
   "metadata": {},
   "outputs": [
    {
     "name": "stdout",
     "output_type": "stream",
     "text": [
      "1657.195\n",
      "2069.7675\n"
     ]
    }
   ],
   "source": [
    "print(percentile25)\n",
    "print(percentile75)"
   ]
  },
  {
   "cell_type": "code",
   "execution_count": 36,
   "metadata": {},
   "outputs": [
    {
     "data": {
      "text/plain": [
       "412.5725"
      ]
     },
     "execution_count": 36,
     "metadata": {},
     "output_type": "execute_result"
    }
   ],
   "source": [
    "iqr = percentile75-percentile25\n",
    "iqr"
   ]
  },
  {
   "cell_type": "code",
   "execution_count": 37,
   "metadata": {},
   "outputs": [
    {
     "name": "stdout",
     "output_type": "stream",
     "text": [
      "2688.62625\n",
      "1038.3362499999998\n"
     ]
    }
   ],
   "source": [
    "upper_limit = percentile75 + 1.5 * iqr\n",
    "lower_limit = percentile25 - 1.5 * iqr\n",
    "print(upper_limit)\n",
    "print(lower_limit)"
   ]
  },
  {
   "cell_type": "code",
   "execution_count": 38,
   "metadata": {},
   "outputs": [
    {
     "name": "stdout",
     "output_type": "stream",
     "text": [
      "Empty DataFrame\n",
      "Columns: [Date, TikTok, Facebook, Google Ads, Sales]\n",
      "Index: []\n"
     ]
    }
   ],
   "source": [
    "print(df[df['Google Ads'] >upper_limit])"
   ]
  },
  {
   "cell_type": "code",
   "execution_count": 39,
   "metadata": {},
   "outputs": [
    {
     "name": "stdout",
     "output_type": "stream",
     "text": [
      "          Date    TikTok  Facebook  Google Ads     Sales\n",
      "0   2018-01-07  13528.10      0.00         0.0   9779.80\n",
      "3          NaT      0.00   3562.21         0.0   8846.95\n",
      "10         NaT      0.00   4520.34         0.0   8640.44\n",
      "11         NaT      0.00      0.00         0.0   4960.26\n",
      "12  2018-04-01  11522.08   5698.46         0.0  12726.46\n",
      "13  2018-04-08  10243.35      0.00         0.0  11421.71\n",
      "23         NaT   8515.67   4006.88         0.0  11093.55\n",
      "24         NaT      0.00      0.00         0.0   8170.63\n",
      "25  2018-07-01      0.00      0.00         0.0   6542.71\n",
      "29         NaT      0.00   3429.38         0.0  10634.31\n",
      "31  2018-08-12      0.00   5880.18         0.0   9151.20\n",
      "33         NaT      0.00   5387.28         0.0   7399.92\n",
      "34  2018-09-02   9304.18   2744.44         0.0  10893.16\n",
      "42         NaT   6587.46   5567.29         0.0  12235.08\n",
      "43  2018-11-04  13901.55      0.00         0.0  11895.78\n",
      "44  2018-11-11      0.00      0.00         0.0  10047.41\n",
      "46         NaT      0.00   4708.16         0.0   8847.19\n",
      "64         NaT      0.00   4690.89         0.0   9451.61\n",
      "66         NaT      0.00      0.00         0.0   5526.84\n",
      "70  2019-05-12      0.00      0.00         0.0   5365.18\n",
      "75         NaT      0.00      0.00         0.0   6563.85\n",
      "81         NaT      0.00      0.00         0.0   5023.53\n",
      "86  2019-09-01  12357.56   4028.90         0.0  12216.80\n",
      "87  2019-09-08      0.00   5314.82         0.0  11042.80\n",
      "88         NaT      0.00   5821.59         0.0  10713.92\n",
      "90         NaT      0.00   5800.56         0.0   7325.82\n",
      "100 2019-12-08      0.00   4217.37         0.0   7353.99\n",
      "107        NaT      0.00   7021.04         0.0  10862.91\n",
      "113 2020-03-08      0.00      0.00         0.0   6790.08\n",
      "114        NaT   9463.99   4560.81         0.0  11909.22\n",
      "117 2020-04-05      0.00      0.00         0.0   6378.02\n",
      "120        NaT      0.00      0.00         0.0   8818.60\n",
      "122 2020-05-10  10596.48      0.00         0.0  10804.46\n",
      "127        NaT  13698.53   5994.39         0.0  14703.90\n",
      "130 2020-07-05      0.00      0.00         0.0   8106.56\n",
      "136        NaT      0.00   5862.60         0.0  11189.87\n",
      "138        NaT      0.00      0.00         0.0   8606.27\n",
      "139 2020-09-06      0.00      0.00         0.0   5991.27\n",
      "141        NaT      0.00      0.00         0.0   5561.95\n",
      "146        NaT   8174.36   7696.22         0.0  14428.14\n",
      "147 2020-11-01      0.00   4926.08         0.0  11172.84\n",
      "148 2020-11-08      0.00      0.00         0.0   6340.56\n",
      "151        NaT      0.00      0.00         0.0   4532.33\n",
      "154        NaT      0.00   6096.35         0.0   7617.05\n",
      "165 2021-03-07      0.00   3031.38         0.0   9131.86\n",
      "175        NaT      0.00   4111.03         0.0   7705.26\n",
      "188        NaT   8520.87      0.00         0.0   8944.74\n",
      "194        NaT      0.00   4757.98         0.0  10237.24\n"
     ]
    }
   ],
   "source": [
    "print(df[df['Google Ads']  < lower_limit])"
   ]
  },
  {
   "cell_type": "code",
   "execution_count": 40,
   "metadata": {},
   "outputs": [
    {
     "name": "stdout",
     "output_type": "stream",
     "text": [
      "          Date    TikTok  Facebook  Google Ads     Sales\n",
      "0   2018-01-07  13528.10      0.00        0.00   9779.80\n",
      "1          NaT      0.00   5349.65     2218.93  13245.19\n",
      "2          NaT      0.00   4235.86     2046.96  12022.66\n",
      "3          NaT      0.00   3562.21        0.00   8846.95\n",
      "4   2018-02-04      0.00      0.00     2187.29   9797.07\n",
      "..         ...       ...       ...         ...       ...\n",
      "195 2021-10-03      0.00      0.00     1691.68   9030.17\n",
      "196 2021-10-10  11543.58   4615.35     2518.88  15904.11\n",
      "197        NaT      0.00   4556.16     1919.19  12839.29\n",
      "198        NaT      0.00      0.00     1707.65   9063.45\n",
      "199        NaT      0.00      0.00     1863.31   7250.21\n",
      "\n",
      "[200 rows x 5 columns]\n"
     ]
    },
    {
     "data": {
      "text/plain": [
       "(200, 5)"
      ]
     },
     "execution_count": 40,
     "metadata": {},
     "output_type": "execute_result"
    }
   ],
   "source": [
    "new_df = df[df['Google Ads'] < upper_limit]\n",
    "print(new_df)\n",
    "new_df.shape"
   ]
  },
  {
   "cell_type": "code",
   "execution_count": 41,
   "metadata": {},
   "outputs": [],
   "source": [
    "import seaborn as sns"
   ]
  },
  {
   "cell_type": "code",
   "execution_count": 42,
   "metadata": {},
   "outputs": [
    {
     "name": "stderr",
     "output_type": "stream",
     "text": [
      "C:\\Users\\manil\\AppData\\Local\\Temp\\ipykernel_8468\\22313493.py:3: UserWarning:\n",
      "\n",
      "\n",
      "\n",
      "`distplot` is a deprecated function and will be removed in seaborn v0.14.0.\n",
      "\n",
      "Please adapt your code to use either `displot` (a figure-level function with\n",
      "similar flexibility) or `histplot` (an axes-level function for histograms).\n",
      "\n",
      "For a guide to updating your code to use the new functions, please see\n",
      "https://gist.github.com/mwaskom/de44147ed2974457ad6372750bbe5751\n",
      "\n",
      "\n",
      "C:\\Users\\manil\\AppData\\Local\\Temp\\ipykernel_8468\\22313493.py:7: UserWarning:\n",
      "\n",
      "\n",
      "\n",
      "`distplot` is a deprecated function and will be removed in seaborn v0.14.0.\n",
      "\n",
      "Please adapt your code to use either `displot` (a figure-level function with\n",
      "similar flexibility) or `histplot` (an axes-level function for histograms).\n",
      "\n",
      "For a guide to updating your code to use the new functions, please see\n",
      "https://gist.github.com/mwaskom/de44147ed2974457ad6372750bbe5751\n",
      "\n",
      "\n"
     ]
    },
    {
     "data": {
      "image/png": "[encoded data removed]",
      "text/plain": [
       "<Figure size 1600x800 with 4 Axes>"
      ]
     },
     "metadata": {},
     "output_type": "display_data"
    }
   ],
   "source": [
    "\n",
    "plt.figure(figsize=(16,8))\n",
    "plt.subplot(2,2,1)\n",
    "sns.distplot(df['Google Ads'])\n",
    "plt.subplot(2,2,2)\n",
    "sns.boxplot(df['Google Ads'])\n",
    "plt.subplot(2,2,3)\n",
    "sns.distplot(new_df['Google Ads'])\n",
    "plt.subplot(2,2,4)\n",
    "sns.boxplot(new_df['Google Ads'])\n",
    "plt.show()"
   ]
  },
  {
   "cell_type": "code",
   "execution_count": 43,
   "metadata": {},
   "outputs": [],
   "source": [
    "import numpy as np"
   ]
  },
  {
   "cell_type": "code",
   "execution_count": 44,
   "metadata": {},
   "outputs": [],
   "source": [
    "df1 = df.copy()\n",
    "df1['Google Ads'] = np.where(\n",
    "    df1['Google Ads'] > upper_limit,upper_limit,\n",
    "    np.where(\n",
    "        df1['Google Ads'] < lower_limit,\n",
    "        lower_limit,\n",
    "      df1['Google Ads']  \n",
    "    )\n",
    ")"
   ]
  },
  {
   "cell_type": "code",
   "execution_count": 45,
   "metadata": {},
   "outputs": [
    {
     "data": {
      "text/html": [
       "<div>\n",
       "<style scoped>\n",
       "    .dataframe tbody tr th:only-of-type {\n",
       "        vertical-align: middle;\n",
       "    }\n",
       "\n",
       "    .dataframe tbody tr th {\n",
       "        vertical-align: top;\n",
       "    }\n",
       "\n",
       "    .dataframe thead th {\n",
       "        text-align: right;\n",
       "    }\n",
       "</style>\n",
       "<table border=\"1\" class=\"dataframe\">\n",
       "  <thead>\n",
       "    <tr style=\"text-align: right;\">\n",
       "      <th></th>\n",
       "      <th>Date</th>\n",
       "      <th>TikTok</th>\n",
       "      <th>Facebook</th>\n",
       "      <th>Google Ads</th>\n",
       "      <th>Sales</th>\n",
       "    </tr>\n",
       "  </thead>\n",
       "  <tbody>\n",
       "    <tr>\n",
       "      <th>0</th>\n",
       "      <td>2018-01-07</td>\n",
       "      <td>13528.10</td>\n",
       "      <td>0.00</td>\n",
       "      <td>1038.33625</td>\n",
       "      <td>9779.80</td>\n",
       "    </tr>\n",
       "    <tr>\n",
       "      <th>1</th>\n",
       "      <td>NaT</td>\n",
       "      <td>0.00</td>\n",
       "      <td>5349.65</td>\n",
       "      <td>2218.93000</td>\n",
       "      <td>13245.19</td>\n",
       "    </tr>\n",
       "    <tr>\n",
       "      <th>2</th>\n",
       "      <td>NaT</td>\n",
       "      <td>0.00</td>\n",
       "      <td>4235.86</td>\n",
       "      <td>2046.96000</td>\n",
       "      <td>12022.66</td>\n",
       "    </tr>\n",
       "    <tr>\n",
       "      <th>3</th>\n",
       "      <td>NaT</td>\n",
       "      <td>0.00</td>\n",
       "      <td>3562.21</td>\n",
       "      <td>1038.33625</td>\n",
       "      <td>8846.95</td>\n",
       "    </tr>\n",
       "    <tr>\n",
       "      <th>4</th>\n",
       "      <td>2018-02-04</td>\n",
       "      <td>0.00</td>\n",
       "      <td>0.00</td>\n",
       "      <td>2187.29000</td>\n",
       "      <td>9797.07</td>\n",
       "    </tr>\n",
       "    <tr>\n",
       "      <th>...</th>\n",
       "      <td>...</td>\n",
       "      <td>...</td>\n",
       "      <td>...</td>\n",
       "      <td>...</td>\n",
       "      <td>...</td>\n",
       "    </tr>\n",
       "    <tr>\n",
       "      <th>195</th>\n",
       "      <td>2021-10-03</td>\n",
       "      <td>0.00</td>\n",
       "      <td>0.00</td>\n",
       "      <td>1691.68000</td>\n",
       "      <td>9030.17</td>\n",
       "    </tr>\n",
       "    <tr>\n",
       "      <th>196</th>\n",
       "      <td>2021-10-10</td>\n",
       "      <td>11543.58</td>\n",
       "      <td>4615.35</td>\n",
       "      <td>2518.88000</td>\n",
       "      <td>15904.11</td>\n",
       "    </tr>\n",
       "    <tr>\n",
       "      <th>197</th>\n",
       "      <td>NaT</td>\n",
       "      <td>0.00</td>\n",
       "      <td>4556.16</td>\n",
       "      <td>1919.19000</td>\n",
       "      <td>12839.29</td>\n",
       "    </tr>\n",
       "    <tr>\n",
       "      <th>198</th>\n",
       "      <td>NaT</td>\n",
       "      <td>0.00</td>\n",
       "      <td>0.00</td>\n",
       "      <td>1707.65000</td>\n",
       "      <td>9063.45</td>\n",
       "    </tr>\n",
       "    <tr>\n",
       "      <th>199</th>\n",
       "      <td>NaT</td>\n",
       "      <td>0.00</td>\n",
       "      <td>0.00</td>\n",
       "      <td>1863.31000</td>\n",
       "      <td>7250.21</td>\n",
       "    </tr>\n",
       "  </tbody>\n",
       "</table>\n",
       "<p>200 rows × 5 columns</p>\n",
       "</div>"
      ],
      "text/plain": [
       "          Date    TikTok  Facebook  Google Ads     Sales\n",
       "0   2018-01-07  13528.10      0.00  1038.33625   9779.80\n",
       "1          NaT      0.00   5349.65  2218.93000  13245.19\n",
       "2          NaT      0.00   4235.86  2046.96000  12022.66\n",
       "3          NaT      0.00   3562.21  1038.33625   8846.95\n",
       "4   2018-02-04      0.00      0.00  2187.29000   9797.07\n",
       "..         ...       ...       ...         ...       ...\n",
       "195 2021-10-03      0.00      0.00  1691.68000   9030.17\n",
       "196 2021-10-10  11543.58   4615.35  2518.88000  15904.11\n",
       "197        NaT      0.00   4556.16  1919.19000  12839.29\n",
       "198        NaT      0.00      0.00  1707.65000   9063.45\n",
       "199        NaT      0.00      0.00  1863.31000   7250.21\n",
       "\n",
       "[200 rows x 5 columns]"
      ]
     },
     "execution_count": 45,
     "metadata": {},
     "output_type": "execute_result"
    }
   ],
   "source": [
    "df1"
   ]
  },
  {
   "cell_type": "code",
   "execution_count": 46,
   "metadata": {},
   "outputs": [
    {
     "data": {
      "application/vnd.plotly.v1+json": {
       "config": {
        "plotlyServerURL": "https://plot.ly"
       },
       "data": [
        {
         "hovertemplate": "variable=TikTok<br>Date=%{x}<br>value=%{y}<extra></extra>",
         "legendgroup": "TikTok",
         "line": {
          "color": "#636efa",
          "dash": "solid"
         },
         "marker": {
          "symbol": "circle"
         },
         "mode": "lines",
         "name": "TikTok",
         "orientation": "v",
         "showlegend": true,
         "type": "scatter",
         "x": [
          "2018-01-07T00:00:00",
          null,
          null,
          null,
          "2018-02-04T00:00:00",
          "2018-02-11T00:00:00",
          null,
          null,
          "2018-03-04T00:00:00",
          "2018-03-11T00:00:00",
          null,
          null,
          "2018-04-01T00:00:00",
          "2018-04-08T00:00:00",
          null,
          null,
          null,
          "2018-05-06T00:00:00",
          null,
          null,
          null,
          "2018-06-03T00:00:00",
          "2018-06-10T00:00:00",
          null,
          null,
          "2018-07-01T00:00:00",
          "2018-07-08T00:00:00",
          null,
          null,
          null,
          "2018-08-05T00:00:00",
          "2018-08-12T00:00:00",
          null,
          null,
          "2018-09-02T00:00:00",
          "2018-09-09T00:00:00",
          null,
          null,
          null,
          "2018-10-07T00:00:00",
          null,
          null,
          null,
          "2018-11-04T00:00:00",
          "2018-11-11T00:00:00",
          null,
          null,
          "2018-12-02T00:00:00",
          "2018-12-09T00:00:00",
          null,
          null,
          null,
          "2019-01-06T00:00:00",
          null,
          null,
          null,
          "2019-02-03T00:00:00",
          "2019-02-10T00:00:00",
          null,
          null,
          "2019-03-03T00:00:00",
          "2019-03-10T00:00:00",
          null,
          null,
          null,
          "2019-04-07T00:00:00",
          null,
          null,
          null,
          "2019-05-05T00:00:00",
          "2019-05-12T00:00:00",
          null,
          null,
          "2019-06-02T00:00:00",
          "2019-06-09T00:00:00",
          null,
          null,
          null,
          "2019-07-07T00:00:00",
          null,
          null,
          null,
          "2019-08-04T00:00:00",
          "2019-08-11T00:00:00",
          null,
          null,
          "2019-09-01T00:00:00",
          "2019-09-08T00:00:00",
          null,
          null,
          null,
          "2019-10-06T00:00:00",
          null,
          null,
          null,
          "2019-11-03T00:00:00",
          "2019-11-10T00:00:00",
          null,
          null,
          "2019-12-01T00:00:00",
          "2019-12-08T00:00:00",
          null,
          null,
          null,
          "2020-01-05T00:00:00",
          "2020-01-12T00:00:00",
          null,
          null,
          "2020-02-02T00:00:00",
          "2020-02-09T00:00:00",
          null,
          null,
          "2020-03-01T00:00:00",
          "2020-03-08T00:00:00",
          null,
          null,
          null,
          "2020-04-05T00:00:00",
          "2020-04-12T00:00:00",
          null,
          null,
          "2020-05-03T00:00:00",
          "2020-05-10T00:00:00",
          null,
          null,
          null,
          "2020-06-07T00:00:00",
          null,
          null,
          null,
          "2020-07-05T00:00:00",
          "2020-07-12T00:00:00",
          null,
          null,
          "2020-08-02T00:00:00",
          "2020-08-09T00:00:00",
          null,
          null,
          null,
          "2020-09-06T00:00:00",
          null,
          null,
          null,
          "2020-10-04T00:00:00",
          "2020-10-11T00:00:00",
          null,
          null,
          "2020-11-01T00:00:00",
          "2020-11-08T00:00:00",
          null,
          null,
          null,
          "2020-12-06T00:00:00",
          null,
          null,
          null,
          "2021-01-03T00:00:00",
          "2021-01-10T00:00:00",
          null,
          null,
          null,
          "2021-02-07T00:00:00",
          null,
          null,
          null,
          "2021-03-07T00:00:00",
          null,
          null,
          null,
          "2021-04-04T00:00:00",
          "2021-04-11T00:00:00",
          null,
          null,
          "2021-05-02T00:00:00",
          "2021-05-09T00:00:00",
          null,
          null,
          null,
          "2021-06-06T00:00:00",
          null,
          null,
          null,
          "2021-07-04T00:00:00",
          "2021-07-11T00:00:00",
          null,
          null,
          "2021-08-01T00:00:00",
          "2021-08-08T00:00:00",
          null,
          null,
          null,
          "2021-09-05T00:00:00",
          "2021-09-12T00:00:00",
          null,
          null,
          "2021-10-03T00:00:00",
          "2021-10-10T00:00:00",
          null,
          null,
          null
         ],
         "xaxis": "x",
         "y": [
          13528.1,
          0,
          0,
          0,
          0,
          8045.44,
          0,
          9697.29,
          0,
          0,
          0,
          0,
          11522.08,
          10243.35,
          0,
          10667.35,
          0,
          9589.68,
          10626.14,
          8291.81,
          0,
          11307.24,
          0,
          8515.67,
          0,
          0,
          0,
          0,
          13065.56,
          0,
          0,
          0,
          0,
          0,
          9304.18,
          0,
          0,
          0,
          0,
          9395.39,
          7902.89,
          7159.96,
          6587.46,
          13901.55,
          0,
          0,
          0,
          0,
          0,
          0,
          8209.07,
          0,
          8978.39,
          0,
          0,
          0,
          0,
          0,
          0,
          0,
          8655.08,
          9280.89,
          0,
          0,
          0,
          0,
          0,
          0,
          0,
          0,
          0,
          0,
          0,
          7530.35,
          0,
          0,
          8258.41,
          8842.3,
          0,
          0,
          0,
          0,
          0,
          0,
          0,
          0,
          12357.56,
          0,
          0,
          0,
          0,
          12444.89,
          0,
          0,
          0,
          0,
          0,
          0,
          0,
          0,
          0,
          7304.48,
          0,
          11938.79,
          0,
          0,
          9172.76,
          0,
          13845.88,
          0,
          13735.12,
          0,
          0,
          0,
          9463.99,
          0,
          0,
          0,
          11228.16,
          11844.41,
          0,
          0,
          10596.48,
          0,
          8610.86,
          0,
          9129.69,
          13698.53,
          11344.59,
          0,
          0,
          0,
          0,
          0,
          0,
          11352.87,
          0,
          9583.4,
          0,
          0,
          0,
          0,
          0,
          11270.06,
          0,
          11888.96,
          8174.36,
          0,
          0,
          0,
          0,
          0,
          0,
          0,
          0,
          0,
          0,
          0,
          0,
          0,
          0,
          0,
          11898.84,
          10175.1,
          0,
          0,
          0,
          0,
          12376.06,
          0,
          11841.72,
          0,
          0,
          0,
          0,
          0,
          0,
          0,
          0,
          0,
          9292.01,
          0,
          0,
          5553.19,
          11250.46,
          0,
          0,
          0,
          8520.87,
          13086.03,
          7414.29,
          10534.1,
          0,
          7663.81,
          0,
          0,
          11543.58,
          0,
          0,
          0
         ],
         "yaxis": "y"
        },
        {
         "hovertemplate": "variable=Facebook<br>Date=%{x}<br>value=%{y}<extra></extra>",
         "legendgroup": "Facebook",
         "line": {
          "color": "#EF553B",
          "dash": "solid"
         },
         "marker": {
          "symbol": "circle"
         },
         "mode": "lines",
         "name": "Facebook",
         "orientation": "v",
         "showlegend": true,
         "type": "scatter",
         "x": [
          "2018-01-07T00:00:00",
          null,
          null,
          null,
          "2018-02-04T00:00:00",
          "2018-02-11T00:00:00",
          null,
          null,
          "2018-03-04T00:00:00",
          "2018-03-11T00:00:00",
          null,
          null,
          "2018-04-01T00:00:00",
          "2018-04-08T00:00:00",
          null,
          null,
          null,
          "2018-05-06T00:00:00",
          null,
          null,
          null,
          "2018-06-03T00:00:00",
          "2018-06-10T00:00:00",
          null,
          null,
          "2018-07-01T00:00:00",
          "2018-07-08T00:00:00",
          null,
          null,
          null,
          "2018-08-05T00:00:00",
          "2018-08-12T00:00:00",
          null,
          null,
          "2018-09-02T00:00:00",
          "2018-09-09T00:00:00",
          null,
          null,
          null,
          "2018-10-07T00:00:00",
          null,
          null,
          null,
          "2018-11-04T00:00:00",
          "2018-11-11T00:00:00",
          null,
          null,
          "2018-12-02T00:00:00",
          "2018-12-09T00:00:00",
          null,
          null,
          null,
          "2019-01-06T00:00:00",
          null,
          null,
          null,
          "2019-02-03T00:00:00",
          "2019-02-10T00:00:00",
          null,
          null,
          "2019-03-03T00:00:00",
          "2019-03-10T00:00:00",
          null,
          null,
          null,
          "2019-04-07T00:00:00",
          null,
          null,
          null,
          "2019-05-05T00:00:00",
          "2019-05-12T00:00:00",
          null,
          null,
          "2019-06-02T00:00:00",
          "2019-06-09T00:00:00",
          null,
          null,
          null,
          "2019-07-07T00:00:00",
          null,
          null,
          null,
          "2019-08-04T00:00:00",
          "2019-08-11T00:00:00",
          null,
          null,
          "2019-09-01T00:00:00",
          "2019-09-08T00:00:00",
          null,
          null,
          null,
          "2019-10-06T00:00:00",
          null,
          null,
          null,
          "2019-11-03T00:00:00",
          "2019-11-10T00:00:00",
          null,
          null,
          "2019-12-01T00:00:00",
          "2019-12-08T00:00:00",
          null,
          null,
          null,
          "2020-01-05T00:00:00",
          "2020-01-12T00:00:00",
          null,
          null,
          "2020-02-02T00:00:00",
          "2020-02-09T00:00:00",
          null,
          null,
          "2020-03-01T00:00:00",
          "2020-03-08T00:00:00",
          null,
          null,
          null,
          "2020-04-05T00:00:00",
          "2020-04-12T00:00:00",
          null,
          null,
          "2020-05-03T00:00:00",
          "2020-05-10T00:00:00",
          null,
          null,
          null,
          "2020-06-07T00:00:00",
          null,
          null,
          null,
          "2020-07-05T00:00:00",
          "2020-07-12T00:00:00",
          null,
          null,
          "2020-08-02T00:00:00",
          "2020-08-09T00:00:00",
          null,
          null,
          null,
          "2020-09-06T00:00:00",
          null,
          null,
          null,
          "2020-10-04T00:00:00",
          "2020-10-11T00:00:00",
          null,
          null,
          "2020-11-01T00:00:00",
          "2020-11-08T00:00:00",
          null,
          null,
          null,
          "2020-12-06T00:00:00",
          null,
          null,
          null,
          "2021-01-03T00:00:00",
          "2021-01-10T00:00:00",
          null,
          null,
          null,
          "2021-02-07T00:00:00",
          null,
          null,
          null,
          "2021-03-07T00:00:00",
          null,
          null,
          null,
          "2021-04-04T00:00:00",
          "2021-04-11T00:00:00",
          null,
          null,
          "2021-05-02T00:00:00",
          "2021-05-09T00:00:00",
          null,
          null,
          null,
          "2021-06-06T00:00:00",
          null,
          null,
          null,
          "2021-07-04T00:00:00",
          "2021-07-11T00:00:00",
          null,
          null,
          "2021-08-01T00:00:00",
          "2021-08-08T00:00:00",
          null,
          null,
          null,
          "2021-09-05T00:00:00",
          "2021-09-12T00:00:00",
          null,
          null,
          "2021-10-03T00:00:00",
          "2021-10-10T00:00:00",
          null,
          null,
          null
         ],
         "xaxis": "x",
         "y": [
          0,
          5349.65,
          4235.86,
          3562.21,
          0,
          4310.55,
          0,
          4478.81,
          3156.93,
          4522.03,
          4520.34,
          0,
          5698.46,
          0,
          0,
          0,
          0,
          5160.93,
          0,
          4605.15,
          0,
          0,
          0,
          4006.88,
          0,
          0,
          5049.49,
          0,
          5643.31,
          3429.38,
          4793.1,
          5880.18,
          0,
          5387.28,
          2744.44,
          3977.49,
          0,
          3343.28,
          0,
          0,
          0,
          0,
          5567.29,
          0,
          0,
          0,
          4708.16,
          4238.51,
          5857.92,
          0,
          6466.58,
          5852.55,
          4401.35,
          0,
          0,
          0,
          3231.46,
          0,
          0,
          0,
          4814.95,
          4192.35,
          0,
          0,
          4690.89,
          4766.53,
          0,
          0,
          0,
          0,
          0,
          0,
          5929.51,
          0,
          2905.4,
          0,
          4869.89,
          5093.95,
          0,
          0,
          0,
          0,
          0,
          3583.09,
          0,
          0,
          4028.9,
          5314.82,
          5821.59,
          0,
          5800.56,
          5078.26,
          0,
          3840.58,
          0,
          5194.29,
          0,
          0,
          0,
          0,
          4217.37,
          4889.61,
          0,
          0,
          0,
          0,
          0,
          7021.04,
          0,
          2798.56,
          5199.3,
          0,
          4482.48,
          0,
          4560.81,
          5181.34,
          4497.18,
          0,
          4039.5,
          0,
          0,
          5251.48,
          0,
          0,
          0,
          4290.27,
          0,
          5994.39,
          6319.14,
          0,
          0,
          5496,
          5771.41,
          6029.44,
          0,
          4575.68,
          5862.6,
          2344.38,
          0,
          0,
          0,
          0,
          3970.06,
          4650.06,
          0,
          0,
          7696.22,
          4926.08,
          0,
          0,
          3981.96,
          0,
          5382.73,
          0,
          6096.35,
          0,
          0,
          0,
          0,
          0,
          3820.84,
          6301.43,
          5895.26,
          0,
          3667.79,
          3031.38,
          4339.94,
          0,
          5498.69,
          6047.97,
          0,
          6742.67,
          0,
          0,
          0,
          4111.03,
          5242.12,
          0,
          5936.74,
          6412.33,
          0,
          0,
          2760.4,
          0,
          0,
          0,
          3720.31,
          4414.57,
          0,
          0,
          0,
          0,
          5213.48,
          0,
          4757.98,
          0,
          4615.35,
          4556.16,
          0,
          0
         ],
         "yaxis": "y"
        },
        {
         "hovertemplate": "variable=Google Ads<br>Date=%{x}<br>value=%{y}<extra></extra>",
         "legendgroup": "Google Ads",
         "line": {
          "color": "#00cc96",
          "dash": "solid"
         },
         "marker": {
          "symbol": "circle"
         },
         "mode": "lines",
         "name": "Google Ads",
         "orientation": "v",
         "showlegend": true,
         "type": "scatter",
         "x": [
          "2018-01-07T00:00:00",
          null,
          null,
          null,
          "2018-02-04T00:00:00",
          "2018-02-11T00:00:00",
          null,
          null,
          "2018-03-04T00:00:00",
          "2018-03-11T00:00:00",
          null,
          null,
          "2018-04-01T00:00:00",
          "2018-04-08T00:00:00",
          null,
          null,
          null,
          "2018-05-06T00:00:00",
          null,
          null,
          null,
          "2018-06-03T00:00:00",
          "2018-06-10T00:00:00",
          null,
          null,
          "2018-07-01T00:00:00",
          "2018-07-08T00:00:00",
          null,
          null,
          null,
          "2018-08-05T00:00:00",
          "2018-08-12T00:00:00",
          null,
          null,
          "2018-09-02T00:00:00",
          "2018-09-09T00:00:00",
          null,
          null,
          null,
          "2018-10-07T00:00:00",
          null,
          null,
          null,
          "2018-11-04T00:00:00",
          "2018-11-11T00:00:00",
          null,
          null,
          "2018-12-02T00:00:00",
          "2018-12-09T00:00:00",
          null,
          null,
          null,
          "2019-01-06T00:00:00",
          null,
          null,
          null,
          "2019-02-03T00:00:00",
          "2019-02-10T00:00:00",
          null,
          null,
          "2019-03-03T00:00:00",
          "2019-03-10T00:00:00",
          null,
          null,
          null,
          "2019-04-07T00:00:00",
          null,
          null,
          null,
          "2019-05-05T00:00:00",
          "2019-05-12T00:00:00",
          null,
          null,
          "2019-06-02T00:00:00",
          "2019-06-09T00:00:00",
          null,
          null,
          null,
          "2019-07-07T00:00:00",
          null,
          null,
          null,
          "2019-08-04T00:00:00",
          "2019-08-11T00:00:00",
          null,
          null,
          "2019-09-01T00:00:00",
          "2019-09-08T00:00:00",
          null,
          null,
          null,
          "2019-10-06T00:00:00",
          null,
          null,
          null,
          "2019-11-03T00:00:00",
          "2019-11-10T00:00:00",
          null,
          null,
          "2019-12-01T00:00:00",
          "2019-12-08T00:00:00",
          null,
          null,
          null,
          "2020-01-05T00:00:00",
          "2020-01-12T00:00:00",
          null,
          null,
          "2020-02-02T00:00:00",
          "2020-02-09T00:00:00",
          null,
          null,
          "2020-03-01T00:00:00",
          "2020-03-08T00:00:00",
          null,
          null,
          null,
          "2020-04-05T00:00:00",
          "2020-04-12T00:00:00",
          null,
          null,
          "2020-05-03T00:00:00",
          "2020-05-10T00:00:00",
          null,
          null,
          null,
          "2020-06-07T00:00:00",
          null,
          null,
          null,
          "2020-07-05T00:00:00",
          "2020-07-12T00:00:00",
          null,
          null,
          "2020-08-02T00:00:00",
          "2020-08-09T00:00:00",
          null,
          null,
          null,
          "2020-09-06T00:00:00",
          null,
          null,
          null,
          "2020-10-04T00:00:00",
          "2020-10-11T00:00:00",
          null,
          null,
          "2020-11-01T00:00:00",
          "2020-11-08T00:00:00",
          null,
          null,
          null,
          "2020-12-06T00:00:00",
          null,
          null,
          null,
          "2021-01-03T00:00:00",
          "2021-01-10T00:00:00",
          null,
          null,
          null,
          "2021-02-07T00:00:00",
          null,
          null,
          null,
          "2021-03-07T00:00:00",
          null,
          null,
          null,
          "2021-04-04T00:00:00",
          "2021-04-11T00:00:00",
          null,
          null,
          "2021-05-02T00:00:00",
          "2021-05-09T00:00:00",
          null,
          null,
          null,
          "2021-06-06T00:00:00",
          null,
          null,
          null,
          "2021-07-04T00:00:00",
          "2021-07-11T00:00:00",
          null,
          null,
          "2021-08-01T00:00:00",
          "2021-08-08T00:00:00",
          null,
          null,
          null,
          "2021-09-05T00:00:00",
          "2021-09-12T00:00:00",
          null,
          null,
          "2021-10-03T00:00:00",
          "2021-10-10T00:00:00",
          null,
          null,
          null
         ],
         "xaxis": "x",
         "y": [
          0,
          2218.93,
          2046.96,
          0,
          2187.29,
          1992.98,
          2253.02,
          2042.3,
          1859.02,
          2135.99,
          0,
          0,
          0,
          0,
          1839.37,
          1907.13,
          2204.36,
          1889.49,
          1922.63,
          1897.94,
          2036.79,
          1922.9,
          1679.63,
          0,
          0,
          0,
          2162.53,
          2117.45,
          1898.93,
          0,
          1898.5,
          0,
          2499.44,
          0,
          0,
          1743.09,
          1979.13,
          1802.4,
          1764.47,
          1771.96,
          2351,
          1973.4,
          0,
          0,
          0,
          2144.01,
          0,
          2060.72,
          2154.54,
          1667.68,
          2089.64,
          2339.24,
          1997.03,
          2164.28,
          2134.11,
          1858.5,
          2007.95,
          1686.6,
          1909.74,
          2053.14,
          2144.62,
          2004.92,
          2144,
          1779.42,
          0,
          2003.86,
          0,
          1957.17,
          1900.2,
          2004.27,
          0,
          2038.55,
          1926.99,
          1641.73,
          1988.28,
          0,
          1673.52,
          1986.57,
          2297.87,
          2104.26,
          2122.39,
          0,
          2095.38,
          2029.69,
          2105.81,
          2084.53,
          0,
          0,
          0,
          1989.98,
          0,
          2262.49,
          1828.21,
          1820.21,
          2014.92,
          1784.58,
          1915.07,
          1834.01,
          2282.23,
          2157.16,
          0,
          1921.76,
          2188.18,
          2081.04,
          2099.61,
          1994.76,
          1662.35,
          0,
          1893.5,
          2129.01,
          2202.37,
          1868.41,
          2093.68,
          0,
          0,
          2336.38,
          1829.48,
          0,
          1997.77,
          2002.3,
          0,
          1881.76,
          0,
          2065.39,
          2066.01,
          2445.19,
          2274.2,
          0,
          2064.97,
          2199.42,
          0,
          1986.07,
          2010.31,
          2173.46,
          1830.34,
          1934.87,
          0,
          2062.29,
          0,
          0,
          2194.51,
          0,
          2081.28,
          1961.36,
          2151.15,
          1892.17,
          0,
          0,
          0,
          1769.21,
          1930.41,
          0,
          1793.47,
          1912.65,
          0,
          1918.79,
          1892.95,
          2005.08,
          2230.84,
          2034.5,
          2004.21,
          2019.89,
          2045.48,
          1796.65,
          1977.04,
          0,
          1725.85,
          2173.13,
          2216.28,
          1873.72,
          1951.73,
          1824.36,
          2139.88,
          1787.76,
          1955.5,
          0,
          2010.19,
          1641.15,
          2265.29,
          1807.08,
          2011.98,
          1957.5,
          1847.58,
          1822.44,
          2187.28,
          1894.87,
          2054.23,
          1839.7,
          0,
          2094.45,
          2186.08,
          1964.94,
          1715.62,
          2399.59,
          0,
          1691.68,
          2518.88,
          1919.19,
          1707.65,
          1863.31
         ],
         "yaxis": "y"
        },
        {
         "hovertemplate": "variable=Sales<br>Date=%{x}<br>value=%{y}<extra></extra>",
         "legendgroup": "Sales",
         "line": {
          "color": "#ab63fa",
          "dash": "solid"
         },
         "marker": {
          "symbol": "circle"
         },
         "mode": "lines",
         "name": "Sales",
         "orientation": "v",
         "showlegend": true,
         "type": "scatter",
         "x": [
          "2018-01-07T00:00:00",
          null,
          null,
          null,
          "2018-02-04T00:00:00",
          "2018-02-11T00:00:00",
          null,
          null,
          "2018-03-04T00:00:00",
          "2018-03-11T00:00:00",
          null,
          null,
          "2018-04-01T00:00:00",
          "2018-04-08T00:00:00",
          null,
          null,
          null,
          "2018-05-06T00:00:00",
          null,
          null,
          null,
          "2018-06-03T00:00:00",
          "2018-06-10T00:00:00",
          null,
          null,
          "2018-07-01T00:00:00",
          "2018-07-08T00:00:00",
          null,
          null,
          null,
          "2018-08-05T00:00:00",
          "2018-08-12T00:00:00",
          null,
          null,
          "2018-09-02T00:00:00",
          "2018-09-09T00:00:00",
          null,
          null,
          null,
          "2018-10-07T00:00:00",
          null,
          null,
          null,
          "2018-11-04T00:00:00",
          "2018-11-11T00:00:00",
          null,
          null,
          "2018-12-02T00:00:00",
          "2018-12-09T00:00:00",
          null,
          null,
          null,
          "2019-01-06T00:00:00",
          null,
          null,
          null,
          "2019-02-03T00:00:00",
          "2019-02-10T00:00:00",
          null,
          null,
          "2019-03-03T00:00:00",
          "2019-03-10T00:00:00",
          null,
          null,
          null,
          "2019-04-07T00:00:00",
          null,
          null,
          null,
          "2019-05-05T00:00:00",
          "2019-05-12T00:00:00",
          null,
          null,
          "2019-06-02T00:00:00",
          "2019-06-09T00:00:00",
          null,
          null,
          null,
          "2019-07-07T00:00:00",
          null,
          null,
          null,
          "2019-08-04T00:00:00",
          "2019-08-11T00:00:00",
          null,
          null,
          "2019-09-01T00:00:00",
          "2019-09-08T00:00:00",
          null,
          null,
          null,
          "2019-10-06T00:00:00",
          null,
          null,
          null,
          "2019-11-03T00:00:00",
          "2019-11-10T00:00:00",
          null,
          null,
          "2019-12-01T00:00:00",
          "2019-12-08T00:00:00",
          null,
          null,
          null,
          "2020-01-05T00:00:00",
          "2020-01-12T00:00:00",
          null,
          null,
          "2020-02-02T00:00:00",
          "2020-02-09T00:00:00",
          null,
          null,
          "2020-03-01T00:00:00",
          "2020-03-08T00:00:00",
          null,
          null,
          null,
          "2020-04-05T00:00:00",
          "2020-04-12T00:00:00",
          null,
          null,
          "2020-05-03T00:00:00",
          "2020-05-10T00:00:00",
          null,
          null,
          null,
          "2020-06-07T00:00:00",
          null,
          null,
          null,
          "2020-07-05T00:00:00",
          "2020-07-12T00:00:00",
          null,
          null,
          "2020-08-02T00:00:00",
          "2020-08-09T00:00:00",
          null,
          null,
          null,
          "2020-09-06T00:00:00",
          null,
          null,
          null,
          "2020-10-04T00:00:00",
          "2020-10-11T00:00:00",
          null,
          null,
          "2020-11-01T00:00:00",
          "2020-11-08T00:00:00",
          null,
          null,
          null,
          "2020-12-06T00:00:00",
          null,
          null,
          null,
          "2021-01-03T00:00:00",
          "2021-01-10T00:00:00",
          null,
          null,
          null,
          "2021-02-07T00:00:00",
          null,
          null,
          null,
          "2021-03-07T00:00:00",
          null,
          null,
          null,
          "2021-04-04T00:00:00",
          "2021-04-11T00:00:00",
          null,
          null,
          "2021-05-02T00:00:00",
          "2021-05-09T00:00:00",
          null,
          null,
          null,
          "2021-06-06T00:00:00",
          null,
          null,
          null,
          "2021-07-04T00:00:00",
          "2021-07-11T00:00:00",
          null,
          null,
          "2021-08-01T00:00:00",
          "2021-08-08T00:00:00",
          null,
          null,
          null,
          "2021-09-05T00:00:00",
          "2021-09-12T00:00:00",
          null,
          null,
          "2021-10-03T00:00:00",
          "2021-10-10T00:00:00",
          null,
          null,
          null
         ],
         "xaxis": "x",
         "y": [
          9779.8,
          13245.19,
          12022.66,
          8846.95,
          9797.07,
          13527.65,
          9635.43,
          15355.11,
          12199.37,
          11368.23,
          8640.44,
          4960.26,
          12726.46,
          11421.71,
          10875.31,
          13048.08,
          10775.86,
          15013.62,
          14158.32,
          15918.14,
          11128.75,
          12170.36,
          10134.7,
          11093.55,
          8170.63,
          6542.71,
          11325.8,
          7793.24,
          15010.94,
          10634.31,
          11751.39,
          9151.2,
          9141.46,
          7399.92,
          10893.16,
          11550.47,
          8672.09,
          9427.22,
          8036.91,
          11240.58,
          12386.83,
          12513.84,
          12235.08,
          11895.78,
          10047.41,
          9705.39,
          8847.19,
          10379.07,
          11312.48,
          8226.23,
          13966.11,
          13460.32,
          15742.61,
          10440.98,
          8535.49,
          7801.58,
          9570.01,
          7854.78,
          8067.55,
          7848.26,
          14012.71,
          16127.45,
          11636.97,
          8193.65,
          9451.61,
          11454.02,
          5526.84,
          7677.52,
          8084.98,
          7456.56,
          5365.18,
          8134.16,
          10065.53,
          10878.94,
          11524.63,
          6563.85,
          14165.57,
          15624.56,
          11305.04,
          8245.57,
          7676.64,
          5023.53,
          8058.85,
          9902.44,
          8058.05,
          7498.36,
          12216.8,
          11042.8,
          10713.92,
          9130.06,
          7325.82,
          15292.36,
          11571.92,
          10464.3,
          9229.31,
          9964.76,
          8018.56,
          7278.85,
          8467.44,
          7620.08,
          7353.99,
          12947.48,
          10250.78,
          13096.57,
          10843.3,
          9702.32,
          11509.72,
          10862.91,
          14894.3,
          12071.16,
          16592.25,
          12441.24,
          12279.8,
          6790.08,
          11909.22,
          13496.33,
          12297.33,
          6378.02,
          14447.22,
          14199.63,
          8818.6,
          11735.1,
          10804.46,
          10008.84,
          13038.94,
          12997.57,
          13131.68,
          14703.9,
          17668.34,
          13267.43,
          8106.56,
          11182.44,
          10886.67,
          11160.91,
          7160.31,
          14452.13,
          11189.87,
          15012.92,
          8606.27,
          5991.27,
          8239.06,
          5561.95,
          9797.26,
          14673.81,
          11598.35,
          13368.12,
          14428.14,
          11172.84,
          6340.56,
          8095.38,
          9268.66,
          4532.33,
          10982.62,
          8447.64,
          7617.05,
          7610.02,
          7849.88,
          7104.61,
          8447.4,
          7885.48,
          9992.42,
          11322.95,
          15977.27,
          14259.48,
          12886.05,
          9131.86,
          10953.39,
          8574.23,
          14958.05,
          13543.21,
          13867.08,
          13854.92,
          10895.22,
          7854.4,
          7405.54,
          7705.26,
          10888.41,
          7715.63,
          10581.72,
          11218.58,
          12789.7,
          9923.23,
          9781.83,
          11570.62,
          12294.54,
          9745.9,
          11918.41,
          10983.4,
          8944.74,
          13131.49,
          14669.4,
          13843.33,
          14024.53,
          13315.79,
          10237.24,
          9030.17,
          15904.11,
          12839.29,
          9063.45,
          7250.21
         ],
         "yaxis": "y"
        }
       ],
       "layout": {
        "legend": {
         "title": {
          "text": "variable"
         },
         "tracegroupgap": 0
        },
        "margin": {
         "t": 60
        },
        "template": {
         "data": {
          "bar": [
           {
            "error_x": {
             "color": "#2a3f5f"
            },
            "error_y": {
             "color": "#2a3f5f"
            },
            "marker": {
             "line": {
              "color": "#E5ECF6",
              "width": 0.5
             },
             "pattern": {
              "fillmode": "overlay",
              "size": 10,
              "solidity": 0.2
             }
            },
            "type": "bar"
           }
          ],
          "barpolar": [
           {
            "marker": {
             "line": {
              "color": "#E5ECF6",
              "width": 0.5
             },
             "pattern": {
              "fillmode": "overlay",
              "size": 10,
              "solidity": 0.2
             }
            },
            "type": "barpolar"
           }
          ],
          "carpet": [
           {
            "aaxis": {
             "endlinecolor": "#2a3f5f",
             "gridcolor": "white",
             "linecolor": "white",
             "minorgridcolor": "white",
             "startlinecolor": "#2a3f5f"
            },
            "baxis": {
             "endlinecolor": "#2a3f5f",
             "gridcolor": "white",
             "linecolor": "white",
             "minorgridcolor": "white",
             "startlinecolor": "#2a3f5f"
            },
            "type": "carpet"
           }
          ],
          "choropleth": [
           {
            "colorbar": {
             "outlinewidth": 0,
             "ticks": ""
            },
            "type": "choropleth"
           }
          ],
          "contour": [
           {
            "colorbar": {
             "outlinewidth": 0,
             "ticks": ""
            },
            "colorscale": [
             [
              0,
              "#0d0887"
             ],
             [
              0.1111111111111111,
              "#46039f"
             ],
             [
              0.2222222222222222,
              "#7201a8"
             ],
             [
              0.3333333333333333,
              "#9c179e"
             ],
             [
              0.4444444444444444,
              "#bd3786"
             ],
             [
              0.5555555555555556,
              "#d8576b"
             ],
             [
              0.6666666666666666,
              "#ed7953"
             ],
             [
              0.7777777777777778,
              "#fb9f3a"
             ],
             [
              0.8888888888888888,
              "#fdca26"
             ],
             [
              1,
              "#f0f921"
             ]
            ],
            "type": "contour"
           }
          ],
          "contourcarpet": [
           {
            "colorbar": {
             "outlinewidth": 0,
             "ticks": ""
            },
            "type": "contourcarpet"
           }
          ],
          "heatmap": [
           {
            "colorbar": {
             "outlinewidth": 0,
             "ticks": ""
            },
            "colorscale": [
             [
              0,
              "#0d0887"
             ],
             [
              0.1111111111111111,
              "#46039f"
             ],
             [
              0.2222222222222222,
              "#7201a8"
             ],
             [
              0.3333333333333333,
              "#9c179e"
             ],
             [
              0.4444444444444444,
              "#bd3786"
             ],
             [
              0.5555555555555556,
              "#d8576b"
             ],
             [
              0.6666666666666666,
              "#ed7953"
             ],
             [
              0.7777777777777778,
              "#fb9f3a"
             ],
             [
              0.8888888888888888,
              "#fdca26"
             ],
             [
              1,
              "#f0f921"
             ]
            ],
            "type": "heatmap"
           }
          ],
          "heatmapgl": [
           {
            "colorbar": {
             "outlinewidth": 0,
             "ticks": ""
            },
            "colorscale": [
             [
              0,
              "#0d0887"
             ],
             [
              0.1111111111111111,
              "#46039f"
             ],
             [
              0.2222222222222222,
              "#7201a8"
             ],
             [
              0.3333333333333333,
              "#9c179e"
             ],
             [
              0.4444444444444444,
              "#bd3786"
             ],
             [
              0.5555555555555556,
              "#d8576b"
             ],
             [
              0.6666666666666666,
              "#ed7953"
             ],
             [
              0.7777777777777778,
              "#fb9f3a"
             ],
             [
              0.8888888888888888,
              "#fdca26"
             ],
             [
              1,
              "#f0f921"
             ]
            ],
            "type": "heatmapgl"
           }
          ],
          "histogram": [
           {
            "marker": {
             "pattern": {
              "fillmode": "overlay",
              "size": 10,
              "solidity": 0.2
             }
            },
            "type": "histogram"
           }
          ],
          "histogram2d": [
           {
            "colorbar": {
             "outlinewidth": 0,
             "ticks": ""
            },
            "colorscale": [
             [
              0,
              "#0d0887"
             ],
             [
              0.1111111111111111,
              "#46039f"
             ],
             [
              0.2222222222222222,
              "#7201a8"
             ],
             [
              0.3333333333333333,
              "#9c179e"
             ],
             [
              0.4444444444444444,
              "#bd3786"
             ],
             [
              0.5555555555555556,
              "#d8576b"
             ],
             [
              0.6666666666666666,
              "#ed7953"
             ],
             [
              0.7777777777777778,
              "#fb9f3a"
             ],
             [
              0.8888888888888888,
              "#fdca26"
             ],
             [
              1,
              "#f0f921"
             ]
            ],
            "type": "histogram2d"
           }
          ],
          "histogram2dcontour": [
           {
            "colorbar": {
             "outlinewidth": 0,
             "ticks": ""
            },
            "colorscale": [
             [
              0,
              "#0d0887"
             ],
             [
              0.1111111111111111,
              "#46039f"
             ],
             [
              0.2222222222222222,
              "#7201a8"
             ],
             [
              0.3333333333333333,
              "#9c179e"
             ],
             [
              0.4444444444444444,
              "#bd3786"
             ],
             [
              0.5555555555555556,
              "#d8576b"
             ],
             [
              0.6666666666666666,
              "#ed7953"
             ],
             [
              0.7777777777777778,
              "#fb9f3a"
             ],
             [
              0.8888888888888888,
              "#fdca26"
             ],
             [
              1,
              "#f0f921"
             ]
            ],
            "type": "histogram2dcontour"
           }
          ],
          "mesh3d": [
           {
            "colorbar": {
             "outlinewidth": 0,
             "ticks": ""
            },
            "type": "mesh3d"
           }
          ],
          "parcoords": [
           {
            "line": {
             "colorbar": {
              "outlinewidth": 0,
              "ticks": ""
             }
            },
            "type": "parcoords"
           }
          ],
          "pie": [
           {
            "automargin": true,
            "type": "pie"
           }
          ],
          "scatter": [
           {
            "fillpattern": {
             "fillmode": "overlay",
             "size": 10,
             "solidity": 0.2
            },
            "type": "scatter"
           }
          ],
          "scatter3d": [
           {
            "line": {
             "colorbar": {
              "outlinewidth": 0,
              "ticks": ""
             }
            },
            "marker": {
             "colorbar": {
              "outlinewidth": 0,
              "ticks": ""
             }
            },
            "type": "scatter3d"
           }
          ],
          "scattercarpet": [
           {
            "marker": {
             "colorbar": {
              "outlinewidth": 0,
              "ticks": ""
             }
            },
            "type": "scattercarpet"
           }
          ],
          "scattergeo": [
           {
            "marker": {
             "colorbar": {
              "outlinewidth": 0,
              "ticks": ""
             }
            },
            "type": "scattergeo"
           }
          ],
          "scattergl": [
           {
            "marker": {
             "colorbar": {
              "outlinewidth": 0,
              "ticks": ""
             }
            },
            "type": "scattergl"
           }
          ],
          "scattermapbox": [
           {
            "marker": {
             "colorbar": {
              "outlinewidth": 0,
              "ticks": ""
             }
            },
            "type": "scattermapbox"
           }
          ],
          "scatterpolar": [
           {
            "marker": {
             "colorbar": {
              "outlinewidth": 0,
              "ticks": ""
             }
            },
            "type": "scatterpolar"
           }
          ],
          "scatterpolargl": [
           {
            "marker": {
             "colorbar": {
              "outlinewidth": 0,
              "ticks": ""
             }
            },
            "type": "scatterpolargl"
           }
          ],
          "scatterternary": [
           {
            "marker": {
             "colorbar": {
              "outlinewidth": 0,
              "ticks": ""
             }
            },
            "type": "scatterternary"
           }
          ],
          "surface": [
           {
            "colorbar": {
             "outlinewidth": 0,
             "ticks": ""
            },
            "colorscale": [
             [
              0,
              "#0d0887"
             ],
             [
              0.1111111111111111,
              "#46039f"
             ],
             [
              0.2222222222222222,
              "#7201a8"
             ],
             [
              0.3333333333333333,
              "#9c179e"
             ],
             [
              0.4444444444444444,
              "#bd3786"
             ],
             [
              0.5555555555555556,
              "#d8576b"
             ],
             [
              0.6666666666666666,
              "#ed7953"
             ],
             [
              0.7777777777777778,
              "#fb9f3a"
             ],
             [
              0.8888888888888888,
              "#fdca26"
             ],
             [
              1,
              "#f0f921"
             ]
            ],
            "type": "surface"
           }
          ],
          "table": [
           {
            "cells": {
             "fill": {
              "color": "#EBF0F8"
             },
             "line": {
              "color": "white"
             }
            },
            "header": {
             "fill": {
              "color": "#C8D4E3"
             },
             "line": {
              "color": "white"
             }
            },
            "type": "table"
           }
          ]
         },
         "layout": {
          "annotationdefaults": {
           "arrowcolor": "#2a3f5f",
           "arrowhead": 0,
           "arrowwidth": 1
          },
          "autotypenumbers": "strict",
          "coloraxis": {
           "colorbar": {
            "outlinewidth": 0,
            "ticks": ""
           }
          },
          "colorscale": {
           "diverging": [
            [
             0,
             "#8e0152"
            ],
            [
             0.1,
             "#c51b7d"
            ],
            [
             0.2,
             "#de77ae"
            ],
            [
             0.3,
             "#f1b6da"
            ],
            [
             0.4,
             "#fde0ef"
            ],
            [
             0.5,
             "#f7f7f7"
            ],
            [
             0.6,
             "#e6f5d0"
            ],
            [
             0.7,
             "#b8e186"
            ],
            [
             0.8,
             "#7fbc41"
            ],
            [
             0.9,
             "#4d9221"
            ],
            [
             1,
             "#276419"
            ]
           ],
           "sequential": [
            [
             0,
             "#0d0887"
            ],
            [
             0.1111111111111111,
             "#46039f"
            ],
            [
             0.2222222222222222,
             "#7201a8"
            ],
            [
             0.3333333333333333,
             "#9c179e"
            ],
            [
             0.4444444444444444,
             "#bd3786"
            ],
            [
             0.5555555555555556,
             "#d8576b"
            ],
            [
             0.6666666666666666,
             "#ed7953"
            ],
            [
             0.7777777777777778,
             "#fb9f3a"
            ],
            [
             0.8888888888888888,
             "#fdca26"
            ],
            [
             1,
             "#f0f921"
            ]
           ],
           "sequentialminus": [
            [
             0,
             "#0d0887"
            ],
            [
             0.1111111111111111,
             "#46039f"
            ],
            [
             0.2222222222222222,
             "#7201a8"
            ],
            [
             0.3333333333333333,
             "#9c179e"
            ],
            [
             0.4444444444444444,
             "#bd3786"
            ],
            [
             0.5555555555555556,
             "#d8576b"
            ],
            [
             0.6666666666666666,
             "#ed7953"
            ],
            [
             0.7777777777777778,
             "#fb9f3a"
            ],
            [
             0.8888888888888888,
             "#fdca26"
            ],
            [
             1,
             "#f0f921"
            ]
           ]
          },
          "colorway": [
           "#636efa",
           "#EF553B",
           "#00cc96",
           "#ab63fa",
           "#FFA15A",
           "#19d3f3",
           "#FF6692",
           "#B6E880",
           "#FF97FF",
           "#FECB52"
          ],
          "font": {
           "color": "#2a3f5f"
          },
          "geo": {
           "bgcolor": "white",
           "lakecolor": "white",
           "landcolor": "#E5ECF6",
           "showlakes": true,
           "showland": true,
           "subunitcolor": "white"
          },
          "hoverlabel": {
           "align": "left"
          },
          "hovermode": "closest",
          "mapbox": {
           "style": "light"
          },
          "paper_bgcolor": "white",
          "plot_bgcolor": "#E5ECF6",
          "polar": {
           "angularaxis": {
            "gridcolor": "white",
            "linecolor": "white",
            "ticks": ""
           },
           "bgcolor": "#E5ECF6",
           "radialaxis": {
            "gridcolor": "white",
            "linecolor": "white",
            "ticks": ""
           }
          },
          "scene": {
           "xaxis": {
            "backgroundcolor": "#E5ECF6",
            "gridcolor": "white",
            "gridwidth": 2,
            "linecolor": "white",
            "showbackground": true,
            "ticks": "",
            "zerolinecolor": "white"
           },
           "yaxis": {
            "backgroundcolor": "#E5ECF6",
            "gridcolor": "white",
            "gridwidth": 2,
            "linecolor": "white",
            "showbackground": true,
            "ticks": "",
            "zerolinecolor": "white"
           },
           "zaxis": {
            "backgroundcolor": "#E5ECF6",
            "gridcolor": "white",
            "gridwidth": 2,
            "linecolor": "white",
            "showbackground": true,
            "ticks": "",
            "zerolinecolor": "white"
           }
          },
          "shapedefaults": {
           "line": {
            "color": "#2a3f5f"
           }
          },
          "ternary": {
           "aaxis": {
            "gridcolor": "white",
            "linecolor": "white",
            "ticks": ""
           },
           "baxis": {
            "gridcolor": "white",
            "linecolor": "white",
            "ticks": ""
           },
           "bgcolor": "#E5ECF6",
           "caxis": {
            "gridcolor": "white",
            "linecolor": "white",
            "ticks": ""
           }
          },
          "title": {
           "x": 0.05
          },
          "xaxis": {
           "automargin": true,
           "gridcolor": "white",
           "linecolor": "white",
           "ticks": "",
           "title": {
            "standoff": 15
           },
           "zerolinecolor": "white",
           "zerolinewidth": 2
          },
          "yaxis": {
           "automargin": true,
           "gridcolor": "white",
           "linecolor": "white",
           "ticks": "",
           "title": {
            "standoff": 15
           },
           "zerolinecolor": "white",
           "zerolinewidth": 2
          }
         }
        },
        "xaxis": {
         "anchor": "y",
         "domain": [
          0,
          1
         ],
         "title": {
          "text": "Date"
         }
        },
        "yaxis": {
         "anchor": "x",
         "domain": [
          0,
          1
         ],
         "title": {
          "text": "value"
         }
        }
       }
      }
     },
     "metadata": {},
     "output_type": "display_data"
    }
   ],
   "source": [
    "figure = px.line(df, x='Date' ,y=df.columns)\n",
    "figure.show()"
   ]
  },
  {
   "cell_type": "code",
   "execution_count": 47,
   "metadata": {},
   "outputs": [],
   "source": [
    "#import the sklearn mutliple linear regression"
   ]
  },
  {
   "cell_type": "code",
   "execution_count": 48,
   "metadata": {},
   "outputs": [],
   "source": [
    "import pandas as pd\n",
    "import plotly.express as px\n",
    "import statsmodels.api as sm\n",
    "from sklearn.linear_model import LinearRegression\n",
    "from sklearn.model_selection import train_test_split\n",
    "from sklearn import linear_model"
   ]
  },
  {
   "cell_type": "code",
   "execution_count": 49,
   "metadata": {},
   "outputs": [
    {
     "data": {
      "text/html": [
       "<div>\n",
       "<style scoped>\n",
       "    .dataframe tbody tr th:only-of-type {\n",
       "        vertical-align: middle;\n",
       "    }\n",
       "\n",
       "    .dataframe tbody tr th {\n",
       "        vertical-align: top;\n",
       "    }\n",
       "\n",
       "    .dataframe thead th {\n",
       "        text-align: right;\n",
       "    }\n",
       "</style>\n",
       "<table border=\"1\" class=\"dataframe\">\n",
       "  <thead>\n",
       "    <tr style=\"text-align: right;\">\n",
       "      <th></th>\n",
       "      <th>Date</th>\n",
       "      <th>TikTok</th>\n",
       "      <th>Facebook</th>\n",
       "      <th>Google Ads</th>\n",
       "      <th>Sales</th>\n",
       "    </tr>\n",
       "  </thead>\n",
       "  <tbody>\n",
       "    <tr>\n",
       "      <th>count</th>\n",
       "      <td>79</td>\n",
       "      <td>200.000000</td>\n",
       "      <td>200.000000</td>\n",
       "      <td>200.000000</td>\n",
       "      <td>200.000000</td>\n",
       "    </tr>\n",
       "    <tr>\n",
       "      <th>mean</th>\n",
       "      <td>2019-11-22 01:12:54.683544320</td>\n",
       "      <td>2946.207650</td>\n",
       "      <td>2213.585050</td>\n",
       "      <td>1520.722550</td>\n",
       "      <td>10668.141500</td>\n",
       "    </tr>\n",
       "    <tr>\n",
       "      <th>min</th>\n",
       "      <td>2018-01-07 00:00:00</td>\n",
       "      <td>0.000000</td>\n",
       "      <td>0.000000</td>\n",
       "      <td>0.000000</td>\n",
       "      <td>4532.330000</td>\n",
       "    </tr>\n",
       "    <tr>\n",
       "      <th>25%</th>\n",
       "      <td>2018-12-05 12:00:00</td>\n",
       "      <td>0.000000</td>\n",
       "      <td>0.000000</td>\n",
       "      <td>1657.195000</td>\n",
       "      <td>8396.942500</td>\n",
       "    </tr>\n",
       "    <tr>\n",
       "      <th>50%</th>\n",
       "      <td>2019-12-01 00:00:00</td>\n",
       "      <td>0.000000</td>\n",
       "      <td>0.000000</td>\n",
       "      <td>1918.990000</td>\n",
       "      <td>10853.105000</td>\n",
       "    </tr>\n",
       "    <tr>\n",
       "      <th>75%</th>\n",
       "      <td>2020-10-21 12:00:00</td>\n",
       "      <td>7938.527500</td>\n",
       "      <td>4624.027500</td>\n",
       "      <td>2069.767500</td>\n",
       "      <td>12566.995000</td>\n",
       "    </tr>\n",
       "    <tr>\n",
       "      <th>max</th>\n",
       "      <td>2021-10-10 00:00:00</td>\n",
       "      <td>13901.550000</td>\n",
       "      <td>7696.220000</td>\n",
       "      <td>2518.880000</td>\n",
       "      <td>17668.340000</td>\n",
       "    </tr>\n",
       "    <tr>\n",
       "      <th>std</th>\n",
       "      <td>NaN</td>\n",
       "      <td>4749.646908</td>\n",
       "      <td>2505.967886</td>\n",
       "      <td>870.764354</td>\n",
       "      <td>2700.706683</td>\n",
       "    </tr>\n",
       "  </tbody>\n",
       "</table>\n",
       "</div>"
      ],
      "text/plain": [
       "                                Date        TikTok     Facebook   Google Ads  \\\n",
       "count                             79    200.000000   200.000000   200.000000   \n",
       "mean   2019-11-22 01:12:54.683544320   2946.207650  2213.585050  1520.722550   \n",
       "min              2018-01-07 00:00:00      0.000000     0.000000     0.000000   \n",
       "25%              2018-12-05 12:00:00      0.000000     0.000000  1657.195000   \n",
       "50%              2019-12-01 00:00:00      0.000000     0.000000  1918.990000   \n",
       "75%              2020-10-21 12:00:00   7938.527500  4624.027500  2069.767500   \n",
       "max              2021-10-10 00:00:00  13901.550000  7696.220000  2518.880000   \n",
       "std                              NaN   4749.646908  2505.967886   870.764354   \n",
       "\n",
       "              Sales  \n",
       "count    200.000000  \n",
       "mean   10668.141500  \n",
       "min     4532.330000  \n",
       "25%     8396.942500  \n",
       "50%    10853.105000  \n",
       "75%    12566.995000  \n",
       "max    17668.340000  \n",
       "std     2700.706683  "
      ]
     },
     "execution_count": 49,
     "metadata": {},
     "output_type": "execute_result"
    }
   ],
   "source": [
    "df.describe()"
   ]
  },
  {
   "cell_type": "code",
   "execution_count": 50,
   "metadata": {},
   "outputs": [
    {
     "data": {
      "text/plain": [
       "Date          121\n",
       "TikTok          0\n",
       "Facebook        0\n",
       "Google Ads      0\n",
       "Sales           0\n",
       "dtype: int64"
      ]
     },
     "execution_count": 50,
     "metadata": {},
     "output_type": "execute_result"
    }
   ],
   "source": [
    "df.isnull().sum()"
   ]
  },
  {
   "cell_type": "code",
   "execution_count": 51,
   "metadata": {},
   "outputs": [
    {
     "data": {
      "text/plain": [
       "<Axes: >"
      ]
     },
     "execution_count": 51,
     "metadata": {},
     "output_type": "execute_result"
    },
    {
     "data": {
      "image/png": "[encoded data removed]",
      "text/plain": [
       "<Figure size 640x480 with 1 Axes>"
      ]
     },
     "metadata": {},
     "output_type": "display_data"
    }
   ],
   "source": [
    "df.boxplot(column=['TikTok' , 'Facebook' , 'Google Ads' , 'Sales'])"
   ]
  },
  {
   "cell_type": "code",
   "execution_count": 52,
   "metadata": {},
   "outputs": [
    {
     "data": {
      "application/vnd.plotly.v1+json": {
       "config": {
        "plotlyServerURL": "https://plot.ly"
       },
       "data": [
        {
         "hovertemplate": "variable=TikTok<br>Date=%{x}<br>value=%{y}<extra></extra>",
         "legendgroup": "TikTok",
         "line": {
          "color": "#636efa",
          "dash": "solid"
         },
         "marker": {
          "symbol": "circle"
         },
         "mode": "lines",
         "name": "TikTok",
         "orientation": "v",
         "showlegend": true,
         "type": "scatter",
         "x": [
          "2018-01-07T00:00:00",
          null,
          null,
          null,
          "2018-02-04T00:00:00",
          "2018-02-11T00:00:00",
          null,
          null,
          "2018-03-04T00:00:00",
          "2018-03-11T00:00:00",
          null,
          null,
          "2018-04-01T00:00:00",
          "2018-04-08T00:00:00",
          null,
          null,
          null,
          "2018-05-06T00:00:00",
          null,
          null,
          null,
          "2018-06-03T00:00:00",
          "2018-06-10T00:00:00",
          null,
          null,
          "2018-07-01T00:00:00",
          "2018-07-08T00:00:00",
          null,
          null,
          null,
          "2018-08-05T00:00:00",
          "2018-08-12T00:00:00",
          null,
          null,
          "2018-09-02T00:00:00",
          "2018-09-09T00:00:00",
          null,
          null,
          null,
          "2018-10-07T00:00:00",
          null,
          null,
          null,
          "2018-11-04T00:00:00",
          "2018-11-11T00:00:00",
          null,
          null,
          "2018-12-02T00:00:00",
          "2018-12-09T00:00:00",
          null,
          null,
          null,
          "2019-01-06T00:00:00",
          null,
          null,
          null,
          "2019-02-03T00:00:00",
          "2019-02-10T00:00:00",
          null,
          null,
          "2019-03-03T00:00:00",
          "2019-03-10T00:00:00",
          null,
          null,
          null,
          "2019-04-07T00:00:00",
          null,
          null,
          null,
          "2019-05-05T00:00:00",
          "2019-05-12T00:00:00",
          null,
          null,
          "2019-06-02T00:00:00",
          "2019-06-09T00:00:00",
          null,
          null,
          null,
          "2019-07-07T00:00:00",
          null,
          null,
          null,
          "2019-08-04T00:00:00",
          "2019-08-11T00:00:00",
          null,
          null,
          "2019-09-01T00:00:00",
          "2019-09-08T00:00:00",
          null,
          null,
          null,
          "2019-10-06T00:00:00",
          null,
          null,
          null,
          "2019-11-03T00:00:00",
          "2019-11-10T00:00:00",
          null,
          null,
          "2019-12-01T00:00:00",
          "2019-12-08T00:00:00",
          null,
          null,
          null,
          "2020-01-05T00:00:00",
          "2020-01-12T00:00:00",
          null,
          null,
          "2020-02-02T00:00:00",
          "2020-02-09T00:00:00",
          null,
          null,
          "2020-03-01T00:00:00",
          "2020-03-08T00:00:00",
          null,
          null,
          null,
          "2020-04-05T00:00:00",
          "2020-04-12T00:00:00",
          null,
          null,
          "2020-05-03T00:00:00",
          "2020-05-10T00:00:00",
          null,
          null,
          null,
          "2020-06-07T00:00:00",
          null,
          null,
          null,
          "2020-07-05T00:00:00",
          "2020-07-12T00:00:00",
          null,
          null,
          "2020-08-02T00:00:00",
          "2020-08-09T00:00:00",
          null,
          null,
          null,
          "2020-09-06T00:00:00",
          null,
          null,
          null,
          "2020-10-04T00:00:00",
          "2020-10-11T00:00:00",
          null,
          null,
          "2020-11-01T00:00:00",
          "2020-11-08T00:00:00",
          null,
          null,
          null,
          "2020-12-06T00:00:00",
          null,
          null,
          null,
          "2021-01-03T00:00:00",
          "2021-01-10T00:00:00",
          null,
          null,
          null,
          "2021-02-07T00:00:00",
          null,
          null,
          null,
          "2021-03-07T00:00:00",
          null,
          null,
          null,
          "2021-04-04T00:00:00",
          "2021-04-11T00:00:00",
          null,
          null,
          "2021-05-02T00:00:00",
          "2021-05-09T00:00:00",
          null,
          null,
          null,
          "2021-06-06T00:00:00",
          null,
          null,
          null,
          "2021-07-04T00:00:00",
          "2021-07-11T00:00:00",
          null,
          null,
          "2021-08-01T00:00:00",
          "2021-08-08T00:00:00",
          null,
          null,
          null,
          "2021-09-05T00:00:00",
          "2021-09-12T00:00:00",
          null,
          null,
          "2021-10-03T00:00:00",
          "2021-10-10T00:00:00",
          null,
          null,
          null
         ],
         "xaxis": "x",
         "y": [
          13528.1,
          0,
          0,
          0,
          0,
          8045.44,
          0,
          9697.29,
          0,
          0,
          0,
          0,
          11522.08,
          10243.35,
          0,
          10667.35,
          0,
          9589.68,
          10626.14,
          8291.81,
          0,
          11307.24,
          0,
          8515.67,
          0,
          0,
          0,
          0,
          13065.56,
          0,
          0,
          0,
          0,
          0,
          9304.18,
          0,
          0,
          0,
          0,
          9395.39,
          7902.89,
          7159.96,
          6587.46,
          13901.55,
          0,
          0,
          0,
          0,
          0,
          0,
          8209.07,
          0,
          8978.39,
          0,
          0,
          0,
          0,
          0,
          0,
          0,
          8655.08,
          9280.89,
          0,
          0,
          0,
          0,
          0,
          0,
          0,
          0,
          0,
          0,
          0,
          7530.35,
          0,
          0,
          8258.41,
          8842.3,
          0,
          0,
          0,
          0,
          0,
          0,
          0,
          0,
          12357.56,
          0,
          0,
          0,
          0,
          12444.89,
          0,
          0,
          0,
          0,
          0,
          0,
          0,
          0,
          0,
          7304.48,
          0,
          11938.79,
          0,
          0,
          9172.76,
          0,
          13845.88,
          0,
          13735.12,
          0,
          0,
          0,
          9463.99,
          0,
          0,
          0,
          11228.16,
          11844.41,
          0,
          0,
          10596.48,
          0,
          8610.86,
          0,
          9129.69,
          13698.53,
          11344.59,
          0,
          0,
          0,
          0,
          0,
          0,
          11352.87,
          0,
          9583.4,
          0,
          0,
          0,
          0,
          0,
          11270.06,
          0,
          11888.96,
          8174.36,
          0,
          0,
          0,
          0,
          0,
          0,
          0,
          0,
          0,
          0,
          0,
          0,
          0,
          0,
          0,
          11898.84,
          10175.1,
          0,
          0,
          0,
          0,
          12376.06,
          0,
          11841.72,
          0,
          0,
          0,
          0,
          0,
          0,
          0,
          0,
          0,
          9292.01,
          0,
          0,
          5553.19,
          11250.46,
          0,
          0,
          0,
          8520.87,
          13086.03,
          7414.29,
          10534.1,
          0,
          7663.81,
          0,
          0,
          11543.58,
          0,
          0,
          0
         ],
         "yaxis": "y"
        },
        {
         "hovertemplate": "variable=Facebook<br>Date=%{x}<br>value=%{y}<extra></extra>",
         "legendgroup": "Facebook",
         "line": {
          "color": "#EF553B",
          "dash": "solid"
         },
         "marker": {
          "symbol": "circle"
         },
         "mode": "lines",
         "name": "Facebook",
         "orientation": "v",
         "showlegend": true,
         "type": "scatter",
         "x": [
          "2018-01-07T00:00:00",
          null,
          null,
          null,
          "2018-02-04T00:00:00",
          "2018-02-11T00:00:00",
          null,
          null,
          "2018-03-04T00:00:00",
          "2018-03-11T00:00:00",
          null,
          null,
          "2018-04-01T00:00:00",
          "2018-04-08T00:00:00",
          null,
          null,
          null,
          "2018-05-06T00:00:00",
          null,
          null,
          null,
          "2018-06-03T00:00:00",
          "2018-06-10T00:00:00",
          null,
          null,
          "2018-07-01T00:00:00",
          "2018-07-08T00:00:00",
          null,
          null,
          null,
          "2018-08-05T00:00:00",
          "2018-08-12T00:00:00",
          null,
          null,
          "2018-09-02T00:00:00",
          "2018-09-09T00:00:00",
          null,
          null,
          null,
          "2018-10-07T00:00:00",
          null,
          null,
          null,
          "2018-11-04T00:00:00",
          "2018-11-11T00:00:00",
          null,
          null,
          "2018-12-02T00:00:00",
          "2018-12-09T00:00:00",
          null,
          null,
          null,
          "2019-01-06T00:00:00",
          null,
          null,
          null,
          "2019-02-03T00:00:00",
          "2019-02-10T00:00:00",
          null,
          null,
          "2019-03-03T00:00:00",
          "2019-03-10T00:00:00",
          null,
          null,
          null,
          "2019-04-07T00:00:00",
          null,
          null,
          null,
          "2019-05-05T00:00:00",
          "2019-05-12T00:00:00",
          null,
          null,
          "2019-06-02T00:00:00",
          "2019-06-09T00:00:00",
          null,
          null,
          null,
          "2019-07-07T00:00:00",
          null,
          null,
          null,
          "2019-08-04T00:00:00",
          "2019-08-11T00:00:00",
          null,
          null,
          "2019-09-01T00:00:00",
          "2019-09-08T00:00:00",
          null,
          null,
          null,
          "2019-10-06T00:00:00",
          null,
          null,
          null,
          "2019-11-03T00:00:00",
          "2019-11-10T00:00:00",
          null,
          null,
          "2019-12-01T00:00:00",
          "2019-12-08T00:00:00",
          null,
          null,
          null,
          "2020-01-05T00:00:00",
          "2020-01-12T00:00:00",
          null,
          null,
          "2020-02-02T00:00:00",
          "2020-02-09T00:00:00",
          null,
          null,
          "2020-03-01T00:00:00",
          "2020-03-08T00:00:00",
          null,
          null,
          null,
          "2020-04-05T00:00:00",
          "2020-04-12T00:00:00",
          null,
          null,
          "2020-05-03T00:00:00",
          "2020-05-10T00:00:00",
          null,
          null,
          null,
          "2020-06-07T00:00:00",
          null,
          null,
          null,
          "2020-07-05T00:00:00",
          "2020-07-12T00:00:00",
          null,
          null,
          "2020-08-02T00:00:00",
          "2020-08-09T00:00:00",
          null,
          null,
          null,
          "2020-09-06T00:00:00",
          null,
          null,
          null,
          "2020-10-04T00:00:00",
          "2020-10-11T00:00:00",
          null,
          null,
          "2020-11-01T00:00:00",
          "2020-11-08T00:00:00",
          null,
          null,
          null,
          "2020-12-06T00:00:00",
          null,
          null,
          null,
          "2021-01-03T00:00:00",
          "2021-01-10T00:00:00",
          null,
          null,
          null,
          "2021-02-07T00:00:00",
          null,
          null,
          null,
          "2021-03-07T00:00:00",
          null,
          null,
          null,
          "2021-04-04T00:00:00",
          "2021-04-11T00:00:00",
          null,
          null,
          "2021-05-02T00:00:00",
          "2021-05-09T00:00:00",
          null,
          null,
          null,
          "2021-06-06T00:00:00",
          null,
          null,
          null,
          "2021-07-04T00:00:00",
          "2021-07-11T00:00:00",
          null,
          null,
          "2021-08-01T00:00:00",
          "2021-08-08T00:00:00",
          null,
          null,
          null,
          "2021-09-05T00:00:00",
          "2021-09-12T00:00:00",
          null,
          null,
          "2021-10-03T00:00:00",
          "2021-10-10T00:00:00",
          null,
          null,
          null
         ],
         "xaxis": "x",
         "y": [
          0,
          5349.65,
          4235.86,
          3562.21,
          0,
          4310.55,
          0,
          4478.81,
          3156.93,
          4522.03,
          4520.34,
          0,
          5698.46,
          0,
          0,
          0,
          0,
          5160.93,
          0,
          4605.15,
          0,
          0,
          0,
          4006.88,
          0,
          0,
          5049.49,
          0,
          5643.31,
          3429.38,
          4793.1,
          5880.18,
          0,
          5387.28,
          2744.44,
          3977.49,
          0,
          3343.28,
          0,
          0,
          0,
          0,
          5567.29,
          0,
          0,
          0,
          4708.16,
          4238.51,
          5857.92,
          0,
          6466.58,
          5852.55,
          4401.35,
          0,
          0,
          0,
          3231.46,
          0,
          0,
          0,
          4814.95,
          4192.35,
          0,
          0,
          4690.89,
          4766.53,
          0,
          0,
          0,
          0,
          0,
          0,
          5929.51,
          0,
          2905.4,
          0,
          4869.89,
          5093.95,
          0,
          0,
          0,
          0,
          0,
          3583.09,
          0,
          0,
          4028.9,
          5314.82,
          5821.59,
          0,
          5800.56,
          5078.26,
          0,
          3840.58,
          0,
          5194.29,
          0,
          0,
          0,
          0,
          4217.37,
          4889.61,
          0,
          0,
          0,
          0,
          0,
          7021.04,
          0,
          2798.56,
          5199.3,
          0,
          4482.48,
          0,
          4560.81,
          5181.34,
          4497.18,
          0,
          4039.5,
          0,
          0,
          5251.48,
          0,
          0,
          0,
          4290.27,
          0,
          5994.39,
          6319.14,
          0,
          0,
          5496,
          5771.41,
          6029.44,
          0,
          4575.68,
          5862.6,
          2344.38,
          0,
          0,
          0,
          0,
          3970.06,
          4650.06,
          0,
          0,
          7696.22,
          4926.08,
          0,
          0,
          3981.96,
          0,
          5382.73,
          0,
          6096.35,
          0,
          0,
          0,
          0,
          0,
          3820.84,
          6301.43,
          5895.26,
          0,
          3667.79,
          3031.38,
          4339.94,
          0,
          5498.69,
          6047.97,
          0,
          6742.67,
          0,
          0,
          0,
          4111.03,
          5242.12,
          0,
          5936.74,
          6412.33,
          0,
          0,
          2760.4,
          0,
          0,
          0,
          3720.31,
          4414.57,
          0,
          0,
          0,
          0,
          5213.48,
          0,
          4757.98,
          0,
          4615.35,
          4556.16,
          0,
          0
         ],
         "yaxis": "y"
        },
        {
         "hovertemplate": "variable=Google Ads<br>Date=%{x}<br>value=%{y}<extra></extra>",
         "legendgroup": "Google Ads",
         "line": {
          "color": "#00cc96",
          "dash": "solid"
         },
         "marker": {
          "symbol": "circle"
         },
         "mode": "lines",
         "name": "Google Ads",
         "orientation": "v",
         "showlegend": true,
         "type": "scatter",
         "x": [
          "2018-01-07T00:00:00",
          null,
          null,
          null,
          "2018-02-04T00:00:00",
          "2018-02-11T00:00:00",
          null,
          null,
          "2018-03-04T00:00:00",
          "2018-03-11T00:00:00",
          null,
          null,
          "2018-04-01T00:00:00",
          "2018-04-08T00:00:00",
          null,
          null,
          null,
          "2018-05-06T00:00:00",
          null,
          null,
          null,
          "2018-06-03T00:00:00",
          "2018-06-10T00:00:00",
          null,
          null,
          "2018-07-01T00:00:00",
          "2018-07-08T00:00:00",
          null,
          null,
          null,
          "2018-08-05T00:00:00",
          "2018-08-12T00:00:00",
          null,
          null,
          "2018-09-02T00:00:00",
          "2018-09-09T00:00:00",
          null,
          null,
          null,
          "2018-10-07T00:00:00",
          null,
          null,
          null,
          "2018-11-04T00:00:00",
          "2018-11-11T00:00:00",
          null,
          null,
          "2018-12-02T00:00:00",
          "2018-12-09T00:00:00",
          null,
          null,
          null,
          "2019-01-06T00:00:00",
          null,
          null,
          null,
          "2019-02-03T00:00:00",
          "2019-02-10T00:00:00",
          null,
          null,
          "2019-03-03T00:00:00",
          "2019-03-10T00:00:00",
          null,
          null,
          null,
          "2019-04-07T00:00:00",
          null,
          null,
          null,
          "2019-05-05T00:00:00",
          "2019-05-12T00:00:00",
          null,
          null,
          "2019-06-02T00:00:00",
          "2019-06-09T00:00:00",
          null,
          null,
          null,
          "2019-07-07T00:00:00",
          null,
          null,
          null,
          "2019-08-04T00:00:00",
          "2019-08-11T00:00:00",
          null,
          null,
          "2019-09-01T00:00:00",
          "2019-09-08T00:00:00",
          null,
          null,
          null,
          "2019-10-06T00:00:00",
          null,
          null,
          null,
          "2019-11-03T00:00:00",
          "2019-11-10T00:00:00",
          null,
          null,
          "2019-12-01T00:00:00",
          "2019-12-08T00:00:00",
          null,
          null,
          null,
          "2020-01-05T00:00:00",
          "2020-01-12T00:00:00",
          null,
          null,
          "2020-02-02T00:00:00",
          "2020-02-09T00:00:00",
          null,
          null,
          "2020-03-01T00:00:00",
          "2020-03-08T00:00:00",
          null,
          null,
          null,
          "2020-04-05T00:00:00",
          "2020-04-12T00:00:00",
          null,
          null,
          "2020-05-03T00:00:00",
          "2020-05-10T00:00:00",
          null,
          null,
          null,
          "2020-06-07T00:00:00",
          null,
          null,
          null,
          "2020-07-05T00:00:00",
          "2020-07-12T00:00:00",
          null,
          null,
          "2020-08-02T00:00:00",
          "2020-08-09T00:00:00",
          null,
          null,
          null,
          "2020-09-06T00:00:00",
          null,
          null,
          null,
          "2020-10-04T00:00:00",
          "2020-10-11T00:00:00",
          null,
          null,
          "2020-11-01T00:00:00",
          "2020-11-08T00:00:00",
          null,
          null,
          null,
          "2020-12-06T00:00:00",
          null,
          null,
          null,
          "2021-01-03T00:00:00",
          "2021-01-10T00:00:00",
          null,
          null,
          null,
          "2021-02-07T00:00:00",
          null,
          null,
          null,
          "2021-03-07T00:00:00",
          null,
          null,
          null,
          "2021-04-04T00:00:00",
          "2021-04-11T00:00:00",
          null,
          null,
          "2021-05-02T00:00:00",
          "2021-05-09T00:00:00",
          null,
          null,
          null,
          "2021-06-06T00:00:00",
          null,
          null,
          null,
          "2021-07-04T00:00:00",
          "2021-07-11T00:00:00",
          null,
          null,
          "2021-08-01T00:00:00",
          "2021-08-08T00:00:00",
          null,
          null,
          null,
          "2021-09-05T00:00:00",
          "2021-09-12T00:00:00",
          null,
          null,
          "2021-10-03T00:00:00",
          "2021-10-10T00:00:00",
          null,
          null,
          null
         ],
         "xaxis": "x",
         "y": [
          0,
          2218.93,
          2046.96,
          0,
          2187.29,
          1992.98,
          2253.02,
          2042.3,
          1859.02,
          2135.99,
          0,
          0,
          0,
          0,
          1839.37,
          1907.13,
          2204.36,
          1889.49,
          1922.63,
          1897.94,
          2036.79,
          1922.9,
          1679.63,
          0,
          0,
          0,
          2162.53,
          2117.45,
          1898.93,
          0,
          1898.5,
          0,
          2499.44,
          0,
          0,
          1743.09,
          1979.13,
          1802.4,
          1764.47,
          1771.96,
          2351,
          1973.4,
          0,
          0,
          0,
          2144.01,
          0,
          2060.72,
          2154.54,
          1667.68,
          2089.64,
          2339.24,
          1997.03,
          2164.28,
          2134.11,
          1858.5,
          2007.95,
          1686.6,
          1909.74,
          2053.14,
          2144.62,
          2004.92,
          2144,
          1779.42,
          0,
          2003.86,
          0,
          1957.17,
          1900.2,
          2004.27,
          0,
          2038.55,
          1926.99,
          1641.73,
          1988.28,
          0,
          1673.52,
          1986.57,
          2297.87,
          2104.26,
          2122.39,
          0,
          2095.38,
          2029.69,
          2105.81,
          2084.53,
          0,
          0,
          0,
          1989.98,
          0,
          2262.49,
          1828.21,
          1820.21,
          2014.92,
          1784.58,
          1915.07,
          1834.01,
          2282.23,
          2157.16,
          0,
          1921.76,
          2188.18,
          2081.04,
          2099.61,
          1994.76,
          1662.35,
          0,
          1893.5,
          2129.01,
          2202.37,
          1868.41,
          2093.68,
          0,
          0,
          2336.38,
          1829.48,
          0,
          1997.77,
          2002.3,
          0,
          1881.76,
          0,
          2065.39,
          2066.01,
          2445.19,
          2274.2,
          0,
          2064.97,
          2199.42,
          0,
          1986.07,
          2010.31,
          2173.46,
          1830.34,
          1934.87,
          0,
          2062.29,
          0,
          0,
          2194.51,
          0,
          2081.28,
          1961.36,
          2151.15,
          1892.17,
          0,
          0,
          0,
          1769.21,
          1930.41,
          0,
          1793.47,
          1912.65,
          0,
          1918.79,
          1892.95,
          2005.08,
          2230.84,
          2034.5,
          2004.21,
          2019.89,
          2045.48,
          1796.65,
          1977.04,
          0,
          1725.85,
          2173.13,
          2216.28,
          1873.72,
          1951.73,
          1824.36,
          2139.88,
          1787.76,
          1955.5,
          0,
          2010.19,
          1641.15,
          2265.29,
          1807.08,
          2011.98,
          1957.5,
          1847.58,
          1822.44,
          2187.28,
          1894.87,
          2054.23,
          1839.7,
          0,
          2094.45,
          2186.08,
          1964.94,
          1715.62,
          2399.59,
          0,
          1691.68,
          2518.88,
          1919.19,
          1707.65,
          1863.31
         ],
         "yaxis": "y"
        },
        {
         "hovertemplate": "variable=Sales<br>Date=%{x}<br>value=%{y}<extra></extra>",
         "legendgroup": "Sales",
         "line": {
          "color": "#ab63fa",
          "dash": "solid"
         },
         "marker": {
          "symbol": "circle"
         },
         "mode": "lines",
         "name": "Sales",
         "orientation": "v",
         "showlegend": true,
         "type": "scatter",
         "x": [
          "2018-01-07T00:00:00",
          null,
          null,
          null,
          "2018-02-04T00:00:00",
          "2018-02-11T00:00:00",
          null,
          null,
          "2018-03-04T00:00:00",
          "2018-03-11T00:00:00",
          null,
          null,
          "2018-04-01T00:00:00",
          "2018-04-08T00:00:00",
          null,
          null,
          null,
          "2018-05-06T00:00:00",
          null,
          null,
          null,
          "2018-06-03T00:00:00",
          "2018-06-10T00:00:00",
          null,
          null,
          "2018-07-01T00:00:00",
          "2018-07-08T00:00:00",
          null,
          null,
          null,
          "2018-08-05T00:00:00",
          "2018-08-12T00:00:00",
          null,
          null,
          "2018-09-02T00:00:00",
          "2018-09-09T00:00:00",
          null,
          null,
          null,
          "2018-10-07T00:00:00",
          null,
          null,
          null,
          "2018-11-04T00:00:00",
          "2018-11-11T00:00:00",
          null,
          null,
          "2018-12-02T00:00:00",
          "2018-12-09T00:00:00",
          null,
          null,
          null,
          "2019-01-06T00:00:00",
          null,
          null,
          null,
          "2019-02-03T00:00:00",
          "2019-02-10T00:00:00",
          null,
          null,
          "2019-03-03T00:00:00",
          "2019-03-10T00:00:00",
          null,
          null,
          null,
          "2019-04-07T00:00:00",
          null,
          null,
          null,
          "2019-05-05T00:00:00",
          "2019-05-12T00:00:00",
          null,
          null,
          "2019-06-02T00:00:00",
          "2019-06-09T00:00:00",
          null,
          null,
          null,
          "2019-07-07T00:00:00",
          null,
          null,
          null,
          "2019-08-04T00:00:00",
          "2019-08-11T00:00:00",
          null,
          null,
          "2019-09-01T00:00:00",
          "2019-09-08T00:00:00",
          null,
          null,
          null,
          "2019-10-06T00:00:00",
          null,
          null,
          null,
          "2019-11-03T00:00:00",
          "2019-11-10T00:00:00",
          null,
          null,
          "2019-12-01T00:00:00",
          "2019-12-08T00:00:00",
          null,
          null,
          null,
          "2020-01-05T00:00:00",
          "2020-01-12T00:00:00",
          null,
          null,
          "2020-02-02T00:00:00",
          "2020-02-09T00:00:00",
          null,
          null,
          "2020-03-01T00:00:00",
          "2020-03-08T00:00:00",
          null,
          null,
          null,
          "2020-04-05T00:00:00",
          "2020-04-12T00:00:00",
          null,
          null,
          "2020-05-03T00:00:00",
          "2020-05-10T00:00:00",
          null,
          null,
          null,
          "2020-06-07T00:00:00",
          null,
          null,
          null,
          "2020-07-05T00:00:00",
          "2020-07-12T00:00:00",
          null,
          null,
          "2020-08-02T00:00:00",
          "2020-08-09T00:00:00",
          null,
          null,
          null,
          "2020-09-06T00:00:00",
          null,
          null,
          null,
          "2020-10-04T00:00:00",
          "2020-10-11T00:00:00",
          null,
          null,
          "2020-11-01T00:00:00",
          "2020-11-08T00:00:00",
          null,
          null,
          null,
          "2020-12-06T00:00:00",
          null,
          null,
          null,
          "2021-01-03T00:00:00",
          "2021-01-10T00:00:00",
          null,
          null,
          null,
          "2021-02-07T00:00:00",
          null,
          null,
          null,
          "2021-03-07T00:00:00",
          null,
          null,
          null,
          "2021-04-04T00:00:00",
          "2021-04-11T00:00:00",
          null,
          null,
          "2021-05-02T00:00:00",
          "2021-05-09T00:00:00",
          null,
          null,
          null,
          "2021-06-06T00:00:00",
          null,
          null,
          null,
          "2021-07-04T00:00:00",
          "2021-07-11T00:00:00",
          null,
          null,
          "2021-08-01T00:00:00",
          "2021-08-08T00:00:00",
          null,
          null,
          null,
          "2021-09-05T00:00:00",
          "2021-09-12T00:00:00",
          null,
          null,
          "2021-10-03T00:00:00",
          "2021-10-10T00:00:00",
          null,
          null,
          null
         ],
         "xaxis": "x",
         "y": [
          9779.8,
          13245.19,
          12022.66,
          8846.95,
          9797.07,
          13527.65,
          9635.43,
          15355.11,
          12199.37,
          11368.23,
          8640.44,
          4960.26,
          12726.46,
          11421.71,
          10875.31,
          13048.08,
          10775.86,
          15013.62,
          14158.32,
          15918.14,
          11128.75,
          12170.36,
          10134.7,
          11093.55,
          8170.63,
          6542.71,
          11325.8,
          7793.24,
          15010.94,
          10634.31,
          11751.39,
          9151.2,
          9141.46,
          7399.92,
          10893.16,
          11550.47,
          8672.09,
          9427.22,
          8036.91,
          11240.58,
          12386.83,
          12513.84,
          12235.08,
          11895.78,
          10047.41,
          9705.39,
          8847.19,
          10379.07,
          11312.48,
          8226.23,
          13966.11,
          13460.32,
          15742.61,
          10440.98,
          8535.49,
          7801.58,
          9570.01,
          7854.78,
          8067.55,
          7848.26,
          14012.71,
          16127.45,
          11636.97,
          8193.65,
          9451.61,
          11454.02,
          5526.84,
          7677.52,
          8084.98,
          7456.56,
          5365.18,
          8134.16,
          10065.53,
          10878.94,
          11524.63,
          6563.85,
          14165.57,
          15624.56,
          11305.04,
          8245.57,
          7676.64,
          5023.53,
          8058.85,
          9902.44,
          8058.05,
          7498.36,
          12216.8,
          11042.8,
          10713.92,
          9130.06,
          7325.82,
          15292.36,
          11571.92,
          10464.3,
          9229.31,
          9964.76,
          8018.56,
          7278.85,
          8467.44,
          7620.08,
          7353.99,
          12947.48,
          10250.78,
          13096.57,
          10843.3,
          9702.32,
          11509.72,
          10862.91,
          14894.3,
          12071.16,
          16592.25,
          12441.24,
          12279.8,
          6790.08,
          11909.22,
          13496.33,
          12297.33,
          6378.02,
          14447.22,
          14199.63,
          8818.6,
          11735.1,
          10804.46,
          10008.84,
          13038.94,
          12997.57,
          13131.68,
          14703.9,
          17668.34,
          13267.43,
          8106.56,
          11182.44,
          10886.67,
          11160.91,
          7160.31,
          14452.13,
          11189.87,
          15012.92,
          8606.27,
          5991.27,
          8239.06,
          5561.95,
          9797.26,
          14673.81,
          11598.35,
          13368.12,
          14428.14,
          11172.84,
          6340.56,
          8095.38,
          9268.66,
          4532.33,
          10982.62,
          8447.64,
          7617.05,
          7610.02,
          7849.88,
          7104.61,
          8447.4,
          7885.48,
          9992.42,
          11322.95,
          15977.27,
          14259.48,
          12886.05,
          9131.86,
          10953.39,
          8574.23,
          14958.05,
          13543.21,
          13867.08,
          13854.92,
          10895.22,
          7854.4,
          7405.54,
          7705.26,
          10888.41,
          7715.63,
          10581.72,
          11218.58,
          12789.7,
          9923.23,
          9781.83,
          11570.62,
          12294.54,
          9745.9,
          11918.41,
          10983.4,
          8944.74,
          13131.49,
          14669.4,
          13843.33,
          14024.53,
          13315.79,
          10237.24,
          9030.17,
          15904.11,
          12839.29,
          9063.45,
          7250.21
         ],
         "yaxis": "y"
        }
       ],
       "layout": {
        "legend": {
         "title": {
          "text": "variable"
         },
         "tracegroupgap": 0
        },
        "margin": {
         "t": 60
        },
        "template": {
         "data": {
          "bar": [
           {
            "error_x": {
             "color": "#2a3f5f"
            },
            "error_y": {
             "color": "#2a3f5f"
            },
            "marker": {
             "line": {
              "color": "#E5ECF6",
              "width": 0.5
             },
             "pattern": {
              "fillmode": "overlay",
              "size": 10,
              "solidity": 0.2
             }
            },
            "type": "bar"
           }
          ],
          "barpolar": [
           {
            "marker": {
             "line": {
              "color": "#E5ECF6",
              "width": 0.5
             },
             "pattern": {
              "fillmode": "overlay",
              "size": 10,
              "solidity": 0.2
             }
            },
            "type": "barpolar"
           }
          ],
          "carpet": [
           {
            "aaxis": {
             "endlinecolor": "#2a3f5f",
             "gridcolor": "white",
             "linecolor": "white",
             "minorgridcolor": "white",
             "startlinecolor": "#2a3f5f"
            },
            "baxis": {
             "endlinecolor": "#2a3f5f",
             "gridcolor": "white",
             "linecolor": "white",
             "minorgridcolor": "white",
             "startlinecolor": "#2a3f5f"
            },
            "type": "carpet"
           }
          ],
          "choropleth": [
           {
            "colorbar": {
             "outlinewidth": 0,
             "ticks": ""
            },
            "type": "choropleth"
           }
          ],
          "contour": [
           {
            "colorbar": {
             "outlinewidth": 0,
             "ticks": ""
            },
            "colorscale": [
             [
              0,
              "#0d0887"
             ],
             [
              0.1111111111111111,
              "#46039f"
             ],
             [
              0.2222222222222222,
              "#7201a8"
             ],
             [
              0.3333333333333333,
              "#9c179e"
             ],
             [
              0.4444444444444444,
              "#bd3786"
             ],
             [
              0.5555555555555556,
              "#d8576b"
             ],
             [
              0.6666666666666666,
              "#ed7953"
             ],
             [
              0.7777777777777778,
              "#fb9f3a"
             ],
             [
              0.8888888888888888,
              "#fdca26"
             ],
             [
              1,
              "#f0f921"
             ]
            ],
            "type": "contour"
           }
          ],
          "contourcarpet": [
           {
            "colorbar": {
             "outlinewidth": 0,
             "ticks": ""
            },
            "type": "contourcarpet"
           }
          ],
          "heatmap": [
           {
            "colorbar": {
             "outlinewidth": 0,
             "ticks": ""
            },
            "colorscale": [
             [
              0,
              "#0d0887"
             ],
             [
              0.1111111111111111,
              "#46039f"
             ],
             [
              0.2222222222222222,
              "#7201a8"
             ],
             [
              0.3333333333333333,
              "#9c179e"
             ],
             [
              0.4444444444444444,
              "#bd3786"
             ],
             [
              0.5555555555555556,
              "#d8576b"
             ],
             [
              0.6666666666666666,
              "#ed7953"
             ],
             [
              0.7777777777777778,
              "#fb9f3a"
             ],
             [
              0.8888888888888888,
              "#fdca26"
             ],
             [
              1,
              "#f0f921"
             ]
            ],
            "type": "heatmap"
           }
          ],
          "heatmapgl": [
           {
            "colorbar": {
             "outlinewidth": 0,
             "ticks": ""
            },
            "colorscale": [
             [
              0,
              "#0d0887"
             ],
             [
              0.1111111111111111,
              "#46039f"
             ],
             [
              0.2222222222222222,
              "#7201a8"
             ],
             [
              0.3333333333333333,
              "#9c179e"
             ],
             [
              0.4444444444444444,
              "#bd3786"
             ],
             [
              0.5555555555555556,
              "#d8576b"
             ],
             [
              0.6666666666666666,
              "#ed7953"
             ],
             [
              0.7777777777777778,
              "#fb9f3a"
             ],
             [
              0.8888888888888888,
              "#fdca26"
             ],
             [
              1,
              "#f0f921"
             ]
            ],
            "type": "heatmapgl"
           }
          ],
          "histogram": [
           {
            "marker": {
             "pattern": {
              "fillmode": "overlay",
              "size": 10,
              "solidity": 0.2
             }
            },
            "type": "histogram"
           }
          ],
          "histogram2d": [
           {
            "colorbar": {
             "outlinewidth": 0,
             "ticks": ""
            },
            "colorscale": [
             [
              0,
              "#0d0887"
             ],
             [
              0.1111111111111111,
              "#46039f"
             ],
             [
              0.2222222222222222,
              "#7201a8"
             ],
             [
              0.3333333333333333,
              "#9c179e"
             ],
             [
              0.4444444444444444,
              "#bd3786"
             ],
             [
              0.5555555555555556,
              "#d8576b"
             ],
             [
              0.6666666666666666,
              "#ed7953"
             ],
             [
              0.7777777777777778,
              "#fb9f3a"
             ],
             [
              0.8888888888888888,
              "#fdca26"
             ],
             [
              1,
              "#f0f921"
             ]
            ],
            "type": "histogram2d"
           }
          ],
          "histogram2dcontour": [
           {
            "colorbar": {
             "outlinewidth": 0,
             "ticks": ""
            },
            "colorscale": [
             [
              0,
              "#0d0887"
             ],
             [
              0.1111111111111111,
              "#46039f"
             ],
             [
              0.2222222222222222,
              "#7201a8"
             ],
             [
              0.3333333333333333,
              "#9c179e"
             ],
             [
              0.4444444444444444,
              "#bd3786"
             ],
             [
              0.5555555555555556,
              "#d8576b"
             ],
             [
              0.6666666666666666,
              "#ed7953"
             ],
             [
              0.7777777777777778,
              "#fb9f3a"
             ],
             [
              0.8888888888888888,
              "#fdca26"
             ],
             [
              1,
              "#f0f921"
             ]
            ],
            "type": "histogram2dcontour"
           }
          ],
          "mesh3d": [
           {
            "colorbar": {
             "outlinewidth": 0,
             "ticks": ""
            },
            "type": "mesh3d"
           }
          ],
          "parcoords": [
           {
            "line": {
             "colorbar": {
              "outlinewidth": 0,
              "ticks": ""
             }
            },
            "type": "parcoords"
           }
          ],
          "pie": [
           {
            "automargin": true,
            "type": "pie"
           }
          ],
          "scatter": [
           {
            "fillpattern": {
             "fillmode": "overlay",
             "size": 10,
             "solidity": 0.2
            },
            "type": "scatter"
           }
          ],
          "scatter3d": [
           {
            "line": {
             "colorbar": {
              "outlinewidth": 0,
              "ticks": ""
             }
            },
            "marker": {
             "colorbar": {
              "outlinewidth": 0,
              "ticks": ""
             }
            },
            "type": "scatter3d"
           }
          ],
          "scattercarpet": [
           {
            "marker": {
             "colorbar": {
              "outlinewidth": 0,
              "ticks": ""
             }
            },
            "type": "scattercarpet"
           }
          ],
          "scattergeo": [
           {
            "marker": {
             "colorbar": {
              "outlinewidth": 0,
              "ticks": ""
             }
            },
            "type": "scattergeo"
           }
          ],
          "scattergl": [
           {
            "marker": {
             "colorbar": {
              "outlinewidth": 0,
              "ticks": ""
             }
            },
            "type": "scattergl"
           }
          ],
          "scattermapbox": [
           {
            "marker": {
             "colorbar": {
              "outlinewidth": 0,
              "ticks": ""
             }
            },
            "type": "scattermapbox"
           }
          ],
          "scatterpolar": [
           {
            "marker": {
             "colorbar": {
              "outlinewidth": 0,
              "ticks": ""
             }
            },
            "type": "scatterpolar"
           }
          ],
          "scatterpolargl": [
           {
            "marker": {
             "colorbar": {
              "outlinewidth": 0,
              "ticks": ""
             }
            },
            "type": "scatterpolargl"
           }
          ],
          "scatterternary": [
           {
            "marker": {
             "colorbar": {
              "outlinewidth": 0,
              "ticks": ""
             }
            },
            "type": "scatterternary"
           }
          ],
          "surface": [
           {
            "colorbar": {
             "outlinewidth": 0,
             "ticks": ""
            },
            "colorscale": [
             [
              0,
              "#0d0887"
             ],
             [
              0.1111111111111111,
              "#46039f"
             ],
             [
              0.2222222222222222,
              "#7201a8"
             ],
             [
              0.3333333333333333,
              "#9c179e"
             ],
             [
              0.4444444444444444,
              "#bd3786"
             ],
             [
              0.5555555555555556,
              "#d8576b"
             ],
             [
              0.6666666666666666,
              "#ed7953"
             ],
             [
              0.7777777777777778,
              "#fb9f3a"
             ],
             [
              0.8888888888888888,
              "#fdca26"
             ],
             [
              1,
              "#f0f921"
             ]
            ],
            "type": "surface"
           }
          ],
          "table": [
           {
            "cells": {
             "fill": {
              "color": "#EBF0F8"
             },
             "line": {
              "color": "white"
             }
            },
            "header": {
             "fill": {
              "color": "#C8D4E3"
             },
             "line": {
              "color": "white"
             }
            },
            "type": "table"
           }
          ]
         },
         "layout": {
          "annotationdefaults": {
           "arrowcolor": "#2a3f5f",
           "arrowhead": 0,
           "arrowwidth": 1
          },
          "autotypenumbers": "strict",
          "coloraxis": {
           "colorbar": {
            "outlinewidth": 0,
            "ticks": ""
           }
          },
          "colorscale": {
           "diverging": [
            [
             0,
             "#8e0152"
            ],
            [
             0.1,
             "#c51b7d"
            ],
            [
             0.2,
             "#de77ae"
            ],
            [
             0.3,
             "#f1b6da"
            ],
            [
             0.4,
             "#fde0ef"
            ],
            [
             0.5,
             "#f7f7f7"
            ],
            [
             0.6,
             "#e6f5d0"
            ],
            [
             0.7,
             "#b8e186"
            ],
            [
             0.8,
             "#7fbc41"
            ],
            [
             0.9,
             "#4d9221"
            ],
            [
             1,
             "#276419"
            ]
           ],
           "sequential": [
            [
             0,
             "#0d0887"
            ],
            [
             0.1111111111111111,
             "#46039f"
            ],
            [
             0.2222222222222222,
             "#7201a8"
            ],
            [
             0.3333333333333333,
             "#9c179e"
            ],
            [
             0.4444444444444444,
             "#bd3786"
            ],
            [
             0.5555555555555556,
             "#d8576b"
            ],
            [
             0.6666666666666666,
             "#ed7953"
            ],
            [
             0.7777777777777778,
             "#fb9f3a"
            ],
            [
             0.8888888888888888,
             "#fdca26"
            ],
            [
             1,
             "#f0f921"
            ]
           ],
           "sequentialminus": [
            [
             0,
             "#0d0887"
            ],
            [
             0.1111111111111111,
             "#46039f"
            ],
            [
             0.2222222222222222,
             "#7201a8"
            ],
            [
             0.3333333333333333,
             "#9c179e"
            ],
            [
             0.4444444444444444,
             "#bd3786"
            ],
            [
             0.5555555555555556,
             "#d8576b"
            ],
            [
             0.6666666666666666,
             "#ed7953"
            ],
            [
             0.7777777777777778,
             "#fb9f3a"
            ],
            [
             0.8888888888888888,
             "#fdca26"
            ],
            [
             1,
             "#f0f921"
            ]
           ]
          },
          "colorway": [
           "#636efa",
           "#EF553B",
           "#00cc96",
           "#ab63fa",
           "#FFA15A",
           "#19d3f3",
           "#FF6692",
           "#B6E880",
           "#FF97FF",
           "#FECB52"
          ],
          "font": {
           "color": "#2a3f5f"
          },
          "geo": {
           "bgcolor": "white",
           "lakecolor": "white",
           "landcolor": "#E5ECF6",
           "showlakes": true,
           "showland": true,
           "subunitcolor": "white"
          },
          "hoverlabel": {
           "align": "left"
          },
          "hovermode": "closest",
          "mapbox": {
           "style": "light"
          },
          "paper_bgcolor": "white",
          "plot_bgcolor": "#E5ECF6",
          "polar": {
           "angularaxis": {
            "gridcolor": "white",
            "linecolor": "white",
            "ticks": ""
           },
           "bgcolor": "#E5ECF6",
           "radialaxis": {
            "gridcolor": "white",
            "linecolor": "white",
            "ticks": ""
           }
          },
          "scene": {
           "xaxis": {
            "backgroundcolor": "#E5ECF6",
            "gridcolor": "white",
            "gridwidth": 2,
            "linecolor": "white",
            "showbackground": true,
            "ticks": "",
            "zerolinecolor": "white"
           },
           "yaxis": {
            "backgroundcolor": "#E5ECF6",
            "gridcolor": "white",
            "gridwidth": 2,
            "linecolor": "white",
            "showbackground": true,
            "ticks": "",
            "zerolinecolor": "white"
           },
           "zaxis": {
            "backgroundcolor": "#E5ECF6",
            "gridcolor": "white",
            "gridwidth": 2,
            "linecolor": "white",
            "showbackground": true,
            "ticks": "",
            "zerolinecolor": "white"
           }
          },
          "shapedefaults": {
           "line": {
            "color": "#2a3f5f"
           }
          },
          "ternary": {
           "aaxis": {
            "gridcolor": "white",
            "linecolor": "white",
            "ticks": ""
           },
           "baxis": {
            "gridcolor": "white",
            "linecolor": "white",
            "ticks": ""
           },
           "bgcolor": "#E5ECF6",
           "caxis": {
            "gridcolor": "white",
            "linecolor": "white",
            "ticks": ""
           }
          },
          "title": {
           "x": 0.05
          },
          "xaxis": {
           "automargin": true,
           "gridcolor": "white",
           "linecolor": "white",
           "ticks": "",
           "title": {
            "standoff": 15
           },
           "zerolinecolor": "white",
           "zerolinewidth": 2
          },
          "yaxis": {
           "automargin": true,
           "gridcolor": "white",
           "linecolor": "white",
           "ticks": "",
           "title": {
            "standoff": 15
           },
           "zerolinecolor": "white",
           "zerolinewidth": 2
          }
         }
        },
        "xaxis": {
         "anchor": "y",
         "domain": [
          0,
          1
         ],
         "title": {
          "text": "Date"
         }
        },
        "yaxis": {
         "anchor": "x",
         "domain": [
          0,
          1
         ],
         "title": {
          "text": "value"
         }
        }
       }
      }
     },
     "metadata": {},
     "output_type": "display_data"
    }
   ],
   "source": [
    "figure = px.line(df , x='Date' , y=df.columns)\n",
    "figure.show()"
   ]
  },
  {
   "cell_type": "code",
   "execution_count": 53,
   "metadata": {},
   "outputs": [
    {
     "name": "stdout",
     "output_type": "stream",
     "text": [
      "                            OLS Regression Results                            \n",
      "==============================================================================\n",
      "Dep. Variable:                  Sales   R-squared:                       0.782\n",
      "Model:                            OLS   Adj. R-squared:                  0.779\n",
      "Method:                 Least Squares   F-statistic:                     234.8\n",
      "Date:                Wed, 13 Mar 2024   Prob (F-statistic):           1.28e-64\n",
      "Time:                        22:39:03   Log-Likelihood:                -1711.1\n",
      "No. Observations:                 200   AIC:                             3430.\n",
      "Df Residuals:                     196   BIC:                             3443.\n",
      "Df Model:                           3                                         \n",
      "Covariance Type:            nonrobust                                         \n",
      "==============================================================================\n",
      "                 coef    std err          t      P>|t|      [0.025      0.975]\n",
      "------------------------------------------------------------------------------\n",
      "const       6678.3969    209.575     31.866      0.000    6265.086    7091.708\n",
      "TikTok         0.3597      0.019     18.904      0.000       0.322       0.397\n",
      "Facebook       0.4883      0.036     13.475      0.000       0.417       0.560\n",
      "Google Ads     1.2159      0.104     11.697      0.000       1.011       1.421\n",
      "==============================================================================\n",
      "Omnibus:                        9.926   Durbin-Watson:                   1.221\n",
      "Prob(Omnibus):                  0.007   Jarque-Bera (JB):               10.202\n",
      "Skew:                           0.521   Prob(JB):                      0.00609\n",
      "Kurtosis:                       2.630   Cond. No.                     1.37e+04\n",
      "==============================================================================\n",
      "\n",
      "Notes:\n",
      "[1] Standard Errors assume that the covariance matrix of the errors is correctly specified.\n",
      "[2] The condition number is large, 1.37e+04. This might indicate that there are\n",
      "strong multicollinearity or other numerical problems.\n"
     ]
    }
   ],
   "source": [
    "inputs = ['TikTok' , 'Facebook' , 'Google Ads']\n",
    "x = df[inputs]\n",
    "y = df['Sales']\n",
    "\n",
    "x=sm.add_constant(x)\n",
    "result = sm.OLS(y,x).fit()\n",
    "print(result.summary())"
   ]
  },
  {
   "cell_type": "code",
   "execution_count": 54,
   "metadata": {},
   "outputs": [
    {
     "name": "stdout",
     "output_type": "stream",
     "text": [
      "0.7895602809604049 0.7602787255227942\n"
     ]
    }
   ],
   "source": [
    "x_train , x_test , y_train , y_test = train_test_split(x , y ,test_size=0.3 )\n",
    "\n",
    "model = LinearRegression()\n",
    "\n",
    "model.fit(x_train , y_train)\n",
    "\n",
    "print(\n",
    "    model.score(x_train,y_train),\n",
    "    model.score(x_test,y_test)\n",
    ")"
   ]
  },
  {
   "cell_type": "code",
   "execution_count": 55,
   "metadata": {},
   "outputs": [
    {
     "data": {
      "text/plain": [
       "array([0.        , 0.35635763, 0.48127475, 1.32545808])"
      ]
     },
     "execution_count": 55,
     "metadata": {},
     "output_type": "execute_result"
    }
   ],
   "source": [
    "model.coef_"
   ]
  },
  {
   "cell_type": "code",
   "execution_count": 56,
   "metadata": {},
   "outputs": [
    {
     "data": {
      "text/plain": [
       "Index(['const', 'TikTok', 'Facebook', 'Google Ads'], dtype='object')"
      ]
     },
     "execution_count": 56,
     "metadata": {},
     "output_type": "execute_result"
    }
   ],
   "source": [
    "x.columns"
   ]
  },
  {
   "cell_type": "code",
   "execution_count": 57,
   "metadata": {},
   "outputs": [
    {
     "data": {
      "text/plain": [
       "6464.040370660619"
      ]
     },
     "execution_count": 57,
     "metadata": {},
     "output_type": "execute_result"
    }
   ],
   "source": [
    "model.intercept_"
   ]
  },
  {
   "cell_type": "code",
   "execution_count": 58,
   "metadata": {},
   "outputs": [],
   "source": [
    "df['Date'] = pd.to_datetime(df['Date'], format='%m-%d-%Y', errors='coerce')"
   ]
  },
  {
   "cell_type": "code",
   "execution_count": 59,
   "metadata": {},
   "outputs": [
    {
     "data": {
      "text/html": [
       "<div>\n",
       "<style scoped>\n",
       "    .dataframe tbody tr th:only-of-type {\n",
       "        vertical-align: middle;\n",
       "    }\n",
       "\n",
       "    .dataframe tbody tr th {\n",
       "        vertical-align: top;\n",
       "    }\n",
       "\n",
       "    .dataframe thead th {\n",
       "        text-align: right;\n",
       "    }\n",
       "</style>\n",
       "<table border=\"1\" class=\"dataframe\">\n",
       "  <thead>\n",
       "    <tr style=\"text-align: right;\">\n",
       "      <th></th>\n",
       "      <th>Date</th>\n",
       "      <th>TikTok</th>\n",
       "      <th>Facebook</th>\n",
       "      <th>Google Ads</th>\n",
       "      <th>Sales</th>\n",
       "    </tr>\n",
       "  </thead>\n",
       "  <tbody>\n",
       "    <tr>\n",
       "      <th>Date</th>\n",
       "      <td>1.000000</td>\n",
       "      <td>0.064813</td>\n",
       "      <td>0.064952</td>\n",
       "      <td>-0.039955</td>\n",
       "      <td>0.047973</td>\n",
       "    </tr>\n",
       "    <tr>\n",
       "      <th>TikTok</th>\n",
       "      <td>0.064813</td>\n",
       "      <td>1.000000</td>\n",
       "      <td>0.084128</td>\n",
       "      <td>0.021735</td>\n",
       "      <td>0.679205</td>\n",
       "    </tr>\n",
       "    <tr>\n",
       "      <th>Facebook</th>\n",
       "      <td>0.064952</td>\n",
       "      <td>0.084128</td>\n",
       "      <td>1.000000</td>\n",
       "      <td>-0.100946</td>\n",
       "      <td>0.466762</td>\n",
       "    </tr>\n",
       "    <tr>\n",
       "      <th>Google Ads</th>\n",
       "      <td>-0.039955</td>\n",
       "      <td>0.021735</td>\n",
       "      <td>-0.100946</td>\n",
       "      <td>1.000000</td>\n",
       "      <td>0.360046</td>\n",
       "    </tr>\n",
       "    <tr>\n",
       "      <th>Sales</th>\n",
       "      <td>0.047973</td>\n",
       "      <td>0.679205</td>\n",
       "      <td>0.466762</td>\n",
       "      <td>0.360046</td>\n",
       "      <td>1.000000</td>\n",
       "    </tr>\n",
       "  </tbody>\n",
       "</table>\n",
       "</div>"
      ],
      "text/plain": [
       "                Date    TikTok  Facebook  Google Ads     Sales\n",
       "Date        1.000000  0.064813  0.064952   -0.039955  0.047973\n",
       "TikTok      0.064813  1.000000  0.084128    0.021735  0.679205\n",
       "Facebook    0.064952  0.084128  1.000000   -0.100946  0.466762\n",
       "Google Ads -0.039955  0.021735 -0.100946    1.000000  0.360046\n",
       "Sales       0.047973  0.679205  0.466762    0.360046  1.000000"
      ]
     },
     "execution_count": 59,
     "metadata": {},
     "output_type": "execute_result"
    }
   ],
   "source": [
    "df.corr()"
   ]
  },
  {
   "cell_type": "code",
   "execution_count": 60,
   "metadata": {},
   "outputs": [
    {
     "data": {
      "text/plain": [
       "Date          0.047973\n",
       "TikTok        0.679205\n",
       "Facebook      0.466762\n",
       "Google Ads    0.360046\n",
       "Sales         1.000000\n",
       "Name: Sales, dtype: float64"
      ]
     },
     "execution_count": 60,
     "metadata": {},
     "output_type": "execute_result"
    }
   ],
   "source": [
    "df.corr()['Sales']"
   ]
  },
  {
   "cell_type": "code",
   "execution_count": 61,
   "metadata": {},
   "outputs": [],
   "source": [
    "date = df['Date']\n",
    "x1= df['TikTok']\n",
    "x2 = df['Facebook']\n",
    "x3 = df['Google Ads']\n",
    "y = df['Sales']"
   ]
  },
  {
   "cell_type": "code",
   "execution_count": 62,
   "metadata": {},
   "outputs": [
    {
     "data": {
      "application/vnd.plotly.v1+json": {
       "config": {
        "plotlyServerURL": "https://plot.ly"
       },
       "data": [
        {
         "hovertemplate": "TikTok=%{x}<br>Sales=%{y}<extra></extra>",
         "legendgroup": "",
         "marker": {
          "color": "#636efa",
          "symbol": "circle"
         },
         "mode": "markers",
         "name": "",
         "orientation": "v",
         "showlegend": false,
         "type": "scatter",
         "x": [
          13528.1,
          0,
          0,
          0,
          0,
          8045.44,
          0,
          9697.29,
          0,
          0,
          0,
          0,
          11522.08,
          10243.35,
          0,
          10667.35,
          0,
          9589.68,
          10626.14,
          8291.81,
          0,
          11307.24,
          0,
          8515.67,
          0,
          0,
          0,
          0,
          13065.56,
          0,
          0,
          0,
          0,
          0,
          9304.18,
          0,
          0,
          0,
          0,
          9395.39,
          7902.89,
          7159.96,
          6587.46,
          13901.55,
          0,
          0,
          0,
          0,
          0,
          0,
          8209.07,
          0,
          8978.39,
          0,
          0,
          0,
          0,
          0,
          0,
          0,
          8655.08,
          9280.89,
          0,
          0,
          0,
          0,
          0,
          0,
          0,
          0,
          0,
          0,
          0,
          7530.35,
          0,
          0,
          8258.41,
          8842.3,
          0,
          0,
          0,
          0,
          0,
          0,
          0,
          0,
          12357.56,
          0,
          0,
          0,
          0,
          12444.89,
          0,
          0,
          0,
          0,
          0,
          0,
          0,
          0,
          0,
          7304.48,
          0,
          11938.79,
          0,
          0,
          9172.76,
          0,
          13845.88,
          0,
          13735.12,
          0,
          0,
          0,
          9463.99,
          0,
          0,
          0,
          11228.16,
          11844.41,
          0,
          0,
          10596.48,
          0,
          8610.86,
          0,
          9129.69,
          13698.53,
          11344.59,
          0,
          0,
          0,
          0,
          0,
          0,
          11352.87,
          0,
          9583.4,
          0,
          0,
          0,
          0,
          0,
          11270.06,
          0,
          11888.96,
          8174.36,
          0,
          0,
          0,
          0,
          0,
          0,
          0,
          0,
          0,
          0,
          0,
          0,
          0,
          0,
          0,
          11898.84,
          10175.1,
          0,
          0,
          0,
          0,
          12376.06,
          0,
          11841.72,
          0,
          0,
          0,
          0,
          0,
          0,
          0,
          0,
          0,
          9292.01,
          0,
          0,
          5553.19,
          11250.46,
          0,
          0,
          0,
          8520.87,
          13086.03,
          7414.29,
          10534.1,
          0,
          7663.81,
          0,
          0,
          11543.58,
          0,
          0,
          0
         ],
         "xaxis": "x",
         "y": [
          9779.8,
          13245.19,
          12022.66,
          8846.95,
          9797.07,
          13527.65,
          9635.43,
          15355.11,
          12199.37,
          11368.23,
          8640.44,
          4960.26,
          12726.46,
          11421.71,
          10875.31,
          13048.08,
          10775.86,
          15013.62,
          14158.32,
          15918.14,
          11128.75,
          12170.36,
          10134.7,
          11093.55,
          8170.63,
          6542.71,
          11325.8,
          7793.24,
          15010.94,
          10634.31,
          11751.39,
          9151.2,
          9141.46,
          7399.92,
          10893.16,
          11550.47,
          8672.09,
          9427.22,
          8036.91,
          11240.58,
          12386.83,
          12513.84,
          12235.08,
          11895.78,
          10047.41,
          9705.39,
          8847.19,
          10379.07,
          11312.48,
          8226.23,
          13966.11,
          13460.32,
          15742.61,
          10440.98,
          8535.49,
          7801.58,
          9570.01,
          7854.78,
          8067.55,
          7848.26,
          14012.71,
          16127.45,
          11636.97,
          8193.65,
          9451.61,
          11454.02,
          5526.84,
          7677.52,
          8084.98,
          7456.56,
          5365.18,
          8134.16,
          10065.53,
          10878.94,
          11524.63,
          6563.85,
          14165.57,
          15624.56,
          11305.04,
          8245.57,
          7676.64,
          5023.53,
          8058.85,
          9902.44,
          8058.05,
          7498.36,
          12216.8,
          11042.8,
          10713.92,
          9130.06,
          7325.82,
          15292.36,
          11571.92,
          10464.3,
          9229.31,
          9964.76,
          8018.56,
          7278.85,
          8467.44,
          7620.08,
          7353.99,
          12947.48,
          10250.78,
          13096.57,
          10843.3,
          9702.32,
          11509.72,
          10862.91,
          14894.3,
          12071.16,
          16592.25,
          12441.24,
          12279.8,
          6790.08,
          11909.22,
          13496.33,
          12297.33,
          6378.02,
          14447.22,
          14199.63,
          8818.6,
          11735.1,
          10804.46,
          10008.84,
          13038.94,
          12997.57,
          13131.68,
          14703.9,
          17668.34,
          13267.43,
          8106.56,
          11182.44,
          10886.67,
          11160.91,
          7160.31,
          14452.13,
          11189.87,
          15012.92,
          8606.27,
          5991.27,
          8239.06,
          5561.95,
          9797.26,
          14673.81,
          11598.35,
          13368.12,
          14428.14,
          11172.84,
          6340.56,
          8095.38,
          9268.66,
          4532.33,
          10982.62,
          8447.64,
          7617.05,
          7610.02,
          7849.88,
          7104.61,
          8447.4,
          7885.48,
          9992.42,
          11322.95,
          15977.27,
          14259.48,
          12886.05,
          9131.86,
          10953.39,
          8574.23,
          14958.05,
          13543.21,
          13867.08,
          13854.92,
          10895.22,
          7854.4,
          7405.54,
          7705.26,
          10888.41,
          7715.63,
          10581.72,
          11218.58,
          12789.7,
          9923.23,
          9781.83,
          11570.62,
          12294.54,
          9745.9,
          11918.41,
          10983.4,
          8944.74,
          13131.49,
          14669.4,
          13843.33,
          14024.53,
          13315.79,
          10237.24,
          9030.17,
          15904.11,
          12839.29,
          9063.45,
          7250.21
         ],
         "yaxis": "y"
        }
       ],
       "layout": {
        "legend": {
         "tracegroupgap": 0
        },
        "margin": {
         "t": 60
        },
        "template": {
         "data": {
          "bar": [
           {
            "error_x": {
             "color": "#2a3f5f"
            },
            "error_y": {
             "color": "#2a3f5f"
            },
            "marker": {
             "line": {
              "color": "#E5ECF6",
              "width": 0.5
             },
             "pattern": {
              "fillmode": "overlay",
              "size": 10,
              "solidity": 0.2
             }
            },
            "type": "bar"
           }
          ],
          "barpolar": [
           {
            "marker": {
             "line": {
              "color": "#E5ECF6",
              "width": 0.5
             },
             "pattern": {
              "fillmode": "overlay",
              "size": 10,
              "solidity": 0.2
             }
            },
            "type": "barpolar"
           }
          ],
          "carpet": [
           {
            "aaxis": {
             "endlinecolor": "#2a3f5f",
             "gridcolor": "white",
             "linecolor": "white",
             "minorgridcolor": "white",
             "startlinecolor": "#2a3f5f"
            },
            "baxis": {
             "endlinecolor": "#2a3f5f",
             "gridcolor": "white",
             "linecolor": "white",
             "minorgridcolor": "white",
             "startlinecolor": "#2a3f5f"
            },
            "type": "carpet"
           }
          ],
          "choropleth": [
           {
            "colorbar": {
             "outlinewidth": 0,
             "ticks": ""
            },
            "type": "choropleth"
           }
          ],
          "contour": [
           {
            "colorbar": {
             "outlinewidth": 0,
             "ticks": ""
            },
            "colorscale": [
             [
              0,
              "#0d0887"
             ],
             [
              0.1111111111111111,
              "#46039f"
             ],
             [
              0.2222222222222222,
              "#7201a8"
             ],
             [
              0.3333333333333333,
              "#9c179e"
             ],
             [
              0.4444444444444444,
              "#bd3786"
             ],
             [
              0.5555555555555556,
              "#d8576b"
             ],
             [
              0.6666666666666666,
              "#ed7953"
             ],
             [
              0.7777777777777778,
              "#fb9f3a"
             ],
             [
              0.8888888888888888,
              "#fdca26"
             ],
             [
              1,
              "#f0f921"
             ]
            ],
            "type": "contour"
           }
          ],
          "contourcarpet": [
           {
            "colorbar": {
             "outlinewidth": 0,
             "ticks": ""
            },
            "type": "contourcarpet"
           }
          ],
          "heatmap": [
           {
            "colorbar": {
             "outlinewidth": 0,
             "ticks": ""
            },
            "colorscale": [
             [
              0,
              "#0d0887"
             ],
             [
              0.1111111111111111,
              "#46039f"
             ],
             [
              0.2222222222222222,
              "#7201a8"
             ],
             [
              0.3333333333333333,
              "#9c179e"
             ],
             [
              0.4444444444444444,
              "#bd3786"
             ],
             [
              0.5555555555555556,
              "#d8576b"
             ],
             [
              0.6666666666666666,
              "#ed7953"
             ],
             [
              0.7777777777777778,
              "#fb9f3a"
             ],
             [
              0.8888888888888888,
              "#fdca26"
             ],
             [
              1,
              "#f0f921"
             ]
            ],
            "type": "heatmap"
           }
          ],
          "heatmapgl": [
           {
            "colorbar": {
             "outlinewidth": 0,
             "ticks": ""
            },
            "colorscale": [
             [
              0,
              "#0d0887"
             ],
             [
              0.1111111111111111,
              "#46039f"
             ],
             [
              0.2222222222222222,
              "#7201a8"
             ],
             [
              0.3333333333333333,
              "#9c179e"
             ],
             [
              0.4444444444444444,
              "#bd3786"
             ],
             [
              0.5555555555555556,
              "#d8576b"
             ],
             [
              0.6666666666666666,
              "#ed7953"
             ],
             [
              0.7777777777777778,
              "#fb9f3a"
             ],
             [
              0.8888888888888888,
              "#fdca26"
             ],
             [
              1,
              "#f0f921"
             ]
            ],
            "type": "heatmapgl"
           }
          ],
          "histogram": [
           {
            "marker": {
             "pattern": {
              "fillmode": "overlay",
              "size": 10,
              "solidity": 0.2
             }
            },
            "type": "histogram"
           }
          ],
          "histogram2d": [
           {
            "colorbar": {
             "outlinewidth": 0,
             "ticks": ""
            },
            "colorscale": [
             [
              0,
              "#0d0887"
             ],
             [
              0.1111111111111111,
              "#46039f"
             ],
             [
              0.2222222222222222,
              "#7201a8"
             ],
             [
              0.3333333333333333,
              "#9c179e"
             ],
             [
              0.4444444444444444,
              "#bd3786"
             ],
             [
              0.5555555555555556,
              "#d8576b"
             ],
             [
              0.6666666666666666,
              "#ed7953"
             ],
             [
              0.7777777777777778,
              "#fb9f3a"
             ],
             [
              0.8888888888888888,
              "#fdca26"
             ],
             [
              1,
              "#f0f921"
             ]
            ],
            "type": "histogram2d"
           }
          ],
          "histogram2dcontour": [
           {
            "colorbar": {
             "outlinewidth": 0,
             "ticks": ""
            },
            "colorscale": [
             [
              0,
              "#0d0887"
             ],
             [
              0.1111111111111111,
              "#46039f"
             ],
             [
              0.2222222222222222,
              "#7201a8"
             ],
             [
              0.3333333333333333,
              "#9c179e"
             ],
             [
              0.4444444444444444,
              "#bd3786"
             ],
             [
              0.5555555555555556,
              "#d8576b"
             ],
             [
              0.6666666666666666,
              "#ed7953"
             ],
             [
              0.7777777777777778,
              "#fb9f3a"
             ],
             [
              0.8888888888888888,
              "#fdca26"
             ],
             [
              1,
              "#f0f921"
             ]
            ],
            "type": "histogram2dcontour"
           }
          ],
          "mesh3d": [
           {
            "colorbar": {
             "outlinewidth": 0,
             "ticks": ""
            },
            "type": "mesh3d"
           }
          ],
          "parcoords": [
           {
            "line": {
             "colorbar": {
              "outlinewidth": 0,
              "ticks": ""
             }
            },
            "type": "parcoords"
           }
          ],
          "pie": [
           {
            "automargin": true,
            "type": "pie"
           }
          ],
          "scatter": [
           {
            "fillpattern": {
             "fillmode": "overlay",
             "size": 10,
             "solidity": 0.2
            },
            "type": "scatter"
           }
          ],
          "scatter3d": [
           {
            "line": {
             "colorbar": {
              "outlinewidth": 0,
              "ticks": ""
             }
            },
            "marker": {
             "colorbar": {
              "outlinewidth": 0,
              "ticks": ""
             }
            },
            "type": "scatter3d"
           }
          ],
          "scattercarpet": [
           {
            "marker": {
             "colorbar": {
              "outlinewidth": 0,
              "ticks": ""
             }
            },
            "type": "scattercarpet"
           }
          ],
          "scattergeo": [
           {
            "marker": {
             "colorbar": {
              "outlinewidth": 0,
              "ticks": ""
             }
            },
            "type": "scattergeo"
           }
          ],
          "scattergl": [
           {
            "marker": {
             "colorbar": {
              "outlinewidth": 0,
              "ticks": ""
             }
            },
            "type": "scattergl"
           }
          ],
          "scattermapbox": [
           {
            "marker": {
             "colorbar": {
              "outlinewidth": 0,
              "ticks": ""
             }
            },
            "type": "scattermapbox"
           }
          ],
          "scatterpolar": [
           {
            "marker": {
             "colorbar": {
              "outlinewidth": 0,
              "ticks": ""
             }
            },
            "type": "scatterpolar"
           }
          ],
          "scatterpolargl": [
           {
            "marker": {
             "colorbar": {
              "outlinewidth": 0,
              "ticks": ""
             }
            },
            "type": "scatterpolargl"
           }
          ],
          "scatterternary": [
           {
            "marker": {
             "colorbar": {
              "outlinewidth": 0,
              "ticks": ""
             }
            },
            "type": "scatterternary"
           }
          ],
          "surface": [
           {
            "colorbar": {
             "outlinewidth": 0,
             "ticks": ""
            },
            "colorscale": [
             [
              0,
              "#0d0887"
             ],
             [
              0.1111111111111111,
              "#46039f"
             ],
             [
              0.2222222222222222,
              "#7201a8"
             ],
             [
              0.3333333333333333,
              "#9c179e"
             ],
             [
              0.4444444444444444,
              "#bd3786"
             ],
             [
              0.5555555555555556,
              "#d8576b"
             ],
             [
              0.6666666666666666,
              "#ed7953"
             ],
             [
              0.7777777777777778,
              "#fb9f3a"
             ],
             [
              0.8888888888888888,
              "#fdca26"
             ],
             [
              1,
              "#f0f921"
             ]
            ],
            "type": "surface"
           }
          ],
          "table": [
           {
            "cells": {
             "fill": {
              "color": "#EBF0F8"
             },
             "line": {
              "color": "white"
             }
            },
            "header": {
             "fill": {
              "color": "#C8D4E3"
             },
             "line": {
              "color": "white"
             }
            },
            "type": "table"
           }
          ]
         },
         "layout": {
          "annotationdefaults": {
           "arrowcolor": "#2a3f5f",
           "arrowhead": 0,
           "arrowwidth": 1
          },
          "autotypenumbers": "strict",
          "coloraxis": {
           "colorbar": {
            "outlinewidth": 0,
            "ticks": ""
           }
          },
          "colorscale": {
           "diverging": [
            [
             0,
             "#8e0152"
            ],
            [
             0.1,
             "#c51b7d"
            ],
            [
             0.2,
             "#de77ae"
            ],
            [
             0.3,
             "#f1b6da"
            ],
            [
             0.4,
             "#fde0ef"
            ],
            [
             0.5,
             "#f7f7f7"
            ],
            [
             0.6,
             "#e6f5d0"
            ],
            [
             0.7,
             "#b8e186"
            ],
            [
             0.8,
             "#7fbc41"
            ],
            [
             0.9,
             "#4d9221"
            ],
            [
             1,
             "#276419"
            ]
           ],
           "sequential": [
            [
             0,
             "#0d0887"
            ],
            [
             0.1111111111111111,
             "#46039f"
            ],
            [
             0.2222222222222222,
             "#7201a8"
            ],
            [
             0.3333333333333333,
             "#9c179e"
            ],
            [
             0.4444444444444444,
             "#bd3786"
            ],
            [
             0.5555555555555556,
             "#d8576b"
            ],
            [
             0.6666666666666666,
             "#ed7953"
            ],
            [
             0.7777777777777778,
             "#fb9f3a"
            ],
            [
             0.8888888888888888,
             "#fdca26"
            ],
            [
             1,
             "#f0f921"
            ]
           ],
           "sequentialminus": [
            [
             0,
             "#0d0887"
            ],
            [
             0.1111111111111111,
             "#46039f"
            ],
            [
             0.2222222222222222,
             "#7201a8"
            ],
            [
             0.3333333333333333,
             "#9c179e"
            ],
            [
             0.4444444444444444,
             "#bd3786"
            ],
            [
             0.5555555555555556,
             "#d8576b"
            ],
            [
             0.6666666666666666,
             "#ed7953"
            ],
            [
             0.7777777777777778,
             "#fb9f3a"
            ],
            [
             0.8888888888888888,
             "#fdca26"
            ],
            [
             1,
             "#f0f921"
            ]
           ]
          },
          "colorway": [
           "#636efa",
           "#EF553B",
           "#00cc96",
           "#ab63fa",
           "#FFA15A",
           "#19d3f3",
           "#FF6692",
           "#B6E880",
           "#FF97FF",
           "#FECB52"
          ],
          "font": {
           "color": "#2a3f5f"
          },
          "geo": {
           "bgcolor": "white",
           "lakecolor": "white",
           "landcolor": "#E5ECF6",
           "showlakes": true,
           "showland": true,
           "subunitcolor": "white"
          },
          "hoverlabel": {
           "align": "left"
          },
          "hovermode": "closest",
          "mapbox": {
           "style": "light"
          },
          "paper_bgcolor": "white",
          "plot_bgcolor": "#E5ECF6",
          "polar": {
           "angularaxis": {
            "gridcolor": "white",
            "linecolor": "white",
            "ticks": ""
           },
           "bgcolor": "#E5ECF6",
           "radialaxis": {
            "gridcolor": "white",
            "linecolor": "white",
            "ticks": ""
           }
          },
          "scene": {
           "xaxis": {
            "backgroundcolor": "#E5ECF6",
            "gridcolor": "white",
            "gridwidth": 2,
            "linecolor": "white",
            "showbackground": true,
            "ticks": "",
            "zerolinecolor": "white"
           },
           "yaxis": {
            "backgroundcolor": "#E5ECF6",
            "gridcolor": "white",
            "gridwidth": 2,
            "linecolor": "white",
            "showbackground": true,
            "ticks": "",
            "zerolinecolor": "white"
           },
           "zaxis": {
            "backgroundcolor": "#E5ECF6",
            "gridcolor": "white",
            "gridwidth": 2,
            "linecolor": "white",
            "showbackground": true,
            "ticks": "",
            "zerolinecolor": "white"
           }
          },
          "shapedefaults": {
           "line": {
            "color": "#2a3f5f"
           }
          },
          "ternary": {
           "aaxis": {
            "gridcolor": "white",
            "linecolor": "white",
            "ticks": ""
           },
           "baxis": {
            "gridcolor": "white",
            "linecolor": "white",
            "ticks": ""
           },
           "bgcolor": "#E5ECF6",
           "caxis": {
            "gridcolor": "white",
            "linecolor": "white",
            "ticks": ""
           }
          },
          "title": {
           "x": 0.05
          },
          "xaxis": {
           "automargin": true,
           "gridcolor": "white",
           "linecolor": "white",
           "ticks": "",
           "title": {
            "standoff": 15
           },
           "zerolinecolor": "white",
           "zerolinewidth": 2
          },
          "yaxis": {
           "automargin": true,
           "gridcolor": "white",
           "linecolor": "white",
           "ticks": "",
           "title": {
            "standoff": 15
           },
           "zerolinecolor": "white",
           "zerolinewidth": 2
          }
         }
        },
        "xaxis": {
         "anchor": "y",
         "domain": [
          0,
          1
         ],
         "title": {
          "text": "TikTok"
         }
        },
        "yaxis": {
         "anchor": "x",
         "domain": [
          0,
          1
         ],
         "title": {
          "text": "Sales"
         }
        }
       }
      }
     },
     "metadata": {},
     "output_type": "display_data"
    },
    {
     "data": {
      "application/vnd.plotly.v1+json": {
       "config": {
        "plotlyServerURL": "https://plot.ly"
       },
       "data": [
        {
         "hovertemplate": "Facebook=%{x}<br>Sales=%{y}<extra></extra>",
         "legendgroup": "",
         "marker": {
          "color": "#636efa",
          "symbol": "circle"
         },
         "mode": "markers",
         "name": "",
         "orientation": "v",
         "showlegend": false,
         "type": "scatter",
         "x": [
          0,
          5349.65,
          4235.86,
          3562.21,
          0,
          4310.55,
          0,
          4478.81,
          3156.93,
          4522.03,
          4520.34,
          0,
          5698.46,
          0,
          0,
          0,
          0,
          5160.93,
          0,
          4605.15,
          0,
          0,
          0,
          4006.88,
          0,
          0,
          5049.49,
          0,
          5643.31,
          3429.38,
          4793.1,
          5880.18,
          0,
          5387.28,
          2744.44,
          3977.49,
          0,
          3343.28,
          0,
          0,
          0,
          0,
          5567.29,
          0,
          0,
          0,
          4708.16,
          4238.51,
          5857.92,
          0,
          6466.58,
          5852.55,
          4401.35,
          0,
          0,
          0,
          3231.46,
          0,
          0,
          0,
          4814.95,
          4192.35,
          0,
          0,
          4690.89,
          4766.53,
          0,
          0,
          0,
          0,
          0,
          0,
          5929.51,
          0,
          2905.4,
          0,
          4869.89,
          5093.95,
          0,
          0,
          0,
          0,
          0,
          3583.09,
          0,
          0,
          4028.9,
          5314.82,
          5821.59,
          0,
          5800.56,
          5078.26,
          0,
          3840.58,
          0,
          5194.29,
          0,
          0,
          0,
          0,
          4217.37,
          4889.61,
          0,
          0,
          0,
          0,
          0,
          7021.04,
          0,
          2798.56,
          5199.3,
          0,
          4482.48,
          0,
          4560.81,
          5181.34,
          4497.18,
          0,
          4039.5,
          0,
          0,
          5251.48,
          0,
          0,
          0,
          4290.27,
          0,
          5994.39,
          6319.14,
          0,
          0,
          5496,
          5771.41,
          6029.44,
          0,
          4575.68,
          5862.6,
          2344.38,
          0,
          0,
          0,
          0,
          3970.06,
          4650.06,
          0,
          0,
          7696.22,
          4926.08,
          0,
          0,
          3981.96,
          0,
          5382.73,
          0,
          6096.35,
          0,
          0,
          0,
          0,
          0,
          3820.84,
          6301.43,
          5895.26,
          0,
          3667.79,
          3031.38,
          4339.94,
          0,
          5498.69,
          6047.97,
          0,
          6742.67,
          0,
          0,
          0,
          4111.03,
          5242.12,
          0,
          5936.74,
          6412.33,
          0,
          0,
          2760.4,
          0,
          0,
          0,
          3720.31,
          4414.57,
          0,
          0,
          0,
          0,
          5213.48,
          0,
          4757.98,
          0,
          4615.35,
          4556.16,
          0,
          0
         ],
         "xaxis": "x",
         "y": [
          9779.8,
          13245.19,
          12022.66,
          8846.95,
          9797.07,
          13527.65,
          9635.43,
          15355.11,
          12199.37,
          11368.23,
          8640.44,
          4960.26,
          12726.46,
          11421.71,
          10875.31,
          13048.08,
          10775.86,
          15013.62,
          14158.32,
          15918.14,
          11128.75,
          12170.36,
          10134.7,
          11093.55,
          8170.63,
          6542.71,
          11325.8,
          7793.24,
          15010.94,
          10634.31,
          11751.39,
          9151.2,
          9141.46,
          7399.92,
          10893.16,
          11550.47,
          8672.09,
          9427.22,
          8036.91,
          11240.58,
          12386.83,
          12513.84,
          12235.08,
          11895.78,
          10047.41,
          9705.39,
          8847.19,
          10379.07,
          11312.48,
          8226.23,
          13966.11,
          13460.32,
          15742.61,
          10440.98,
          8535.49,
          7801.58,
          9570.01,
          7854.78,
          8067.55,
          7848.26,
          14012.71,
          16127.45,
          11636.97,
          8193.65,
          9451.61,
          11454.02,
          5526.84,
          7677.52,
          8084.98,
          7456.56,
          5365.18,
          8134.16,
          10065.53,
          10878.94,
          11524.63,
          6563.85,
          14165.57,
          15624.56,
          11305.04,
          8245.57,
          7676.64,
          5023.53,
          8058.85,
          9902.44,
          8058.05,
          7498.36,
          12216.8,
          11042.8,
          10713.92,
          9130.06,
          7325.82,
          15292.36,
          11571.92,
          10464.3,
          9229.31,
          9964.76,
          8018.56,
          7278.85,
          8467.44,
          7620.08,
          7353.99,
          12947.48,
          10250.78,
          13096.57,
          10843.3,
          9702.32,
          11509.72,
          10862.91,
          14894.3,
          12071.16,
          16592.25,
          12441.24,
          12279.8,
          6790.08,
          11909.22,
          13496.33,
          12297.33,
          6378.02,
          14447.22,
          14199.63,
          8818.6,
          11735.1,
          10804.46,
          10008.84,
          13038.94,
          12997.57,
          13131.68,
          14703.9,
          17668.34,
          13267.43,
          8106.56,
          11182.44,
          10886.67,
          11160.91,
          7160.31,
          14452.13,
          11189.87,
          15012.92,
          8606.27,
          5991.27,
          8239.06,
          5561.95,
          9797.26,
          14673.81,
          11598.35,
          13368.12,
          14428.14,
          11172.84,
          6340.56,
          8095.38,
          9268.66,
          4532.33,
          10982.62,
          8447.64,
          7617.05,
          7610.02,
          7849.88,
          7104.61,
          8447.4,
          7885.48,
          9992.42,
          11322.95,
          15977.27,
          14259.48,
          12886.05,
          9131.86,
          10953.39,
          8574.23,
          14958.05,
          13543.21,
          13867.08,
          13854.92,
          10895.22,
          7854.4,
          7405.54,
          7705.26,
          10888.41,
          7715.63,
          10581.72,
          11218.58,
          12789.7,
          9923.23,
          9781.83,
          11570.62,
          12294.54,
          9745.9,
          11918.41,
          10983.4,
          8944.74,
          13131.49,
          14669.4,
          13843.33,
          14024.53,
          13315.79,
          10237.24,
          9030.17,
          15904.11,
          12839.29,
          9063.45,
          7250.21
         ],
         "yaxis": "y"
        }
       ],
       "layout": {
        "legend": {
         "tracegroupgap": 0
        },
        "margin": {
         "t": 60
        },
        "template": {
         "data": {
          "bar": [
           {
            "error_x": {
             "color": "#2a3f5f"
            },
            "error_y": {
             "color": "#2a3f5f"
            },
            "marker": {
             "line": {
              "color": "#E5ECF6",
              "width": 0.5
             },
             "pattern": {
              "fillmode": "overlay",
              "size": 10,
              "solidity": 0.2
             }
            },
            "type": "bar"
           }
          ],
          "barpolar": [
           {
            "marker": {
             "line": {
              "color": "#E5ECF6",
              "width": 0.5
             },
             "pattern": {
              "fillmode": "overlay",
              "size": 10,
              "solidity": 0.2
             }
            },
            "type": "barpolar"
           }
          ],
          "carpet": [
           {
            "aaxis": {
             "endlinecolor": "#2a3f5f",
             "gridcolor": "white",
             "linecolor": "white",
             "minorgridcolor": "white",
             "startlinecolor": "#2a3f5f"
            },
            "baxis": {
             "endlinecolor": "#2a3f5f",
             "gridcolor": "white",
             "linecolor": "white",
             "minorgridcolor": "white",
             "startlinecolor": "#2a3f5f"
            },
            "type": "carpet"
           }
          ],
          "choropleth": [
           {
            "colorbar": {
             "outlinewidth": 0,
             "ticks": ""
            },
            "type": "choropleth"
           }
          ],
          "contour": [
           {
            "colorbar": {
             "outlinewidth": 0,
             "ticks": ""
            },
            "colorscale": [
             [
              0,
              "#0d0887"
             ],
             [
              0.1111111111111111,
              "#46039f"
             ],
             [
              0.2222222222222222,
              "#7201a8"
             ],
             [
              0.3333333333333333,
              "#9c179e"
             ],
             [
              0.4444444444444444,
              "#bd3786"
             ],
             [
              0.5555555555555556,
              "#d8576b"
             ],
             [
              0.6666666666666666,
              "#ed7953"
             ],
             [
              0.7777777777777778,
              "#fb9f3a"
             ],
             [
              0.8888888888888888,
              "#fdca26"
             ],
             [
              1,
              "#f0f921"
             ]
            ],
            "type": "contour"
           }
          ],
          "contourcarpet": [
           {
            "colorbar": {
             "outlinewidth": 0,
             "ticks": ""
            },
            "type": "contourcarpet"
           }
          ],
          "heatmap": [
           {
            "colorbar": {
             "outlinewidth": 0,
             "ticks": ""
            },
            "colorscale": [
             [
              0,
              "#0d0887"
             ],
             [
              0.1111111111111111,
              "#46039f"
             ],
             [
              0.2222222222222222,
              "#7201a8"
             ],
             [
              0.3333333333333333,
              "#9c179e"
             ],
             [
              0.4444444444444444,
              "#bd3786"
             ],
             [
              0.5555555555555556,
              "#d8576b"
             ],
             [
              0.6666666666666666,
              "#ed7953"
             ],
             [
              0.7777777777777778,
              "#fb9f3a"
             ],
             [
              0.8888888888888888,
              "#fdca26"
             ],
             [
              1,
              "#f0f921"
             ]
            ],
            "type": "heatmap"
           }
          ],
          "heatmapgl": [
           {
            "colorbar": {
             "outlinewidth": 0,
             "ticks": ""
            },
            "colorscale": [
             [
              0,
              "#0d0887"
             ],
             [
              0.1111111111111111,
              "#46039f"
             ],
             [
              0.2222222222222222,
              "#7201a8"
             ],
             [
              0.3333333333333333,
              "#9c179e"
             ],
             [
              0.4444444444444444,
              "#bd3786"
             ],
             [
              0.5555555555555556,
              "#d8576b"
             ],
             [
              0.6666666666666666,
              "#ed7953"
             ],
             [
              0.7777777777777778,
              "#fb9f3a"
             ],
             [
              0.8888888888888888,
              "#fdca26"
             ],
             [
              1,
              "#f0f921"
             ]
            ],
            "type": "heatmapgl"
           }
          ],
          "histogram": [
           {
            "marker": {
             "pattern": {
              "fillmode": "overlay",
              "size": 10,
              "solidity": 0.2
             }
            },
            "type": "histogram"
           }
          ],
          "histogram2d": [
           {
            "colorbar": {
             "outlinewidth": 0,
             "ticks": ""
            },
            "colorscale": [
             [
              0,
              "#0d0887"
             ],
             [
              0.1111111111111111,
              "#46039f"
             ],
             [
              0.2222222222222222,
              "#7201a8"
             ],
             [
              0.3333333333333333,
              "#9c179e"
             ],
             [
              0.4444444444444444,
              "#bd3786"
             ],
             [
              0.5555555555555556,
              "#d8576b"
             ],
             [
              0.6666666666666666,
              "#ed7953"
             ],
             [
              0.7777777777777778,
              "#fb9f3a"
             ],
             [
              0.8888888888888888,
              "#fdca26"
             ],
             [
              1,
              "#f0f921"
             ]
            ],
            "type": "histogram2d"
           }
          ],
          "histogram2dcontour": [
           {
            "colorbar": {
             "outlinewidth": 0,
             "ticks": ""
            },
            "colorscale": [
             [
              0,
              "#0d0887"
             ],
             [
              0.1111111111111111,
              "#46039f"
             ],
             [
              0.2222222222222222,
              "#7201a8"
             ],
             [
              0.3333333333333333,
              "#9c179e"
             ],
             [
              0.4444444444444444,
              "#bd3786"
             ],
             [
              0.5555555555555556,
              "#d8576b"
             ],
             [
              0.6666666666666666,
              "#ed7953"
             ],
             [
              0.7777777777777778,
              "#fb9f3a"
             ],
             [
              0.8888888888888888,
              "#fdca26"
             ],
             [
              1,
              "#f0f921"
             ]
            ],
            "type": "histogram2dcontour"
           }
          ],
          "mesh3d": [
           {
            "colorbar": {
             "outlinewidth": 0,
             "ticks": ""
            },
            "type": "mesh3d"
           }
          ],
          "parcoords": [
           {
            "line": {
             "colorbar": {
              "outlinewidth": 0,
              "ticks": ""
             }
            },
            "type": "parcoords"
           }
          ],
          "pie": [
           {
            "automargin": true,
            "type": "pie"
           }
          ],
          "scatter": [
           {
            "fillpattern": {
             "fillmode": "overlay",
             "size": 10,
             "solidity": 0.2
            },
            "type": "scatter"
           }
          ],
          "scatter3d": [
           {
            "line": {
             "colorbar": {
              "outlinewidth": 0,
              "ticks": ""
             }
            },
            "marker": {
             "colorbar": {
              "outlinewidth": 0,
              "ticks": ""
             }
            },
            "type": "scatter3d"
           }
          ],
          "scattercarpet": [
           {
            "marker": {
             "colorbar": {
              "outlinewidth": 0,
              "ticks": ""
             }
            },
            "type": "scattercarpet"
           }
          ],
          "scattergeo": [
           {
            "marker": {
             "colorbar": {
              "outlinewidth": 0,
              "ticks": ""
             }
            },
            "type": "scattergeo"
           }
          ],
          "scattergl": [
           {
            "marker": {
             "colorbar": {
              "outlinewidth": 0,
              "ticks": ""
             }
            },
            "type": "scattergl"
           }
          ],
          "scattermapbox": [
           {
            "marker": {
             "colorbar": {
              "outlinewidth": 0,
              "ticks": ""
             }
            },
            "type": "scattermapbox"
           }
          ],
          "scatterpolar": [
           {
            "marker": {
             "colorbar": {
              "outlinewidth": 0,
              "ticks": ""
             }
            },
            "type": "scatterpolar"
           }
          ],
          "scatterpolargl": [
           {
            "marker": {
             "colorbar": {
              "outlinewidth": 0,
              "ticks": ""
             }
            },
            "type": "scatterpolargl"
           }
          ],
          "scatterternary": [
           {
            "marker": {
             "colorbar": {
              "outlinewidth": 0,
              "ticks": ""
             }
            },
            "type": "scatterternary"
           }
          ],
          "surface": [
           {
            "colorbar": {
             "outlinewidth": 0,
             "ticks": ""
            },
            "colorscale": [
             [
              0,
              "#0d0887"
             ],
             [
              0.1111111111111111,
              "#46039f"
             ],
             [
              0.2222222222222222,
              "#7201a8"
             ],
             [
              0.3333333333333333,
              "#9c179e"
             ],
             [
              0.4444444444444444,
              "#bd3786"
             ],
             [
              0.5555555555555556,
              "#d8576b"
             ],
             [
              0.6666666666666666,
              "#ed7953"
             ],
             [
              0.7777777777777778,
              "#fb9f3a"
             ],
             [
              0.8888888888888888,
              "#fdca26"
             ],
             [
              1,
              "#f0f921"
             ]
            ],
            "type": "surface"
           }
          ],
          "table": [
           {
            "cells": {
             "fill": {
              "color": "#EBF0F8"
             },
             "line": {
              "color": "white"
             }
            },
            "header": {
             "fill": {
              "color": "#C8D4E3"
             },
             "line": {
              "color": "white"
             }
            },
            "type": "table"
           }
          ]
         },
         "layout": {
          "annotationdefaults": {
           "arrowcolor": "#2a3f5f",
           "arrowhead": 0,
           "arrowwidth": 1
          },
          "autotypenumbers": "strict",
          "coloraxis": {
           "colorbar": {
            "outlinewidth": 0,
            "ticks": ""
           }
          },
          "colorscale": {
           "diverging": [
            [
             0,
             "#8e0152"
            ],
            [
             0.1,
             "#c51b7d"
            ],
            [
             0.2,
             "#de77ae"
            ],
            [
             0.3,
             "#f1b6da"
            ],
            [
             0.4,
             "#fde0ef"
            ],
            [
             0.5,
             "#f7f7f7"
            ],
            [
             0.6,
             "#e6f5d0"
            ],
            [
             0.7,
             "#b8e186"
            ],
            [
             0.8,
             "#7fbc41"
            ],
            [
             0.9,
             "#4d9221"
            ],
            [
             1,
             "#276419"
            ]
           ],
           "sequential": [
            [
             0,
             "#0d0887"
            ],
            [
             0.1111111111111111,
             "#46039f"
            ],
            [
             0.2222222222222222,
             "#7201a8"
            ],
            [
             0.3333333333333333,
             "#9c179e"
            ],
            [
             0.4444444444444444,
             "#bd3786"
            ],
            [
             0.5555555555555556,
             "#d8576b"
            ],
            [
             0.6666666666666666,
             "#ed7953"
            ],
            [
             0.7777777777777778,
             "#fb9f3a"
            ],
            [
             0.8888888888888888,
             "#fdca26"
            ],
            [
             1,
             "#f0f921"
            ]
           ],
           "sequentialminus": [
            [
             0,
             "#0d0887"
            ],
            [
             0.1111111111111111,
             "#46039f"
            ],
            [
             0.2222222222222222,
             "#7201a8"
            ],
            [
             0.3333333333333333,
             "#9c179e"
            ],
            [
             0.4444444444444444,
             "#bd3786"
            ],
            [
             0.5555555555555556,
             "#d8576b"
            ],
            [
             0.6666666666666666,
             "#ed7953"
            ],
            [
             0.7777777777777778,
             "#fb9f3a"
            ],
            [
             0.8888888888888888,
             "#fdca26"
            ],
            [
             1,
             "#f0f921"
            ]
           ]
          },
          "colorway": [
           "#636efa",
           "#EF553B",
           "#00cc96",
           "#ab63fa",
           "#FFA15A",
           "#19d3f3",
           "#FF6692",
           "#B6E880",
           "#FF97FF",
           "#FECB52"
          ],
          "font": {
           "color": "#2a3f5f"
          },
          "geo": {
           "bgcolor": "white",
           "lakecolor": "white",
           "landcolor": "#E5ECF6",
           "showlakes": true,
           "showland": true,
           "subunitcolor": "white"
          },
          "hoverlabel": {
           "align": "left"
          },
          "hovermode": "closest",
          "mapbox": {
           "style": "light"
          },
          "paper_bgcolor": "white",
          "plot_bgcolor": "#E5ECF6",
          "polar": {
           "angularaxis": {
            "gridcolor": "white",
            "linecolor": "white",
            "ticks": ""
           },
           "bgcolor": "#E5ECF6",
           "radialaxis": {
            "gridcolor": "white",
            "linecolor": "white",
            "ticks": ""
           }
          },
          "scene": {
           "xaxis": {
            "backgroundcolor": "#E5ECF6",
            "gridcolor": "white",
            "gridwidth": 2,
            "linecolor": "white",
            "showbackground": true,
            "ticks": "",
            "zerolinecolor": "white"
           },
           "yaxis": {
            "backgroundcolor": "#E5ECF6",
            "gridcolor": "white",
            "gridwidth": 2,
            "linecolor": "white",
            "showbackground": true,
            "ticks": "",
            "zerolinecolor": "white"
           },
           "zaxis": {
            "backgroundcolor": "#E5ECF6",
            "gridcolor": "white",
            "gridwidth": 2,
            "linecolor": "white",
            "showbackground": true,
            "ticks": "",
            "zerolinecolor": "white"
           }
          },
          "shapedefaults": {
           "line": {
            "color": "#2a3f5f"
           }
          },
          "ternary": {
           "aaxis": {
            "gridcolor": "white",
            "linecolor": "white",
            "ticks": ""
           },
           "baxis": {
            "gridcolor": "white",
            "linecolor": "white",
            "ticks": ""
           },
           "bgcolor": "#E5ECF6",
           "caxis": {
            "gridcolor": "white",
            "linecolor": "white",
            "ticks": ""
           }
          },
          "title": {
           "x": 0.05
          },
          "xaxis": {
           "automargin": true,
           "gridcolor": "white",
           "linecolor": "white",
           "ticks": "",
           "title": {
            "standoff": 15
           },
           "zerolinecolor": "white",
           "zerolinewidth": 2
          },
          "yaxis": {
           "automargin": true,
           "gridcolor": "white",
           "linecolor": "white",
           "ticks": "",
           "title": {
            "standoff": 15
           },
           "zerolinecolor": "white",
           "zerolinewidth": 2
          }
         }
        },
        "xaxis": {
         "anchor": "y",
         "domain": [
          0,
          1
         ],
         "title": {
          "text": "Facebook"
         }
        },
        "yaxis": {
         "anchor": "x",
         "domain": [
          0,
          1
         ],
         "title": {
          "text": "Sales"
         }
        }
       }
      }
     },
     "metadata": {},
     "output_type": "display_data"
    },
    {
     "data": {
      "application/vnd.plotly.v1+json": {
       "config": {
        "plotlyServerURL": "https://plot.ly"
       },
       "data": [
        {
         "hovertemplate": "Google Ads=%{x}<br>Sales=%{y}<extra></extra>",
         "legendgroup": "",
         "marker": {
          "color": "#636efa",
          "symbol": "circle"
         },
         "mode": "markers",
         "name": "",
         "orientation": "v",
         "showlegend": false,
         "type": "scatter",
         "x": [
          0,
          2218.93,
          2046.96,
          0,
          2187.29,
          1992.98,
          2253.02,
          2042.3,
          1859.02,
          2135.99,
          0,
          0,
          0,
          0,
          1839.37,
          1907.13,
          2204.36,
          1889.49,
          1922.63,
          1897.94,
          2036.79,
          1922.9,
          1679.63,
          0,
          0,
          0,
          2162.53,
          2117.45,
          1898.93,
          0,
          1898.5,
          0,
          2499.44,
          0,
          0,
          1743.09,
          1979.13,
          1802.4,
          1764.47,
          1771.96,
          2351,
          1973.4,
          0,
          0,
          0,
          2144.01,
          0,
          2060.72,
          2154.54,
          1667.68,
          2089.64,
          2339.24,
          1997.03,
          2164.28,
          2134.11,
          1858.5,
          2007.95,
          1686.6,
          1909.74,
          2053.14,
          2144.62,
          2004.92,
          2144,
          1779.42,
          0,
          2003.86,
          0,
          1957.17,
          1900.2,
          2004.27,
          0,
          2038.55,
          1926.99,
          1641.73,
          1988.28,
          0,
          1673.52,
          1986.57,
          2297.87,
          2104.26,
          2122.39,
          0,
          2095.38,
          2029.69,
          2105.81,
          2084.53,
          0,
          0,
          0,
          1989.98,
          0,
          2262.49,
          1828.21,
          1820.21,
          2014.92,
          1784.58,
          1915.07,
          1834.01,
          2282.23,
          2157.16,
          0,
          1921.76,
          2188.18,
          2081.04,
          2099.61,
          1994.76,
          1662.35,
          0,
          1893.5,
          2129.01,
          2202.37,
          1868.41,
          2093.68,
          0,
          0,
          2336.38,
          1829.48,
          0,
          1997.77,
          2002.3,
          0,
          1881.76,
          0,
          2065.39,
          2066.01,
          2445.19,
          2274.2,
          0,
          2064.97,
          2199.42,
          0,
          1986.07,
          2010.31,
          2173.46,
          1830.34,
          1934.87,
          0,
          2062.29,
          0,
          0,
          2194.51,
          0,
          2081.28,
          1961.36,
          2151.15,
          1892.17,
          0,
          0,
          0,
          1769.21,
          1930.41,
          0,
          1793.47,
          1912.65,
          0,
          1918.79,
          1892.95,
          2005.08,
          2230.84,
          2034.5,
          2004.21,
          2019.89,
          2045.48,
          1796.65,
          1977.04,
          0,
          1725.85,
          2173.13,
          2216.28,
          1873.72,
          1951.73,
          1824.36,
          2139.88,
          1787.76,
          1955.5,
          0,
          2010.19,
          1641.15,
          2265.29,
          1807.08,
          2011.98,
          1957.5,
          1847.58,
          1822.44,
          2187.28,
          1894.87,
          2054.23,
          1839.7,
          0,
          2094.45,
          2186.08,
          1964.94,
          1715.62,
          2399.59,
          0,
          1691.68,
          2518.88,
          1919.19,
          1707.65,
          1863.31
         ],
         "xaxis": "x",
         "y": [
          9779.8,
          13245.19,
          12022.66,
          8846.95,
          9797.07,
          13527.65,
          9635.43,
          15355.11,
          12199.37,
          11368.23,
          8640.44,
          4960.26,
          12726.46,
          11421.71,
          10875.31,
          13048.08,
          10775.86,
          15013.62,
          14158.32,
          15918.14,
          11128.75,
          12170.36,
          10134.7,
          11093.55,
          8170.63,
          6542.71,
          11325.8,
          7793.24,
          15010.94,
          10634.31,
          11751.39,
          9151.2,
          9141.46,
          7399.92,
          10893.16,
          11550.47,
          8672.09,
          9427.22,
          8036.91,
          11240.58,
          12386.83,
          12513.84,
          12235.08,
          11895.78,
          10047.41,
          9705.39,
          8847.19,
          10379.07,
          11312.48,
          8226.23,
          13966.11,
          13460.32,
          15742.61,
          10440.98,
          8535.49,
          7801.58,
          9570.01,
          7854.78,
          8067.55,
          7848.26,
          14012.71,
          16127.45,
          11636.97,
          8193.65,
          9451.61,
          11454.02,
          5526.84,
          7677.52,
          8084.98,
          7456.56,
          5365.18,
          8134.16,
          10065.53,
          10878.94,
          11524.63,
          6563.85,
          14165.57,
          15624.56,
          11305.04,
          8245.57,
          7676.64,
          5023.53,
          8058.85,
          9902.44,
          8058.05,
          7498.36,
          12216.8,
          11042.8,
          10713.92,
          9130.06,
          7325.82,
          15292.36,
          11571.92,
          10464.3,
          9229.31,
          9964.76,
          8018.56,
          7278.85,
          8467.44,
          7620.08,
          7353.99,
          12947.48,
          10250.78,
          13096.57,
          10843.3,
          9702.32,
          11509.72,
          10862.91,
          14894.3,
          12071.16,
          16592.25,
          12441.24,
          12279.8,
          6790.08,
          11909.22,
          13496.33,
          12297.33,
          6378.02,
          14447.22,
          14199.63,
          8818.6,
          11735.1,
          10804.46,
          10008.84,
          13038.94,
          12997.57,
          13131.68,
          14703.9,
          17668.34,
          13267.43,
          8106.56,
          11182.44,
          10886.67,
          11160.91,
          7160.31,
          14452.13,
          11189.87,
          15012.92,
          8606.27,
          5991.27,
          8239.06,
          5561.95,
          9797.26,
          14673.81,
          11598.35,
          13368.12,
          14428.14,
          11172.84,
          6340.56,
          8095.38,
          9268.66,
          4532.33,
          10982.62,
          8447.64,
          7617.05,
          7610.02,
          7849.88,
          7104.61,
          8447.4,
          7885.48,
          9992.42,
          11322.95,
          15977.27,
          14259.48,
          12886.05,
          9131.86,
          10953.39,
          8574.23,
          14958.05,
          13543.21,
          13867.08,
          13854.92,
          10895.22,
          7854.4,
          7405.54,
          7705.26,
          10888.41,
          7715.63,
          10581.72,
          11218.58,
          12789.7,
          9923.23,
          9781.83,
          11570.62,
          12294.54,
          9745.9,
          11918.41,
          10983.4,
          8944.74,
          13131.49,
          14669.4,
          13843.33,
          14024.53,
          13315.79,
          10237.24,
          9030.17,
          15904.11,
          12839.29,
          9063.45,
          7250.21
         ],
         "yaxis": "y"
        }
       ],
       "layout": {
        "legend": {
         "tracegroupgap": 0
        },
        "margin": {
         "t": 60
        },
        "template": {
         "data": {
          "bar": [
           {
            "error_x": {
             "color": "#2a3f5f"
            },
            "error_y": {
             "color": "#2a3f5f"
            },
            "marker": {
             "line": {
              "color": "#E5ECF6",
              "width": 0.5
             },
             "pattern": {
              "fillmode": "overlay",
              "size": 10,
              "solidity": 0.2
             }
            },
            "type": "bar"
           }
          ],
          "barpolar": [
           {
            "marker": {
             "line": {
              "color": "#E5ECF6",
              "width": 0.5
             },
             "pattern": {
              "fillmode": "overlay",
              "size": 10,
              "solidity": 0.2
             }
            },
            "type": "barpolar"
           }
          ],
          "carpet": [
           {
            "aaxis": {
             "endlinecolor": "#2a3f5f",
             "gridcolor": "white",
             "linecolor": "white",
             "minorgridcolor": "white",
             "startlinecolor": "#2a3f5f"
            },
            "baxis": {
             "endlinecolor": "#2a3f5f",
             "gridcolor": "white",
             "linecolor": "white",
             "minorgridcolor": "white",
             "startlinecolor": "#2a3f5f"
            },
            "type": "carpet"
           }
          ],
          "choropleth": [
           {
            "colorbar": {
             "outlinewidth": 0,
             "ticks": ""
            },
            "type": "choropleth"
           }
          ],
          "contour": [
           {
            "colorbar": {
             "outlinewidth": 0,
             "ticks": ""
            },
            "colorscale": [
             [
              0,
              "#0d0887"
             ],
             [
              0.1111111111111111,
              "#46039f"
             ],
             [
              0.2222222222222222,
              "#7201a8"
             ],
             [
              0.3333333333333333,
              "#9c179e"
             ],
             [
              0.4444444444444444,
              "#bd3786"
             ],
             [
              0.5555555555555556,
              "#d8576b"
             ],
             [
              0.6666666666666666,
              "#ed7953"
             ],
             [
              0.7777777777777778,
              "#fb9f3a"
             ],
             [
              0.8888888888888888,
              "#fdca26"
             ],
             [
              1,
              "#f0f921"
             ]
            ],
            "type": "contour"
           }
          ],
          "contourcarpet": [
           {
            "colorbar": {
             "outlinewidth": 0,
             "ticks": ""
            },
            "type": "contourcarpet"
           }
          ],
          "heatmap": [
           {
            "colorbar": {
             "outlinewidth": 0,
             "ticks": ""
            },
            "colorscale": [
             [
              0,
              "#0d0887"
             ],
             [
              0.1111111111111111,
              "#46039f"
             ],
             [
              0.2222222222222222,
              "#7201a8"
             ],
             [
              0.3333333333333333,
              "#9c179e"
             ],
             [
              0.4444444444444444,
              "#bd3786"
             ],
             [
              0.5555555555555556,
              "#d8576b"
             ],
             [
              0.6666666666666666,
              "#ed7953"
             ],
             [
              0.7777777777777778,
              "#fb9f3a"
             ],
             [
              0.8888888888888888,
              "#fdca26"
             ],
             [
              1,
              "#f0f921"
             ]
            ],
            "type": "heatmap"
           }
          ],
          "heatmapgl": [
           {
            "colorbar": {
             "outlinewidth": 0,
             "ticks": ""
            },
            "colorscale": [
             [
              0,
              "#0d0887"
             ],
             [
              0.1111111111111111,
              "#46039f"
             ],
             [
              0.2222222222222222,
              "#7201a8"
             ],
             [
              0.3333333333333333,
              "#9c179e"
             ],
             [
              0.4444444444444444,
              "#bd3786"
             ],
             [
              0.5555555555555556,
              "#d8576b"
             ],
             [
              0.6666666666666666,
              "#ed7953"
             ],
             [
              0.7777777777777778,
              "#fb9f3a"
             ],
             [
              0.8888888888888888,
              "#fdca26"
             ],
             [
              1,
              "#f0f921"
             ]
            ],
            "type": "heatmapgl"
           }
          ],
          "histogram": [
           {
            "marker": {
             "pattern": {
              "fillmode": "overlay",
              "size": 10,
              "solidity": 0.2
             }
            },
            "type": "histogram"
           }
          ],
          "histogram2d": [
           {
            "colorbar": {
             "outlinewidth": 0,
             "ticks": ""
            },
            "colorscale": [
             [
              0,
              "#0d0887"
             ],
             [
              0.1111111111111111,
              "#46039f"
             ],
             [
              0.2222222222222222,
              "#7201a8"
             ],
             [
              0.3333333333333333,
              "#9c179e"
             ],
             [
              0.4444444444444444,
              "#bd3786"
             ],
             [
              0.5555555555555556,
              "#d8576b"
             ],
             [
              0.6666666666666666,
              "#ed7953"
             ],
             [
              0.7777777777777778,
              "#fb9f3a"
             ],
             [
              0.8888888888888888,
              "#fdca26"
             ],
             [
              1,
              "#f0f921"
             ]
            ],
            "type": "histogram2d"
           }
          ],
          "histogram2dcontour": [
           {
            "colorbar": {
             "outlinewidth": 0,
             "ticks": ""
            },
            "colorscale": [
             [
              0,
              "#0d0887"
             ],
             [
              0.1111111111111111,
              "#46039f"
             ],
             [
              0.2222222222222222,
              "#7201a8"
             ],
             [
              0.3333333333333333,
              "#9c179e"
             ],
             [
              0.4444444444444444,
              "#bd3786"
             ],
             [
              0.5555555555555556,
              "#d8576b"
             ],
             [
              0.6666666666666666,
              "#ed7953"
             ],
             [
              0.7777777777777778,
              "#fb9f3a"
             ],
             [
              0.8888888888888888,
              "#fdca26"
             ],
             [
              1,
              "#f0f921"
             ]
            ],
            "type": "histogram2dcontour"
           }
          ],
          "mesh3d": [
           {
            "colorbar": {
             "outlinewidth": 0,
             "ticks": ""
            },
            "type": "mesh3d"
           }
          ],
          "parcoords": [
           {
            "line": {
             "colorbar": {
              "outlinewidth": 0,
              "ticks": ""
             }
            },
            "type": "parcoords"
           }
          ],
          "pie": [
           {
            "automargin": true,
            "type": "pie"
           }
          ],
          "scatter": [
           {
            "fillpattern": {
             "fillmode": "overlay",
             "size": 10,
             "solidity": 0.2
            },
            "type": "scatter"
           }
          ],
          "scatter3d": [
           {
            "line": {
             "colorbar": {
              "outlinewidth": 0,
              "ticks": ""
             }
            },
            "marker": {
             "colorbar": {
              "outlinewidth": 0,
              "ticks": ""
             }
            },
            "type": "scatter3d"
           }
          ],
          "scattercarpet": [
           {
            "marker": {
             "colorbar": {
              "outlinewidth": 0,
              "ticks": ""
             }
            },
            "type": "scattercarpet"
           }
          ],
          "scattergeo": [
           {
            "marker": {
             "colorbar": {
              "outlinewidth": 0,
              "ticks": ""
             }
            },
            "type": "scattergeo"
           }
          ],
          "scattergl": [
           {
            "marker": {
             "colorbar": {
              "outlinewidth": 0,
              "ticks": ""
             }
            },
            "type": "scattergl"
           }
          ],
          "scattermapbox": [
           {
            "marker": {
             "colorbar": {
              "outlinewidth": 0,
              "ticks": ""
             }
            },
            "type": "scattermapbox"
           }
          ],
          "scatterpolar": [
           {
            "marker": {
             "colorbar": {
              "outlinewidth": 0,
              "ticks": ""
             }
            },
            "type": "scatterpolar"
           }
          ],
          "scatterpolargl": [
           {
            "marker": {
             "colorbar": {
              "outlinewidth": 0,
              "ticks": ""
             }
            },
            "type": "scatterpolargl"
           }
          ],
          "scatterternary": [
           {
            "marker": {
             "colorbar": {
              "outlinewidth": 0,
              "ticks": ""
             }
            },
            "type": "scatterternary"
           }
          ],
          "surface": [
           {
            "colorbar": {
             "outlinewidth": 0,
             "ticks": ""
            },
            "colorscale": [
             [
              0,
              "#0d0887"
             ],
             [
              0.1111111111111111,
              "#46039f"
             ],
             [
              0.2222222222222222,
              "#7201a8"
             ],
             [
              0.3333333333333333,
              "#9c179e"
             ],
             [
              0.4444444444444444,
              "#bd3786"
             ],
             [
              0.5555555555555556,
              "#d8576b"
             ],
             [
              0.6666666666666666,
              "#ed7953"
             ],
             [
              0.7777777777777778,
              "#fb9f3a"
             ],
             [
              0.8888888888888888,
              "#fdca26"
             ],
             [
              1,
              "#f0f921"
             ]
            ],
            "type": "surface"
           }
          ],
          "table": [
           {
            "cells": {
             "fill": {
              "color": "#EBF0F8"
             },
             "line": {
              "color": "white"
             }
            },
            "header": {
             "fill": {
              "color": "#C8D4E3"
             },
             "line": {
              "color": "white"
             }
            },
            "type": "table"
           }
          ]
         },
         "layout": {
          "annotationdefaults": {
           "arrowcolor": "#2a3f5f",
           "arrowhead": 0,
           "arrowwidth": 1
          },
          "autotypenumbers": "strict",
          "coloraxis": {
           "colorbar": {
            "outlinewidth": 0,
            "ticks": ""
           }
          },
          "colorscale": {
           "diverging": [
            [
             0,
             "#8e0152"
            ],
            [
             0.1,
             "#c51b7d"
            ],
            [
             0.2,
             "#de77ae"
            ],
            [
             0.3,
             "#f1b6da"
            ],
            [
             0.4,
             "#fde0ef"
            ],
            [
             0.5,
             "#f7f7f7"
            ],
            [
             0.6,
             "#e6f5d0"
            ],
            [
             0.7,
             "#b8e186"
            ],
            [
             0.8,
             "#7fbc41"
            ],
            [
             0.9,
             "#4d9221"
            ],
            [
             1,
             "#276419"
            ]
           ],
           "sequential": [
            [
             0,
             "#0d0887"
            ],
            [
             0.1111111111111111,
             "#46039f"
            ],
            [
             0.2222222222222222,
             "#7201a8"
            ],
            [
             0.3333333333333333,
             "#9c179e"
            ],
            [
             0.4444444444444444,
             "#bd3786"
            ],
            [
             0.5555555555555556,
             "#d8576b"
            ],
            [
             0.6666666666666666,
             "#ed7953"
            ],
            [
             0.7777777777777778,
             "#fb9f3a"
            ],
            [
             0.8888888888888888,
             "#fdca26"
            ],
            [
             1,
             "#f0f921"
            ]
           ],
           "sequentialminus": [
            [
             0,
             "#0d0887"
            ],
            [
             0.1111111111111111,
             "#46039f"
            ],
            [
             0.2222222222222222,
             "#7201a8"
            ],
            [
             0.3333333333333333,
             "#9c179e"
            ],
            [
             0.4444444444444444,
             "#bd3786"
            ],
            [
             0.5555555555555556,
             "#d8576b"
            ],
            [
             0.6666666666666666,
             "#ed7953"
            ],
            [
             0.7777777777777778,
             "#fb9f3a"
            ],
            [
             0.8888888888888888,
             "#fdca26"
            ],
            [
             1,
             "#f0f921"
            ]
           ]
          },
          "colorway": [
           "#636efa",
           "#EF553B",
           "#00cc96",
           "#ab63fa",
           "#FFA15A",
           "#19d3f3",
           "#FF6692",
           "#B6E880",
           "#FF97FF",
           "#FECB52"
          ],
          "font": {
           "color": "#2a3f5f"
          },
          "geo": {
           "bgcolor": "white",
           "lakecolor": "white",
           "landcolor": "#E5ECF6",
           "showlakes": true,
           "showland": true,
           "subunitcolor": "white"
          },
          "hoverlabel": {
           "align": "left"
          },
          "hovermode": "closest",
          "mapbox": {
           "style": "light"
          },
          "paper_bgcolor": "white",
          "plot_bgcolor": "#E5ECF6",
          "polar": {
           "angularaxis": {
            "gridcolor": "white",
            "linecolor": "white",
            "ticks": ""
           },
           "bgcolor": "#E5ECF6",
           "radialaxis": {
            "gridcolor": "white",
            "linecolor": "white",
            "ticks": ""
           }
          },
          "scene": {
           "xaxis": {
            "backgroundcolor": "#E5ECF6",
            "gridcolor": "white",
            "gridwidth": 2,
            "linecolor": "white",
            "showbackground": true,
            "ticks": "",
            "zerolinecolor": "white"
           },
           "yaxis": {
            "backgroundcolor": "#E5ECF6",
            "gridcolor": "white",
            "gridwidth": 2,
            "linecolor": "white",
            "showbackground": true,
            "ticks": "",
            "zerolinecolor": "white"
           },
           "zaxis": {
            "backgroundcolor": "#E5ECF6",
            "gridcolor": "white",
            "gridwidth": 2,
            "linecolor": "white",
            "showbackground": true,
            "ticks": "",
            "zerolinecolor": "white"
           }
          },
          "shapedefaults": {
           "line": {
            "color": "#2a3f5f"
           }
          },
          "ternary": {
           "aaxis": {
            "gridcolor": "white",
            "linecolor": "white",
            "ticks": ""
           },
           "baxis": {
            "gridcolor": "white",
            "linecolor": "white",
            "ticks": ""
           },
           "bgcolor": "#E5ECF6",
           "caxis": {
            "gridcolor": "white",
            "linecolor": "white",
            "ticks": ""
           }
          },
          "title": {
           "x": 0.05
          },
          "xaxis": {
           "automargin": true,
           "gridcolor": "white",
           "linecolor": "white",
           "ticks": "",
           "title": {
            "standoff": 15
           },
           "zerolinecolor": "white",
           "zerolinewidth": 2
          },
          "yaxis": {
           "automargin": true,
           "gridcolor": "white",
           "linecolor": "white",
           "ticks": "",
           "title": {
            "standoff": 15
           },
           "zerolinecolor": "white",
           "zerolinewidth": 2
          }
         }
        },
        "xaxis": {
         "anchor": "y",
         "domain": [
          0,
          1
         ],
         "title": {
          "text": "Google Ads"
         }
        },
        "yaxis": {
         "anchor": "x",
         "domain": [
          0,
          1
         ],
         "title": {
          "text": "Sales"
         }
        }
       }
      }
     },
     "metadata": {},
     "output_type": "display_data"
    }
   ],
   "source": [
    "fig1 = px.scatter(df, x='TikTok', y='Sales')\n",
    "fig2 = px.scatter(df, x='Facebook', y='Sales')\n",
    "fig3 = px.scatter(df, x='Google Ads', y='Sales')\n",
    "\n",
    "fig1.show()\n",
    "fig2.show()\n",
    "fig3.show()\n"
   ]
  },
  {
   "cell_type": "code",
   "execution_count": 63,
   "metadata": {},
   "outputs": [
    {
     "data": {
      "application/vnd.plotly.v1+json": {
       "config": {
        "plotlyServerURL": "https://plot.ly"
       },
       "data": [
        {
         "hovertemplate": "Date=%{x}<br>Sales=%{y}<br>TikTok=%{marker.color}<extra></extra>",
         "legendgroup": "",
         "marker": {
          "color": [
           13528.1,
           0,
           0,
           0,
           0,
           8045.44,
           0,
           9697.29,
           0,
           0,
           0,
           0,
           11522.08,
           10243.35,
           0,
           10667.35,
           0,
           9589.68,
           10626.14,
           8291.81,
           0,
           11307.24,
           0,
           8515.67,
           0,
           0,
           0,
           0,
           13065.56,
           0,
           0,
           0,
           0,
           0,
           9304.18,
           0,
           0,
           0,
           0,
           9395.39,
           7902.89,
           7159.96,
           6587.46,
           13901.55,
           0,
           0,
           0,
           0,
           0,
           0,
           8209.07,
           0,
           8978.39,
           0,
           0,
           0,
           0,
           0,
           0,
           0,
           8655.08,
           9280.89,
           0,
           0,
           0,
           0,
           0,
           0,
           0,
           0,
           0,
           0,
           0,
           7530.35,
           0,
           0,
           8258.41,
           8842.3,
           0,
           0,
           0,
           0,
           0,
           0,
           0,
           0,
           12357.56,
           0,
           0,
           0,
           0,
           12444.89,
           0,
           0,
           0,
           0,
           0,
           0,
           0,
           0,
           0,
           7304.48,
           0,
           11938.79,
           0,
           0,
           9172.76,
           0,
           13845.88,
           0,
           13735.12,
           0,
           0,
           0,
           9463.99,
           0,
           0,
           0,
           11228.16,
           11844.41,
           0,
           0,
           10596.48,
           0,
           8610.86,
           0,
           9129.69,
           13698.53,
           11344.59,
           0,
           0,
           0,
           0,
           0,
           0,
           11352.87,
           0,
           9583.4,
           0,
           0,
           0,
           0,
           0,
           11270.06,
           0,
           11888.96,
           8174.36,
           0,
           0,
           0,
           0,
           0,
           0,
           0,
           0,
           0,
           0,
           0,
           0,
           0,
           0,
           0,
           11898.84,
           10175.1,
           0,
           0,
           0,
           0,
           12376.06,
           0,
           11841.72,
           0,
           0,
           0,
           0,
           0,
           0,
           0,
           0,
           0,
           9292.01,
           0,
           0,
           5553.19,
           11250.46,
           0,
           0,
           0,
           8520.87,
           13086.03,
           7414.29,
           10534.1,
           0,
           7663.81,
           0,
           0,
           11543.58,
           0,
           0,
           0
          ],
          "coloraxis": "coloraxis",
          "symbol": "circle"
         },
         "mode": "markers",
         "name": "",
         "orientation": "v",
         "showlegend": false,
         "type": "scatter",
         "x": [
          "2018-01-07T00:00:00",
          null,
          null,
          null,
          "2018-02-04T00:00:00",
          "2018-02-11T00:00:00",
          null,
          null,
          "2018-03-04T00:00:00",
          "2018-03-11T00:00:00",
          null,
          null,
          "2018-04-01T00:00:00",
          "2018-04-08T00:00:00",
          null,
          null,
          null,
          "2018-05-06T00:00:00",
          null,
          null,
          null,
          "2018-06-03T00:00:00",
          "2018-06-10T00:00:00",
          null,
          null,
          "2018-07-01T00:00:00",
          "2018-07-08T00:00:00",
          null,
          null,
          null,
          "2018-08-05T00:00:00",
          "2018-08-12T00:00:00",
          null,
          null,
          "2018-09-02T00:00:00",
          "2018-09-09T00:00:00",
          null,
          null,
          null,
          "2018-10-07T00:00:00",
          null,
          null,
          null,
          "2018-11-04T00:00:00",
          "2018-11-11T00:00:00",
          null,
          null,
          "2018-12-02T00:00:00",
          "2018-12-09T00:00:00",
          null,
          null,
          null,
          "2019-01-06T00:00:00",
          null,
          null,
          null,
          "2019-02-03T00:00:00",
          "2019-02-10T00:00:00",
          null,
          null,
          "2019-03-03T00:00:00",
          "2019-03-10T00:00:00",
          null,
          null,
          null,
          "2019-04-07T00:00:00",
          null,
          null,
          null,
          "2019-05-05T00:00:00",
          "2019-05-12T00:00:00",
          null,
          null,
          "2019-06-02T00:00:00",
          "2019-06-09T00:00:00",
          null,
          null,
          null,
          "2019-07-07T00:00:00",
          null,
          null,
          null,
          "2019-08-04T00:00:00",
          "2019-08-11T00:00:00",
          null,
          null,
          "2019-09-01T00:00:00",
          "2019-09-08T00:00:00",
          null,
          null,
          null,
          "2019-10-06T00:00:00",
          null,
          null,
          null,
          "2019-11-03T00:00:00",
          "2019-11-10T00:00:00",
          null,
          null,
          "2019-12-01T00:00:00",
          "2019-12-08T00:00:00",
          null,
          null,
          null,
          "2020-01-05T00:00:00",
          "2020-01-12T00:00:00",
          null,
          null,
          "2020-02-02T00:00:00",
          "2020-02-09T00:00:00",
          null,
          null,
          "2020-03-01T00:00:00",
          "2020-03-08T00:00:00",
          null,
          null,
          null,
          "2020-04-05T00:00:00",
          "2020-04-12T00:00:00",
          null,
          null,
          "2020-05-03T00:00:00",
          "2020-05-10T00:00:00",
          null,
          null,
          null,
          "2020-06-07T00:00:00",
          null,
          null,
          null,
          "2020-07-05T00:00:00",
          "2020-07-12T00:00:00",
          null,
          null,
          "2020-08-02T00:00:00",
          "2020-08-09T00:00:00",
          null,
          null,
          null,
          "2020-09-06T00:00:00",
          null,
          null,
          null,
          "2020-10-04T00:00:00",
          "2020-10-11T00:00:00",
          null,
          null,
          "2020-11-01T00:00:00",
          "2020-11-08T00:00:00",
          null,
          null,
          null,
          "2020-12-06T00:00:00",
          null,
          null,
          null,
          "2021-01-03T00:00:00",
          "2021-01-10T00:00:00",
          null,
          null,
          null,
          "2021-02-07T00:00:00",
          null,
          null,
          null,
          "2021-03-07T00:00:00",
          null,
          null,
          null,
          "2021-04-04T00:00:00",
          "2021-04-11T00:00:00",
          null,
          null,
          "2021-05-02T00:00:00",
          "2021-05-09T00:00:00",
          null,
          null,
          null,
          "2021-06-06T00:00:00",
          null,
          null,
          null,
          "2021-07-04T00:00:00",
          "2021-07-11T00:00:00",
          null,
          null,
          "2021-08-01T00:00:00",
          "2021-08-08T00:00:00",
          null,
          null,
          null,
          "2021-09-05T00:00:00",
          "2021-09-12T00:00:00",
          null,
          null,
          "2021-10-03T00:00:00",
          "2021-10-10T00:00:00",
          null,
          null,
          null
         ],
         "xaxis": "x",
         "y": [
          9779.8,
          13245.19,
          12022.66,
          8846.95,
          9797.07,
          13527.65,
          9635.43,
          15355.11,
          12199.37,
          11368.23,
          8640.44,
          4960.26,
          12726.46,
          11421.71,
          10875.31,
          13048.08,
          10775.86,
          15013.62,
          14158.32,
          15918.14,
          11128.75,
          12170.36,
          10134.7,
          11093.55,
          8170.63,
          6542.71,
          11325.8,
          7793.24,
          15010.94,
          10634.31,
          11751.39,
          9151.2,
          9141.46,
          7399.92,
          10893.16,
          11550.47,
          8672.09,
          9427.22,
          8036.91,
          11240.58,
          12386.83,
          12513.84,
          12235.08,
          11895.78,
          10047.41,
          9705.39,
          8847.19,
          10379.07,
          11312.48,
          8226.23,
          13966.11,
          13460.32,
          15742.61,
          10440.98,
          8535.49,
          7801.58,
          9570.01,
          7854.78,
          8067.55,
          7848.26,
          14012.71,
          16127.45,
          11636.97,
          8193.65,
          9451.61,
          11454.02,
          5526.84,
          7677.52,
          8084.98,
          7456.56,
          5365.18,
          8134.16,
          10065.53,
          10878.94,
          11524.63,
          6563.85,
          14165.57,
          15624.56,
          11305.04,
          8245.57,
          7676.64,
          5023.53,
          8058.85,
          9902.44,
          8058.05,
          7498.36,
          12216.8,
          11042.8,
          10713.92,
          9130.06,
          7325.82,
          15292.36,
          11571.92,
          10464.3,
          9229.31,
          9964.76,
          8018.56,
          7278.85,
          8467.44,
          7620.08,
          7353.99,
          12947.48,
          10250.78,
          13096.57,
          10843.3,
          9702.32,
          11509.72,
          10862.91,
          14894.3,
          12071.16,
          16592.25,
          12441.24,
          12279.8,
          6790.08,
          11909.22,
          13496.33,
          12297.33,
          6378.02,
          14447.22,
          14199.63,
          8818.6,
          11735.1,
          10804.46,
          10008.84,
          13038.94,
          12997.57,
          13131.68,
          14703.9,
          17668.34,
          13267.43,
          8106.56,
          11182.44,
          10886.67,
          11160.91,
          7160.31,
          14452.13,
          11189.87,
          15012.92,
          8606.27,
          5991.27,
          8239.06,
          5561.95,
          9797.26,
          14673.81,
          11598.35,
          13368.12,
          14428.14,
          11172.84,
          6340.56,
          8095.38,
          9268.66,
          4532.33,
          10982.62,
          8447.64,
          7617.05,
          7610.02,
          7849.88,
          7104.61,
          8447.4,
          7885.48,
          9992.42,
          11322.95,
          15977.27,
          14259.48,
          12886.05,
          9131.86,
          10953.39,
          8574.23,
          14958.05,
          13543.21,
          13867.08,
          13854.92,
          10895.22,
          7854.4,
          7405.54,
          7705.26,
          10888.41,
          7715.63,
          10581.72,
          11218.58,
          12789.7,
          9923.23,
          9781.83,
          11570.62,
          12294.54,
          9745.9,
          11918.41,
          10983.4,
          8944.74,
          13131.49,
          14669.4,
          13843.33,
          14024.53,
          13315.79,
          10237.24,
          9030.17,
          15904.11,
          12839.29,
          9063.45,
          7250.21
         ],
         "yaxis": "y"
        }
       ],
       "layout": {
        "coloraxis": {
         "colorbar": {
          "title": {
           "text": "TikTok"
          }
         },
         "colorscale": [
          [
           0,
           "#0d0887"
          ],
          [
           0.1111111111111111,
           "#46039f"
          ],
          [
           0.2222222222222222,
           "#7201a8"
          ],
          [
           0.3333333333333333,
           "#9c179e"
          ],
          [
           0.4444444444444444,
           "#bd3786"
          ],
          [
           0.5555555555555556,
           "#d8576b"
          ],
          [
           0.6666666666666666,
           "#ed7953"
          ],
          [
           0.7777777777777778,
           "#fb9f3a"
          ],
          [
           0.8888888888888888,
           "#fdca26"
          ],
          [
           1,
           "#f0f921"
          ]
         ]
        },
        "legend": {
         "tracegroupgap": 0
        },
        "margin": {
         "t": 60
        },
        "template": {
         "data": {
          "bar": [
           {
            "error_x": {
             "color": "#2a3f5f"
            },
            "error_y": {
             "color": "#2a3f5f"
            },
            "marker": {
             "line": {
              "color": "#E5ECF6",
              "width": 0.5
             },
             "pattern": {
              "fillmode": "overlay",
              "size": 10,
              "solidity": 0.2
             }
            },
            "type": "bar"
           }
          ],
          "barpolar": [
           {
            "marker": {
             "line": {
              "color": "#E5ECF6",
              "width": 0.5
             },
             "pattern": {
              "fillmode": "overlay",
              "size": 10,
              "solidity": 0.2
             }
            },
            "type": "barpolar"
           }
          ],
          "carpet": [
           {
            "aaxis": {
             "endlinecolor": "#2a3f5f",
             "gridcolor": "white",
             "linecolor": "white",
             "minorgridcolor": "white",
             "startlinecolor": "#2a3f5f"
            },
            "baxis": {
             "endlinecolor": "#2a3f5f",
             "gridcolor": "white",
             "linecolor": "white",
             "minorgridcolor": "white",
             "startlinecolor": "#2a3f5f"
            },
            "type": "carpet"
           }
          ],
          "choropleth": [
           {
            "colorbar": {
             "outlinewidth": 0,
             "ticks": ""
            },
            "type": "choropleth"
           }
          ],
          "contour": [
           {
            "colorbar": {
             "outlinewidth": 0,
             "ticks": ""
            },
            "colorscale": [
             [
              0,
              "#0d0887"
             ],
             [
              0.1111111111111111,
              "#46039f"
             ],
             [
              0.2222222222222222,
              "#7201a8"
             ],
             [
              0.3333333333333333,
              "#9c179e"
             ],
             [
              0.4444444444444444,
              "#bd3786"
             ],
             [
              0.5555555555555556,
              "#d8576b"
             ],
             [
              0.6666666666666666,
              "#ed7953"
             ],
             [
              0.7777777777777778,
              "#fb9f3a"
             ],
             [
              0.8888888888888888,
              "#fdca26"
             ],
             [
              1,
              "#f0f921"
             ]
            ],
            "type": "contour"
           }
          ],
          "contourcarpet": [
           {
            "colorbar": {
             "outlinewidth": 0,
             "ticks": ""
            },
            "type": "contourcarpet"
           }
          ],
          "heatmap": [
           {
            "colorbar": {
             "outlinewidth": 0,
             "ticks": ""
            },
            "colorscale": [
             [
              0,
              "#0d0887"
             ],
             [
              0.1111111111111111,
              "#46039f"
             ],
             [
              0.2222222222222222,
              "#7201a8"
             ],
             [
              0.3333333333333333,
              "#9c179e"
             ],
             [
              0.4444444444444444,
              "#bd3786"
             ],
             [
              0.5555555555555556,
              "#d8576b"
             ],
             [
              0.6666666666666666,
              "#ed7953"
             ],
             [
              0.7777777777777778,
              "#fb9f3a"
             ],
             [
              0.8888888888888888,
              "#fdca26"
             ],
             [
              1,
              "#f0f921"
             ]
            ],
            "type": "heatmap"
           }
          ],
          "heatmapgl": [
           {
            "colorbar": {
             "outlinewidth": 0,
             "ticks": ""
            },
            "colorscale": [
             [
              0,
              "#0d0887"
             ],
             [
              0.1111111111111111,
              "#46039f"
             ],
             [
              0.2222222222222222,
              "#7201a8"
             ],
             [
              0.3333333333333333,
              "#9c179e"
             ],
             [
              0.4444444444444444,
              "#bd3786"
             ],
             [
              0.5555555555555556,
              "#d8576b"
             ],
             [
              0.6666666666666666,
              "#ed7953"
             ],
             [
              0.7777777777777778,
              "#fb9f3a"
             ],
             [
              0.8888888888888888,
              "#fdca26"
             ],
             [
              1,
              "#f0f921"
             ]
            ],
            "type": "heatmapgl"
           }
          ],
          "histogram": [
           {
            "marker": {
             "pattern": {
              "fillmode": "overlay",
              "size": 10,
              "solidity": 0.2
             }
            },
            "type": "histogram"
           }
          ],
          "histogram2d": [
           {
            "colorbar": {
             "outlinewidth": 0,
             "ticks": ""
            },
            "colorscale": [
             [
              0,
              "#0d0887"
             ],
             [
              0.1111111111111111,
              "#46039f"
             ],
             [
              0.2222222222222222,
              "#7201a8"
             ],
             [
              0.3333333333333333,
              "#9c179e"
             ],
             [
              0.4444444444444444,
              "#bd3786"
             ],
             [
              0.5555555555555556,
              "#d8576b"
             ],
             [
              0.6666666666666666,
              "#ed7953"
             ],
             [
              0.7777777777777778,
              "#fb9f3a"
             ],
             [
              0.8888888888888888,
              "#fdca26"
             ],
             [
              1,
              "#f0f921"
             ]
            ],
            "type": "histogram2d"
           }
          ],
          "histogram2dcontour": [
           {
            "colorbar": {
             "outlinewidth": 0,
             "ticks": ""
            },
            "colorscale": [
             [
              0,
              "#0d0887"
             ],
             [
              0.1111111111111111,
              "#46039f"
             ],
             [
              0.2222222222222222,
              "#7201a8"
             ],
             [
              0.3333333333333333,
              "#9c179e"
             ],
             [
              0.4444444444444444,
              "#bd3786"
             ],
             [
              0.5555555555555556,
              "#d8576b"
             ],
             [
              0.6666666666666666,
              "#ed7953"
             ],
             [
              0.7777777777777778,
              "#fb9f3a"
             ],
             [
              0.8888888888888888,
              "#fdca26"
             ],
             [
              1,
              "#f0f921"
             ]
            ],
            "type": "histogram2dcontour"
           }
          ],
          "mesh3d": [
           {
            "colorbar": {
             "outlinewidth": 0,
             "ticks": ""
            },
            "type": "mesh3d"
           }
          ],
          "parcoords": [
           {
            "line": {
             "colorbar": {
              "outlinewidth": 0,
              "ticks": ""
             }
            },
            "type": "parcoords"
           }
          ],
          "pie": [
           {
            "automargin": true,
            "type": "pie"
           }
          ],
          "scatter": [
           {
            "fillpattern": {
             "fillmode": "overlay",
             "size": 10,
             "solidity": 0.2
            },
            "type": "scatter"
           }
          ],
          "scatter3d": [
           {
            "line": {
             "colorbar": {
              "outlinewidth": 0,
              "ticks": ""
             }
            },
            "marker": {
             "colorbar": {
              "outlinewidth": 0,
              "ticks": ""
             }
            },
            "type": "scatter3d"
           }
          ],
          "scattercarpet": [
           {
            "marker": {
             "colorbar": {
              "outlinewidth": 0,
              "ticks": ""
             }
            },
            "type": "scattercarpet"
           }
          ],
          "scattergeo": [
           {
            "marker": {
             "colorbar": {
              "outlinewidth": 0,
              "ticks": ""
             }
            },
            "type": "scattergeo"
           }
          ],
          "scattergl": [
           {
            "marker": {
             "colorbar": {
              "outlinewidth": 0,
              "ticks": ""
             }
            },
            "type": "scattergl"
           }
          ],
          "scattermapbox": [
           {
            "marker": {
             "colorbar": {
              "outlinewidth": 0,
              "ticks": ""
             }
            },
            "type": "scattermapbox"
           }
          ],
          "scatterpolar": [
           {
            "marker": {
             "colorbar": {
              "outlinewidth": 0,
              "ticks": ""
             }
            },
            "type": "scatterpolar"
           }
          ],
          "scatterpolargl": [
           {
            "marker": {
             "colorbar": {
              "outlinewidth": 0,
              "ticks": ""
             }
            },
            "type": "scatterpolargl"
           }
          ],
          "scatterternary": [
           {
            "marker": {
             "colorbar": {
              "outlinewidth": 0,
              "ticks": ""
             }
            },
            "type": "scatterternary"
           }
          ],
          "surface": [
           {
            "colorbar": {
             "outlinewidth": 0,
             "ticks": ""
            },
            "colorscale": [
             [
              0,
              "#0d0887"
             ],
             [
              0.1111111111111111,
              "#46039f"
             ],
             [
              0.2222222222222222,
              "#7201a8"
             ],
             [
              0.3333333333333333,
              "#9c179e"
             ],
             [
              0.4444444444444444,
              "#bd3786"
             ],
             [
              0.5555555555555556,
              "#d8576b"
             ],
             [
              0.6666666666666666,
              "#ed7953"
             ],
             [
              0.7777777777777778,
              "#fb9f3a"
             ],
             [
              0.8888888888888888,
              "#fdca26"
             ],
             [
              1,
              "#f0f921"
             ]
            ],
            "type": "surface"
           }
          ],
          "table": [
           {
            "cells": {
             "fill": {
              "color": "#EBF0F8"
             },
             "line": {
              "color": "white"
             }
            },
            "header": {
             "fill": {
              "color": "#C8D4E3"
             },
             "line": {
              "color": "white"
             }
            },
            "type": "table"
           }
          ]
         },
         "layout": {
          "annotationdefaults": {
           "arrowcolor": "#2a3f5f",
           "arrowhead": 0,
           "arrowwidth": 1
          },
          "autotypenumbers": "strict",
          "coloraxis": {
           "colorbar": {
            "outlinewidth": 0,
            "ticks": ""
           }
          },
          "colorscale": {
           "diverging": [
            [
             0,
             "#8e0152"
            ],
            [
             0.1,
             "#c51b7d"
            ],
            [
             0.2,
             "#de77ae"
            ],
            [
             0.3,
             "#f1b6da"
            ],
            [
             0.4,
             "#fde0ef"
            ],
            [
             0.5,
             "#f7f7f7"
            ],
            [
             0.6,
             "#e6f5d0"
            ],
            [
             0.7,
             "#b8e186"
            ],
            [
             0.8,
             "#7fbc41"
            ],
            [
             0.9,
             "#4d9221"
            ],
            [
             1,
             "#276419"
            ]
           ],
           "sequential": [
            [
             0,
             "#0d0887"
            ],
            [
             0.1111111111111111,
             "#46039f"
            ],
            [
             0.2222222222222222,
             "#7201a8"
            ],
            [
             0.3333333333333333,
             "#9c179e"
            ],
            [
             0.4444444444444444,
             "#bd3786"
            ],
            [
             0.5555555555555556,
             "#d8576b"
            ],
            [
             0.6666666666666666,
             "#ed7953"
            ],
            [
             0.7777777777777778,
             "#fb9f3a"
            ],
            [
             0.8888888888888888,
             "#fdca26"
            ],
            [
             1,
             "#f0f921"
            ]
           ],
           "sequentialminus": [
            [
             0,
             "#0d0887"
            ],
            [
             0.1111111111111111,
             "#46039f"
            ],
            [
             0.2222222222222222,
             "#7201a8"
            ],
            [
             0.3333333333333333,
             "#9c179e"
            ],
            [
             0.4444444444444444,
             "#bd3786"
            ],
            [
             0.5555555555555556,
             "#d8576b"
            ],
            [
             0.6666666666666666,
             "#ed7953"
            ],
            [
             0.7777777777777778,
             "#fb9f3a"
            ],
            [
             0.8888888888888888,
             "#fdca26"
            ],
            [
             1,
             "#f0f921"
            ]
           ]
          },
          "colorway": [
           "#636efa",
           "#EF553B",
           "#00cc96",
           "#ab63fa",
           "#FFA15A",
           "#19d3f3",
           "#FF6692",
           "#B6E880",
           "#FF97FF",
           "#FECB52"
          ],
          "font": {
           "color": "#2a3f5f"
          },
          "geo": {
           "bgcolor": "white",
           "lakecolor": "white",
           "landcolor": "#E5ECF6",
           "showlakes": true,
           "showland": true,
           "subunitcolor": "white"
          },
          "hoverlabel": {
           "align": "left"
          },
          "hovermode": "closest",
          "mapbox": {
           "style": "light"
          },
          "paper_bgcolor": "white",
          "plot_bgcolor": "#E5ECF6",
          "polar": {
           "angularaxis": {
            "gridcolor": "white",
            "linecolor": "white",
            "ticks": ""
           },
           "bgcolor": "#E5ECF6",
           "radialaxis": {
            "gridcolor": "white",
            "linecolor": "white",
            "ticks": ""
           }
          },
          "scene": {
           "xaxis": {
            "backgroundcolor": "#E5ECF6",
            "gridcolor": "white",
            "gridwidth": 2,
            "linecolor": "white",
            "showbackground": true,
            "ticks": "",
            "zerolinecolor": "white"
           },
           "yaxis": {
            "backgroundcolor": "#E5ECF6",
            "gridcolor": "white",
            "gridwidth": 2,
            "linecolor": "white",
            "showbackground": true,
            "ticks": "",
            "zerolinecolor": "white"
           },
           "zaxis": {
            "backgroundcolor": "#E5ECF6",
            "gridcolor": "white",
            "gridwidth": 2,
            "linecolor": "white",
            "showbackground": true,
            "ticks": "",
            "zerolinecolor": "white"
           }
          },
          "shapedefaults": {
           "line": {
            "color": "#2a3f5f"
           }
          },
          "ternary": {
           "aaxis": {
            "gridcolor": "white",
            "linecolor": "white",
            "ticks": ""
           },
           "baxis": {
            "gridcolor": "white",
            "linecolor": "white",
            "ticks": ""
           },
           "bgcolor": "#E5ECF6",
           "caxis": {
            "gridcolor": "white",
            "linecolor": "white",
            "ticks": ""
           }
          },
          "title": {
           "x": 0.05
          },
          "xaxis": {
           "automargin": true,
           "gridcolor": "white",
           "linecolor": "white",
           "ticks": "",
           "title": {
            "standoff": 15
           },
           "zerolinecolor": "white",
           "zerolinewidth": 2
          },
          "yaxis": {
           "automargin": true,
           "gridcolor": "white",
           "linecolor": "white",
           "ticks": "",
           "title": {
            "standoff": 15
           },
           "zerolinecolor": "white",
           "zerolinewidth": 2
          }
         }
        },
        "xaxis": {
         "anchor": "y",
         "domain": [
          0,
          1
         ],
         "title": {
          "text": "Date"
         }
        },
        "yaxis": {
         "anchor": "x",
         "domain": [
          0,
          1
         ],
         "title": {
          "text": "Sales"
         }
        }
       }
      }
     },
     "metadata": {},
     "output_type": "display_data"
    }
   ],
   "source": [
    "fig = px.scatter(df, color='TikTok', x='Date', y='Sales')\n",
    "fig.show()"
   ]
  },
  {
   "cell_type": "code",
   "execution_count": 64,
   "metadata": {},
   "outputs": [
    {
     "data": {
      "application/vnd.plotly.v1+json": {
       "config": {
        "plotlyServerURL": "https://plot.ly"
       },
       "data": [
        {
         "hovertemplate": "Date=%{x}<br>Sales=%{y}<br>Facebook=%{marker.color}<extra></extra>",
         "legendgroup": "",
         "marker": {
          "color": [
           0,
           5349.65,
           4235.86,
           3562.21,
           0,
           4310.55,
           0,
           4478.81,
           3156.93,
           4522.03,
           4520.34,
           0,
           5698.46,
           0,
           0,
           0,
           0,
           5160.93,
           0,
           4605.15,
           0,
           0,
           0,
           4006.88,
           0,
           0,
           5049.49,
           0,
           5643.31,
           3429.38,
           4793.1,
           5880.18,
           0,
           5387.28,
           2744.44,
           3977.49,
           0,
           3343.28,
           0,
           0,
           0,
           0,
           5567.29,
           0,
           0,
           0,
           4708.16,
           4238.51,
           5857.92,
           0,
           6466.58,
           5852.55,
           4401.35,
           0,
           0,
           0,
           3231.46,
           0,
           0,
           0,
           4814.95,
           4192.35,
           0,
           0,
           4690.89,
           4766.53,
           0,
           0,
           0,
           0,
           0,
           0,
           5929.51,
           0,
           2905.4,
           0,
           4869.89,
           5093.95,
           0,
           0,
           0,
           0,
           0,
           3583.09,
           0,
           0,
           4028.9,
           5314.82,
           5821.59,
           0,
           5800.56,
           5078.26,
           0,
           3840.58,
           0,
           5194.29,
           0,
           0,
           0,
           0,
           4217.37,
           4889.61,
           0,
           0,
           0,
           0,
           0,
           7021.04,
           0,
           2798.56,
           5199.3,
           0,
           4482.48,
           0,
           4560.81,
           5181.34,
           4497.18,
           0,
           4039.5,
           0,
           0,
           5251.48,
           0,
           0,
           0,
           4290.27,
           0,
           5994.39,
           6319.14,
           0,
           0,
           5496,
           5771.41,
           6029.44,
           0,
           4575.68,
           5862.6,
           2344.38,
           0,
           0,
           0,
           0,
           3970.06,
           4650.06,
           0,
           0,
           7696.22,
           4926.08,
           0,
           0,
           3981.96,
           0,
           5382.73,
           0,
           6096.35,
           0,
           0,
           0,
           0,
           0,
           3820.84,
           6301.43,
           5895.26,
           0,
           3667.79,
           3031.38,
           4339.94,
           0,
           5498.69,
           6047.97,
           0,
           6742.67,
           0,
           0,
           0,
           4111.03,
           5242.12,
           0,
           5936.74,
           6412.33,
           0,
           0,
           2760.4,
           0,
           0,
           0,
           3720.31,
           4414.57,
           0,
           0,
           0,
           0,
           5213.48,
           0,
           4757.98,
           0,
           4615.35,
           4556.16,
           0,
           0
          ],
          "coloraxis": "coloraxis",
          "symbol": "circle"
         },
         "mode": "markers",
         "name": "",
         "orientation": "v",
         "showlegend": false,
         "type": "scatter",
         "x": [
          "2018-01-07T00:00:00",
          null,
          null,
          null,
          "2018-02-04T00:00:00",
          "2018-02-11T00:00:00",
          null,
          null,
          "2018-03-04T00:00:00",
          "2018-03-11T00:00:00",
          null,
          null,
          "2018-04-01T00:00:00",
          "2018-04-08T00:00:00",
          null,
          null,
          null,
          "2018-05-06T00:00:00",
          null,
          null,
          null,
          "2018-06-03T00:00:00",
          "2018-06-10T00:00:00",
          null,
          null,
          "2018-07-01T00:00:00",
          "2018-07-08T00:00:00",
          null,
          null,
          null,
          "2018-08-05T00:00:00",
          "2018-08-12T00:00:00",
          null,
          null,
          "2018-09-02T00:00:00",
          "2018-09-09T00:00:00",
          null,
          null,
          null,
          "2018-10-07T00:00:00",
          null,
          null,
          null,
          "2018-11-04T00:00:00",
          "2018-11-11T00:00:00",
          null,
          null,
          "2018-12-02T00:00:00",
          "2018-12-09T00:00:00",
          null,
          null,
          null,
          "2019-01-06T00:00:00",
          null,
          null,
          null,
          "2019-02-03T00:00:00",
          "2019-02-10T00:00:00",
          null,
          null,
          "2019-03-03T00:00:00",
          "2019-03-10T00:00:00",
          null,
          null,
          null,
          "2019-04-07T00:00:00",
          null,
          null,
          null,
          "2019-05-05T00:00:00",
          "2019-05-12T00:00:00",
          null,
          null,
          "2019-06-02T00:00:00",
          "2019-06-09T00:00:00",
          null,
          null,
          null,
          "2019-07-07T00:00:00",
          null,
          null,
          null,
          "2019-08-04T00:00:00",
          "2019-08-11T00:00:00",
          null,
          null,
          "2019-09-01T00:00:00",
          "2019-09-08T00:00:00",
          null,
          null,
          null,
          "2019-10-06T00:00:00",
          null,
          null,
          null,
          "2019-11-03T00:00:00",
          "2019-11-10T00:00:00",
          null,
          null,
          "2019-12-01T00:00:00",
          "2019-12-08T00:00:00",
          null,
          null,
          null,
          "2020-01-05T00:00:00",
          "2020-01-12T00:00:00",
          null,
          null,
          "2020-02-02T00:00:00",
          "2020-02-09T00:00:00",
          null,
          null,
          "2020-03-01T00:00:00",
          "2020-03-08T00:00:00",
          null,
          null,
          null,
          "2020-04-05T00:00:00",
          "2020-04-12T00:00:00",
          null,
          null,
          "2020-05-03T00:00:00",
          "2020-05-10T00:00:00",
          null,
          null,
          null,
          "2020-06-07T00:00:00",
          null,
          null,
          null,
          "2020-07-05T00:00:00",
          "2020-07-12T00:00:00",
          null,
          null,
          "2020-08-02T00:00:00",
          "2020-08-09T00:00:00",
          null,
          null,
          null,
          "2020-09-06T00:00:00",
          null,
          null,
          null,
          "2020-10-04T00:00:00",
          "2020-10-11T00:00:00",
          null,
          null,
          "2020-11-01T00:00:00",
          "2020-11-08T00:00:00",
          null,
          null,
          null,
          "2020-12-06T00:00:00",
          null,
          null,
          null,
          "2021-01-03T00:00:00",
          "2021-01-10T00:00:00",
          null,
          null,
          null,
          "2021-02-07T00:00:00",
          null,
          null,
          null,
          "2021-03-07T00:00:00",
          null,
          null,
          null,
          "2021-04-04T00:00:00",
          "2021-04-11T00:00:00",
          null,
          null,
          "2021-05-02T00:00:00",
          "2021-05-09T00:00:00",
          null,
          null,
          null,
          "2021-06-06T00:00:00",
          null,
          null,
          null,
          "2021-07-04T00:00:00",
          "2021-07-11T00:00:00",
          null,
          null,
          "2021-08-01T00:00:00",
          "2021-08-08T00:00:00",
          null,
          null,
          null,
          "2021-09-05T00:00:00",
          "2021-09-12T00:00:00",
          null,
          null,
          "2021-10-03T00:00:00",
          "2021-10-10T00:00:00",
          null,
          null,
          null
         ],
         "xaxis": "x",
         "y": [
          9779.8,
          13245.19,
          12022.66,
          8846.95,
          9797.07,
          13527.65,
          9635.43,
          15355.11,
          12199.37,
          11368.23,
          8640.44,
          4960.26,
          12726.46,
          11421.71,
          10875.31,
          13048.08,
          10775.86,
          15013.62,
          14158.32,
          15918.14,
          11128.75,
          12170.36,
          10134.7,
          11093.55,
          8170.63,
          6542.71,
          11325.8,
          7793.24,
          15010.94,
          10634.31,
          11751.39,
          9151.2,
          9141.46,
          7399.92,
          10893.16,
          11550.47,
          8672.09,
          9427.22,
          8036.91,
          11240.58,
          12386.83,
          12513.84,
          12235.08,
          11895.78,
          10047.41,
          9705.39,
          8847.19,
          10379.07,
          11312.48,
          8226.23,
          13966.11,
          13460.32,
          15742.61,
          10440.98,
          8535.49,
          7801.58,
          9570.01,
          7854.78,
          8067.55,
          7848.26,
          14012.71,
          16127.45,
          11636.97,
          8193.65,
          9451.61,
          11454.02,
          5526.84,
          7677.52,
          8084.98,
          7456.56,
          5365.18,
          8134.16,
          10065.53,
          10878.94,
          11524.63,
          6563.85,
          14165.57,
          15624.56,
          11305.04,
          8245.57,
          7676.64,
          5023.53,
          8058.85,
          9902.44,
          8058.05,
          7498.36,
          12216.8,
          11042.8,
          10713.92,
          9130.06,
          7325.82,
          15292.36,
          11571.92,
          10464.3,
          9229.31,
          9964.76,
          8018.56,
          7278.85,
          8467.44,
          7620.08,
          7353.99,
          12947.48,
          10250.78,
          13096.57,
          10843.3,
          9702.32,
          11509.72,
          10862.91,
          14894.3,
          12071.16,
          16592.25,
          12441.24,
          12279.8,
          6790.08,
          11909.22,
          13496.33,
          12297.33,
          6378.02,
          14447.22,
          14199.63,
          8818.6,
          11735.1,
          10804.46,
          10008.84,
          13038.94,
          12997.57,
          13131.68,
          14703.9,
          17668.34,
          13267.43,
          8106.56,
          11182.44,
          10886.67,
          11160.91,
          7160.31,
          14452.13,
          11189.87,
          15012.92,
          8606.27,
          5991.27,
          8239.06,
          5561.95,
          9797.26,
          14673.81,
          11598.35,
          13368.12,
          14428.14,
          11172.84,
          6340.56,
          8095.38,
          9268.66,
          4532.33,
          10982.62,
          8447.64,
          7617.05,
          7610.02,
          7849.88,
          7104.61,
          8447.4,
          7885.48,
          9992.42,
          11322.95,
          15977.27,
          14259.48,
          12886.05,
          9131.86,
          10953.39,
          8574.23,
          14958.05,
          13543.21,
          13867.08,
          13854.92,
          10895.22,
          7854.4,
          7405.54,
          7705.26,
          10888.41,
          7715.63,
          10581.72,
          11218.58,
          12789.7,
          9923.23,
          9781.83,
          11570.62,
          12294.54,
          9745.9,
          11918.41,
          10983.4,
          8944.74,
          13131.49,
          14669.4,
          13843.33,
          14024.53,
          13315.79,
          10237.24,
          9030.17,
          15904.11,
          12839.29,
          9063.45,
          7250.21
         ],
         "yaxis": "y"
        }
       ],
       "layout": {
        "coloraxis": {
         "colorbar": {
          "title": {
           "text": "Facebook"
          }
         },
         "colorscale": [
          [
           0,
           "#0d0887"
          ],
          [
           0.1111111111111111,
           "#46039f"
          ],
          [
           0.2222222222222222,
           "#7201a8"
          ],
          [
           0.3333333333333333,
           "#9c179e"
          ],
          [
           0.4444444444444444,
           "#bd3786"
          ],
          [
           0.5555555555555556,
           "#d8576b"
          ],
          [
           0.6666666666666666,
           "#ed7953"
          ],
          [
           0.7777777777777778,
           "#fb9f3a"
          ],
          [
           0.8888888888888888,
           "#fdca26"
          ],
          [
           1,
           "#f0f921"
          ]
         ]
        },
        "legend": {
         "tracegroupgap": 0
        },
        "margin": {
         "t": 60
        },
        "template": {
         "data": {
          "bar": [
           {
            "error_x": {
             "color": "#2a3f5f"
            },
            "error_y": {
             "color": "#2a3f5f"
            },
            "marker": {
             "line": {
              "color": "#E5ECF6",
              "width": 0.5
             },
             "pattern": {
              "fillmode": "overlay",
              "size": 10,
              "solidity": 0.2
             }
            },
            "type": "bar"
           }
          ],
          "barpolar": [
           {
            "marker": {
             "line": {
              "color": "#E5ECF6",
              "width": 0.5
             },
             "pattern": {
              "fillmode": "overlay",
              "size": 10,
              "solidity": 0.2
             }
            },
            "type": "barpolar"
           }
          ],
          "carpet": [
           {
            "aaxis": {
             "endlinecolor": "#2a3f5f",
             "gridcolor": "white",
             "linecolor": "white",
             "minorgridcolor": "white",
             "startlinecolor": "#2a3f5f"
            },
            "baxis": {
             "endlinecolor": "#2a3f5f",
             "gridcolor": "white",
             "linecolor": "white",
             "minorgridcolor": "white",
             "startlinecolor": "#2a3f5f"
            },
            "type": "carpet"
           }
          ],
          "choropleth": [
           {
            "colorbar": {
             "outlinewidth": 0,
             "ticks": ""
            },
            "type": "choropleth"
           }
          ],
          "contour": [
           {
            "colorbar": {
             "outlinewidth": 0,
             "ticks": ""
            },
            "colorscale": [
             [
              0,
              "#0d0887"
             ],
             [
              0.1111111111111111,
              "#46039f"
             ],
             [
              0.2222222222222222,
              "#7201a8"
             ],
             [
              0.3333333333333333,
              "#9c179e"
             ],
             [
              0.4444444444444444,
              "#bd3786"
             ],
             [
              0.5555555555555556,
              "#d8576b"
             ],
             [
              0.6666666666666666,
              "#ed7953"
             ],
             [
              0.7777777777777778,
              "#fb9f3a"
             ],
             [
              0.8888888888888888,
              "#fdca26"
             ],
             [
              1,
              "#f0f921"
             ]
            ],
            "type": "contour"
           }
          ],
          "contourcarpet": [
           {
            "colorbar": {
             "outlinewidth": 0,
             "ticks": ""
            },
            "type": "contourcarpet"
           }
          ],
          "heatmap": [
           {
            "colorbar": {
             "outlinewidth": 0,
             "ticks": ""
            },
            "colorscale": [
             [
              0,
              "#0d0887"
             ],
             [
              0.1111111111111111,
              "#46039f"
             ],
             [
              0.2222222222222222,
              "#7201a8"
             ],
             [
              0.3333333333333333,
              "#9c179e"
             ],
             [
              0.4444444444444444,
              "#bd3786"
             ],
             [
              0.5555555555555556,
              "#d8576b"
             ],
             [
              0.6666666666666666,
              "#ed7953"
             ],
             [
              0.7777777777777778,
              "#fb9f3a"
             ],
             [
              0.8888888888888888,
              "#fdca26"
             ],
             [
              1,
              "#f0f921"
             ]
            ],
            "type": "heatmap"
           }
          ],
          "heatmapgl": [
           {
            "colorbar": {
             "outlinewidth": 0,
             "ticks": ""
            },
            "colorscale": [
             [
              0,
              "#0d0887"
             ],
             [
              0.1111111111111111,
              "#46039f"
             ],
             [
              0.2222222222222222,
              "#7201a8"
             ],
             [
              0.3333333333333333,
              "#9c179e"
             ],
             [
              0.4444444444444444,
              "#bd3786"
             ],
             [
              0.5555555555555556,
              "#d8576b"
             ],
             [
              0.6666666666666666,
              "#ed7953"
             ],
             [
              0.7777777777777778,
              "#fb9f3a"
             ],
             [
              0.8888888888888888,
              "#fdca26"
             ],
             [
              1,
              "#f0f921"
             ]
            ],
            "type": "heatmapgl"
           }
          ],
          "histogram": [
           {
            "marker": {
             "pattern": {
              "fillmode": "overlay",
              "size": 10,
              "solidity": 0.2
             }
            },
            "type": "histogram"
           }
          ],
          "histogram2d": [
           {
            "colorbar": {
             "outlinewidth": 0,
             "ticks": ""
            },
            "colorscale": [
             [
              0,
              "#0d0887"
             ],
             [
              0.1111111111111111,
              "#46039f"
             ],
             [
              0.2222222222222222,
              "#7201a8"
             ],
             [
              0.3333333333333333,
              "#9c179e"
             ],
             [
              0.4444444444444444,
              "#bd3786"
             ],
             [
              0.5555555555555556,
              "#d8576b"
             ],
             [
              0.6666666666666666,
              "#ed7953"
             ],
             [
              0.7777777777777778,
              "#fb9f3a"
             ],
             [
              0.8888888888888888,
              "#fdca26"
             ],
             [
              1,
              "#f0f921"
             ]
            ],
            "type": "histogram2d"
           }
          ],
          "histogram2dcontour": [
           {
            "colorbar": {
             "outlinewidth": 0,
             "ticks": ""
            },
            "colorscale": [
             [
              0,
              "#0d0887"
             ],
             [
              0.1111111111111111,
              "#46039f"
             ],
             [
              0.2222222222222222,
              "#7201a8"
             ],
             [
              0.3333333333333333,
              "#9c179e"
             ],
             [
              0.4444444444444444,
              "#bd3786"
             ],
             [
              0.5555555555555556,
              "#d8576b"
             ],
             [
              0.6666666666666666,
              "#ed7953"
             ],
             [
              0.7777777777777778,
              "#fb9f3a"
             ],
             [
              0.8888888888888888,
              "#fdca26"
             ],
             [
              1,
              "#f0f921"
             ]
            ],
            "type": "histogram2dcontour"
           }
          ],
          "mesh3d": [
           {
            "colorbar": {
             "outlinewidth": 0,
             "ticks": ""
            },
            "type": "mesh3d"
           }
          ],
          "parcoords": [
           {
            "line": {
             "colorbar": {
              "outlinewidth": 0,
              "ticks": ""
             }
            },
            "type": "parcoords"
           }
          ],
          "pie": [
           {
            "automargin": true,
            "type": "pie"
           }
          ],
          "scatter": [
           {
            "fillpattern": {
             "fillmode": "overlay",
             "size": 10,
             "solidity": 0.2
            },
            "type": "scatter"
           }
          ],
          "scatter3d": [
           {
            "line": {
             "colorbar": {
              "outlinewidth": 0,
              "ticks": ""
             }
            },
            "marker": {
             "colorbar": {
              "outlinewidth": 0,
              "ticks": ""
             }
            },
            "type": "scatter3d"
           }
          ],
          "scattercarpet": [
           {
            "marker": {
             "colorbar": {
              "outlinewidth": 0,
              "ticks": ""
             }
            },
            "type": "scattercarpet"
           }
          ],
          "scattergeo": [
           {
            "marker": {
             "colorbar": {
              "outlinewidth": 0,
              "ticks": ""
             }
            },
            "type": "scattergeo"
           }
          ],
          "scattergl": [
           {
            "marker": {
             "colorbar": {
              "outlinewidth": 0,
              "ticks": ""
             }
            },
            "type": "scattergl"
           }
          ],
          "scattermapbox": [
           {
            "marker": {
             "colorbar": {
              "outlinewidth": 0,
              "ticks": ""
             }
            },
            "type": "scattermapbox"
           }
          ],
          "scatterpolar": [
           {
            "marker": {
             "colorbar": {
              "outlinewidth": 0,
              "ticks": ""
             }
            },
            "type": "scatterpolar"
           }
          ],
          "scatterpolargl": [
           {
            "marker": {
             "colorbar": {
              "outlinewidth": 0,
              "ticks": ""
             }
            },
            "type": "scatterpolargl"
           }
          ],
          "scatterternary": [
           {
            "marker": {
             "colorbar": {
              "outlinewidth": 0,
              "ticks": ""
             }
            },
            "type": "scatterternary"
           }
          ],
          "surface": [
           {
            "colorbar": {
             "outlinewidth": 0,
             "ticks": ""
            },
            "colorscale": [
             [
              0,
              "#0d0887"
             ],
             [
              0.1111111111111111,
              "#46039f"
             ],
             [
              0.2222222222222222,
              "#7201a8"
             ],
             [
              0.3333333333333333,
              "#9c179e"
             ],
             [
              0.4444444444444444,
              "#bd3786"
             ],
             [
              0.5555555555555556,
              "#d8576b"
             ],
             [
              0.6666666666666666,
              "#ed7953"
             ],
             [
              0.7777777777777778,
              "#fb9f3a"
             ],
             [
              0.8888888888888888,
              "#fdca26"
             ],
             [
              1,
              "#f0f921"
             ]
            ],
            "type": "surface"
           }
          ],
          "table": [
           {
            "cells": {
             "fill": {
              "color": "#EBF0F8"
             },
             "line": {
              "color": "white"
             }
            },
            "header": {
             "fill": {
              "color": "#C8D4E3"
             },
             "line": {
              "color": "white"
             }
            },
            "type": "table"
           }
          ]
         },
         "layout": {
          "annotationdefaults": {
           "arrowcolor": "#2a3f5f",
           "arrowhead": 0,
           "arrowwidth": 1
          },
          "autotypenumbers": "strict",
          "coloraxis": {
           "colorbar": {
            "outlinewidth": 0,
            "ticks": ""
           }
          },
          "colorscale": {
           "diverging": [
            [
             0,
             "#8e0152"
            ],
            [
             0.1,
             "#c51b7d"
            ],
            [
             0.2,
             "#de77ae"
            ],
            [
             0.3,
             "#f1b6da"
            ],
            [
             0.4,
             "#fde0ef"
            ],
            [
             0.5,
             "#f7f7f7"
            ],
            [
             0.6,
             "#e6f5d0"
            ],
            [
             0.7,
             "#b8e186"
            ],
            [
             0.8,
             "#7fbc41"
            ],
            [
             0.9,
             "#4d9221"
            ],
            [
             1,
             "#276419"
            ]
           ],
           "sequential": [
            [
             0,
             "#0d0887"
            ],
            [
             0.1111111111111111,
             "#46039f"
            ],
            [
             0.2222222222222222,
             "#7201a8"
            ],
            [
             0.3333333333333333,
             "#9c179e"
            ],
            [
             0.4444444444444444,
             "#bd3786"
            ],
            [
             0.5555555555555556,
             "#d8576b"
            ],
            [
             0.6666666666666666,
             "#ed7953"
            ],
            [
             0.7777777777777778,
             "#fb9f3a"
            ],
            [
             0.8888888888888888,
             "#fdca26"
            ],
            [
             1,
             "#f0f921"
            ]
           ],
           "sequentialminus": [
            [
             0,
             "#0d0887"
            ],
            [
             0.1111111111111111,
             "#46039f"
            ],
            [
             0.2222222222222222,
             "#7201a8"
            ],
            [
             0.3333333333333333,
             "#9c179e"
            ],
            [
             0.4444444444444444,
             "#bd3786"
            ],
            [
             0.5555555555555556,
             "#d8576b"
            ],
            [
             0.6666666666666666,
             "#ed7953"
            ],
            [
             0.7777777777777778,
             "#fb9f3a"
            ],
            [
             0.8888888888888888,
             "#fdca26"
            ],
            [
             1,
             "#f0f921"
            ]
           ]
          },
          "colorway": [
           "#636efa",
           "#EF553B",
           "#00cc96",
           "#ab63fa",
           "#FFA15A",
           "#19d3f3",
           "#FF6692",
           "#B6E880",
           "#FF97FF",
           "#FECB52"
          ],
          "font": {
           "color": "#2a3f5f"
          },
          "geo": {
           "bgcolor": "white",
           "lakecolor": "white",
           "landcolor": "#E5ECF6",
           "showlakes": true,
           "showland": true,
           "subunitcolor": "white"
          },
          "hoverlabel": {
           "align": "left"
          },
          "hovermode": "closest",
          "mapbox": {
           "style": "light"
          },
          "paper_bgcolor": "white",
          "plot_bgcolor": "#E5ECF6",
          "polar": {
           "angularaxis": {
            "gridcolor": "white",
            "linecolor": "white",
            "ticks": ""
           },
           "bgcolor": "#E5ECF6",
           "radialaxis": {
            "gridcolor": "white",
            "linecolor": "white",
            "ticks": ""
           }
          },
          "scene": {
           "xaxis": {
            "backgroundcolor": "#E5ECF6",
            "gridcolor": "white",
            "gridwidth": 2,
            "linecolor": "white",
            "showbackground": true,
            "ticks": "",
            "zerolinecolor": "white"
           },
           "yaxis": {
            "backgroundcolor": "#E5ECF6",
            "gridcolor": "white",
            "gridwidth": 2,
            "linecolor": "white",
            "showbackground": true,
            "ticks": "",
            "zerolinecolor": "white"
           },
           "zaxis": {
            "backgroundcolor": "#E5ECF6",
            "gridcolor": "white",
            "gridwidth": 2,
            "linecolor": "white",
            "showbackground": true,
            "ticks": "",
            "zerolinecolor": "white"
           }
          },
          "shapedefaults": {
           "line": {
            "color": "#2a3f5f"
           }
          },
          "ternary": {
           "aaxis": {
            "gridcolor": "white",
            "linecolor": "white",
            "ticks": ""
           },
           "baxis": {
            "gridcolor": "white",
            "linecolor": "white",
            "ticks": ""
           },
           "bgcolor": "#E5ECF6",
           "caxis": {
            "gridcolor": "white",
            "linecolor": "white",
            "ticks": ""
           }
          },
          "title": {
           "x": 0.05
          },
          "xaxis": {
           "automargin": true,
           "gridcolor": "white",
           "linecolor": "white",
           "ticks": "",
           "title": {
            "standoff": 15
           },
           "zerolinecolor": "white",
           "zerolinewidth": 2
          },
          "yaxis": {
           "automargin": true,
           "gridcolor": "white",
           "linecolor": "white",
           "ticks": "",
           "title": {
            "standoff": 15
           },
           "zerolinecolor": "white",
           "zerolinewidth": 2
          }
         }
        },
        "xaxis": {
         "anchor": "y",
         "domain": [
          0,
          1
         ],
         "title": {
          "text": "Date"
         }
        },
        "yaxis": {
         "anchor": "x",
         "domain": [
          0,
          1
         ],
         "title": {
          "text": "Sales"
         }
        }
       }
      }
     },
     "metadata": {},
     "output_type": "display_data"
    }
   ],
   "source": [
    "fig = px.scatter(df, color='Facebook', x='Date', y='Sales')\n",
    "fig.show()"
   ]
  },
  {
   "cell_type": "code",
   "execution_count": 65,
   "metadata": {},
   "outputs": [
    {
     "data": {
      "application/vnd.plotly.v1+json": {
       "config": {
        "plotlyServerURL": "https://plot.ly"
       },
       "data": [
        {
         "hovertemplate": "Date=%{x}<br>Sales=%{y}<br>Google Ads=%{marker.color}<extra></extra>",
         "legendgroup": "",
         "marker": {
          "color": [
           0,
           2218.93,
           2046.96,
           0,
           2187.29,
           1992.98,
           2253.02,
           2042.3,
           1859.02,
           2135.99,
           0,
           0,
           0,
           0,
           1839.37,
           1907.13,
           2204.36,
           1889.49,
           1922.63,
           1897.94,
           2036.79,
           1922.9,
           1679.63,
           0,
           0,
           0,
           2162.53,
           2117.45,
           1898.93,
           0,
           1898.5,
           0,
           2499.44,
           0,
           0,
           1743.09,
           1979.13,
           1802.4,
           1764.47,
           1771.96,
           2351,
           1973.4,
           0,
           0,
           0,
           2144.01,
           0,
           2060.72,
           2154.54,
           1667.68,
           2089.64,
           2339.24,
           1997.03,
           2164.28,
           2134.11,
           1858.5,
           2007.95,
           1686.6,
           1909.74,
           2053.14,
           2144.62,
           2004.92,
           2144,
           1779.42,
           0,
           2003.86,
           0,
           1957.17,
           1900.2,
           2004.27,
           0,
           2038.55,
           1926.99,
           1641.73,
           1988.28,
           0,
           1673.52,
           1986.57,
           2297.87,
           2104.26,
           2122.39,
           0,
           2095.38,
           2029.69,
           2105.81,
           2084.53,
           0,
           0,
           0,
           1989.98,
           0,
           2262.49,
           1828.21,
           1820.21,
           2014.92,
           1784.58,
           1915.07,
           1834.01,
           2282.23,
           2157.16,
           0,
           1921.76,
           2188.18,
           2081.04,
           2099.61,
           1994.76,
           1662.35,
           0,
           1893.5,
           2129.01,
           2202.37,
           1868.41,
           2093.68,
           0,
           0,
           2336.38,
           1829.48,
           0,
           1997.77,
           2002.3,
           0,
           1881.76,
           0,
           2065.39,
           2066.01,
           2445.19,
           2274.2,
           0,
           2064.97,
           2199.42,
           0,
           1986.07,
           2010.31,
           2173.46,
           1830.34,
           1934.87,
           0,
           2062.29,
           0,
           0,
           2194.51,
           0,
           2081.28,
           1961.36,
           2151.15,
           1892.17,
           0,
           0,
           0,
           1769.21,
           1930.41,
           0,
           1793.47,
           1912.65,
           0,
           1918.79,
           1892.95,
           2005.08,
           2230.84,
           2034.5,
           2004.21,
           2019.89,
           2045.48,
           1796.65,
           1977.04,
           0,
           1725.85,
           2173.13,
           2216.28,
           1873.72,
           1951.73,
           1824.36,
           2139.88,
           1787.76,
           1955.5,
           0,
           2010.19,
           1641.15,
           2265.29,
           1807.08,
           2011.98,
           1957.5,
           1847.58,
           1822.44,
           2187.28,
           1894.87,
           2054.23,
           1839.7,
           0,
           2094.45,
           2186.08,
           1964.94,
           1715.62,
           2399.59,
           0,
           1691.68,
           2518.88,
           1919.19,
           1707.65,
           1863.31
          ],
          "coloraxis": "coloraxis",
          "symbol": "circle"
         },
         "mode": "markers",
         "name": "",
         "orientation": "v",
         "showlegend": false,
         "type": "scatter",
         "x": [
          "2018-01-07T00:00:00",
          null,
          null,
          null,
          "2018-02-04T00:00:00",
          "2018-02-11T00:00:00",
          null,
          null,
          "2018-03-04T00:00:00",
          "2018-03-11T00:00:00",
          null,
          null,
          "2018-04-01T00:00:00",
          "2018-04-08T00:00:00",
          null,
          null,
          null,
          "2018-05-06T00:00:00",
          null,
          null,
          null,
          "2018-06-03T00:00:00",
          "2018-06-10T00:00:00",
          null,
          null,
          "2018-07-01T00:00:00",
          "2018-07-08T00:00:00",
          null,
          null,
          null,
          "2018-08-05T00:00:00",
          "2018-08-12T00:00:00",
          null,
          null,
          "2018-09-02T00:00:00",
          "2018-09-09T00:00:00",
          null,
          null,
          null,
          "2018-10-07T00:00:00",
          null,
          null,
          null,
          "2018-11-04T00:00:00",
          "2018-11-11T00:00:00",
          null,
          null,
          "2018-12-02T00:00:00",
          "2018-12-09T00:00:00",
          null,
          null,
          null,
          "2019-01-06T00:00:00",
          null,
          null,
          null,
          "2019-02-03T00:00:00",
          "2019-02-10T00:00:00",
          null,
          null,
          "2019-03-03T00:00:00",
          "2019-03-10T00:00:00",
          null,
          null,
          null,
          "2019-04-07T00:00:00",
          null,
          null,
          null,
          "2019-05-05T00:00:00",
          "2019-05-12T00:00:00",
          null,
          null,
          "2019-06-02T00:00:00",
          "2019-06-09T00:00:00",
          null,
          null,
          null,
          "2019-07-07T00:00:00",
          null,
          null,
          null,
          "2019-08-04T00:00:00",
          "2019-08-11T00:00:00",
          null,
          null,
          "2019-09-01T00:00:00",
          "2019-09-08T00:00:00",
          null,
          null,
          null,
          "2019-10-06T00:00:00",
          null,
          null,
          null,
          "2019-11-03T00:00:00",
          "2019-11-10T00:00:00",
          null,
          null,
          "2019-12-01T00:00:00",
          "2019-12-08T00:00:00",
          null,
          null,
          null,
          "2020-01-05T00:00:00",
          "2020-01-12T00:00:00",
          null,
          null,
          "2020-02-02T00:00:00",
          "2020-02-09T00:00:00",
          null,
          null,
          "2020-03-01T00:00:00",
          "2020-03-08T00:00:00",
          null,
          null,
          null,
          "2020-04-05T00:00:00",
          "2020-04-12T00:00:00",
          null,
          null,
          "2020-05-03T00:00:00",
          "2020-05-10T00:00:00",
          null,
          null,
          null,
          "2020-06-07T00:00:00",
          null,
          null,
          null,
          "2020-07-05T00:00:00",
          "2020-07-12T00:00:00",
          null,
          null,
          "2020-08-02T00:00:00",
          "2020-08-09T00:00:00",
          null,
          null,
          null,
          "2020-09-06T00:00:00",
          null,
          null,
          null,
          "2020-10-04T00:00:00",
          "2020-10-11T00:00:00",
          null,
          null,
          "2020-11-01T00:00:00",
          "2020-11-08T00:00:00",
          null,
          null,
          null,
          "2020-12-06T00:00:00",
          null,
          null,
          null,
          "2021-01-03T00:00:00",
          "2021-01-10T00:00:00",
          null,
          null,
          null,
          "2021-02-07T00:00:00",
          null,
          null,
          null,
          "2021-03-07T00:00:00",
          null,
          null,
          null,
          "2021-04-04T00:00:00",
          "2021-04-11T00:00:00",
          null,
          null,
          "2021-05-02T00:00:00",
          "2021-05-09T00:00:00",
          null,
          null,
          null,
          "2021-06-06T00:00:00",
          null,
          null,
          null,
          "2021-07-04T00:00:00",
          "2021-07-11T00:00:00",
          null,
          null,
          "2021-08-01T00:00:00",
          "2021-08-08T00:00:00",
          null,
          null,
          null,
          "2021-09-05T00:00:00",
          "2021-09-12T00:00:00",
          null,
          null,
          "2021-10-03T00:00:00",
          "2021-10-10T00:00:00",
          null,
          null,
          null
         ],
         "xaxis": "x",
         "y": [
          9779.8,
          13245.19,
          12022.66,
          8846.95,
          9797.07,
          13527.65,
          9635.43,
          15355.11,
          12199.37,
          11368.23,
          8640.44,
          4960.26,
          12726.46,
          11421.71,
          10875.31,
          13048.08,
          10775.86,
          15013.62,
          14158.32,
          15918.14,
          11128.75,
          12170.36,
          10134.7,
          11093.55,
          8170.63,
          6542.71,
          11325.8,
          7793.24,
          15010.94,
          10634.31,
          11751.39,
          9151.2,
          9141.46,
          7399.92,
          10893.16,
          11550.47,
          8672.09,
          9427.22,
          8036.91,
          11240.58,
          12386.83,
          12513.84,
          12235.08,
          11895.78,
          10047.41,
          9705.39,
          8847.19,
          10379.07,
          11312.48,
          8226.23,
          13966.11,
          13460.32,
          15742.61,
          10440.98,
          8535.49,
          7801.58,
          9570.01,
          7854.78,
          8067.55,
          7848.26,
          14012.71,
          16127.45,
          11636.97,
          8193.65,
          9451.61,
          11454.02,
          5526.84,
          7677.52,
          8084.98,
          7456.56,
          5365.18,
          8134.16,
          10065.53,
          10878.94,
          11524.63,
          6563.85,
          14165.57,
          15624.56,
          11305.04,
          8245.57,
          7676.64,
          5023.53,
          8058.85,
          9902.44,
          8058.05,
          7498.36,
          12216.8,
          11042.8,
          10713.92,
          9130.06,
          7325.82,
          15292.36,
          11571.92,
          10464.3,
          9229.31,
          9964.76,
          8018.56,
          7278.85,
          8467.44,
          7620.08,
          7353.99,
          12947.48,
          10250.78,
          13096.57,
          10843.3,
          9702.32,
          11509.72,
          10862.91,
          14894.3,
          12071.16,
          16592.25,
          12441.24,
          12279.8,
          6790.08,
          11909.22,
          13496.33,
          12297.33,
          6378.02,
          14447.22,
          14199.63,
          8818.6,
          11735.1,
          10804.46,
          10008.84,
          13038.94,
          12997.57,
          13131.68,
          14703.9,
          17668.34,
          13267.43,
          8106.56,
          11182.44,
          10886.67,
          11160.91,
          7160.31,
          14452.13,
          11189.87,
          15012.92,
          8606.27,
          5991.27,
          8239.06,
          5561.95,
          9797.26,
          14673.81,
          11598.35,
          13368.12,
          14428.14,
          11172.84,
          6340.56,
          8095.38,
          9268.66,
          4532.33,
          10982.62,
          8447.64,
          7617.05,
          7610.02,
          7849.88,
          7104.61,
          8447.4,
          7885.48,
          9992.42,
          11322.95,
          15977.27,
          14259.48,
          12886.05,
          9131.86,
          10953.39,
          8574.23,
          14958.05,
          13543.21,
          13867.08,
          13854.92,
          10895.22,
          7854.4,
          7405.54,
          7705.26,
          10888.41,
          7715.63,
          10581.72,
          11218.58,
          12789.7,
          9923.23,
          9781.83,
          11570.62,
          12294.54,
          9745.9,
          11918.41,
          10983.4,
          8944.74,
          13131.49,
          14669.4,
          13843.33,
          14024.53,
          13315.79,
          10237.24,
          9030.17,
          15904.11,
          12839.29,
          9063.45,
          7250.21
         ],
         "yaxis": "y"
        }
       ],
       "layout": {
        "coloraxis": {
         "colorbar": {
          "title": {
           "text": "Google Ads"
          }
         },
         "colorscale": [
          [
           0,
           "#0d0887"
          ],
          [
           0.1111111111111111,
           "#46039f"
          ],
          [
           0.2222222222222222,
           "#7201a8"
          ],
          [
           0.3333333333333333,
           "#9c179e"
          ],
          [
           0.4444444444444444,
           "#bd3786"
          ],
          [
           0.5555555555555556,
           "#d8576b"
          ],
          [
           0.6666666666666666,
           "#ed7953"
          ],
          [
           0.7777777777777778,
           "#fb9f3a"
          ],
          [
           0.8888888888888888,
           "#fdca26"
          ],
          [
           1,
           "#f0f921"
          ]
         ]
        },
        "legend": {
         "tracegroupgap": 0
        },
        "margin": {
         "t": 60
        },
        "template": {
         "data": {
          "bar": [
           {
            "error_x": {
             "color": "#2a3f5f"
            },
            "error_y": {
             "color": "#2a3f5f"
            },
            "marker": {
             "line": {
              "color": "#E5ECF6",
              "width": 0.5
             },
             "pattern": {
              "fillmode": "overlay",
              "size": 10,
              "solidity": 0.2
             }
            },
            "type": "bar"
           }
          ],
          "barpolar": [
           {
            "marker": {
             "line": {
              "color": "#E5ECF6",
              "width": 0.5
             },
             "pattern": {
              "fillmode": "overlay",
              "size": 10,
              "solidity": 0.2
             }
            },
            "type": "barpolar"
           }
          ],
          "carpet": [
           {
            "aaxis": {
             "endlinecolor": "#2a3f5f",
             "gridcolor": "white",
             "linecolor": "white",
             "minorgridcolor": "white",
             "startlinecolor": "#2a3f5f"
            },
            "baxis": {
             "endlinecolor": "#2a3f5f",
             "gridcolor": "white",
             "linecolor": "white",
             "minorgridcolor": "white",
             "startlinecolor": "#2a3f5f"
            },
            "type": "carpet"
           }
          ],
          "choropleth": [
           {
            "colorbar": {
             "outlinewidth": 0,
             "ticks": ""
            },
            "type": "choropleth"
           }
          ],
          "contour": [
           {
            "colorbar": {
             "outlinewidth": 0,
             "ticks": ""
            },
            "colorscale": [
             [
              0,
              "#0d0887"
             ],
             [
              0.1111111111111111,
              "#46039f"
             ],
             [
              0.2222222222222222,
              "#7201a8"
             ],
             [
              0.3333333333333333,
              "#9c179e"
             ],
             [
              0.4444444444444444,
              "#bd3786"
             ],
             [
              0.5555555555555556,
              "#d8576b"
             ],
             [
              0.6666666666666666,
              "#ed7953"
             ],
             [
              0.7777777777777778,
              "#fb9f3a"
             ],
             [
              0.8888888888888888,
              "#fdca26"
             ],
             [
              1,
              "#f0f921"
             ]
            ],
            "type": "contour"
           }
          ],
          "contourcarpet": [
           {
            "colorbar": {
             "outlinewidth": 0,
             "ticks": ""
            },
            "type": "contourcarpet"
           }
          ],
          "heatmap": [
           {
            "colorbar": {
             "outlinewidth": 0,
             "ticks": ""
            },
            "colorscale": [
             [
              0,
              "#0d0887"
             ],
             [
              0.1111111111111111,
              "#46039f"
             ],
             [
              0.2222222222222222,
              "#7201a8"
             ],
             [
              0.3333333333333333,
              "#9c179e"
             ],
             [
              0.4444444444444444,
              "#bd3786"
             ],
             [
              0.5555555555555556,
              "#d8576b"
             ],
             [
              0.6666666666666666,
              "#ed7953"
             ],
             [
              0.7777777777777778,
              "#fb9f3a"
             ],
             [
              0.8888888888888888,
              "#fdca26"
             ],
             [
              1,
              "#f0f921"
             ]
            ],
            "type": "heatmap"
           }
          ],
          "heatmapgl": [
           {
            "colorbar": {
             "outlinewidth": 0,
             "ticks": ""
            },
            "colorscale": [
             [
              0,
              "#0d0887"
             ],
             [
              0.1111111111111111,
              "#46039f"
             ],
             [
              0.2222222222222222,
              "#7201a8"
             ],
             [
              0.3333333333333333,
              "#9c179e"
             ],
             [
              0.4444444444444444,
              "#bd3786"
             ],
             [
              0.5555555555555556,
              "#d8576b"
             ],
             [
              0.6666666666666666,
              "#ed7953"
             ],
             [
              0.7777777777777778,
              "#fb9f3a"
             ],
             [
              0.8888888888888888,
              "#fdca26"
             ],
             [
              1,
              "#f0f921"
             ]
            ],
            "type": "heatmapgl"
           }
          ],
          "histogram": [
           {
            "marker": {
             "pattern": {
              "fillmode": "overlay",
              "size": 10,
              "solidity": 0.2
             }
            },
            "type": "histogram"
           }
          ],
          "histogram2d": [
           {
            "colorbar": {
             "outlinewidth": 0,
             "ticks": ""
            },
            "colorscale": [
             [
              0,
              "#0d0887"
             ],
             [
              0.1111111111111111,
              "#46039f"
             ],
             [
              0.2222222222222222,
              "#7201a8"
             ],
             [
              0.3333333333333333,
              "#9c179e"
             ],
             [
              0.4444444444444444,
              "#bd3786"
             ],
             [
              0.5555555555555556,
              "#d8576b"
             ],
             [
              0.6666666666666666,
              "#ed7953"
             ],
             [
              0.7777777777777778,
              "#fb9f3a"
             ],
             [
              0.8888888888888888,
              "#fdca26"
             ],
             [
              1,
              "#f0f921"
             ]
            ],
            "type": "histogram2d"
           }
          ],
          "histogram2dcontour": [
           {
            "colorbar": {
             "outlinewidth": 0,
             "ticks": ""
            },
            "colorscale": [
             [
              0,
              "#0d0887"
             ],
             [
              0.1111111111111111,
              "#46039f"
             ],
             [
              0.2222222222222222,
              "#7201a8"
             ],
             [
              0.3333333333333333,
              "#9c179e"
             ],
             [
              0.4444444444444444,
              "#bd3786"
             ],
             [
              0.5555555555555556,
              "#d8576b"
             ],
             [
              0.6666666666666666,
              "#ed7953"
             ],
             [
              0.7777777777777778,
              "#fb9f3a"
             ],
             [
              0.8888888888888888,
              "#fdca26"
             ],
             [
              1,
              "#f0f921"
             ]
            ],
            "type": "histogram2dcontour"
           }
          ],
          "mesh3d": [
           {
            "colorbar": {
             "outlinewidth": 0,
             "ticks": ""
            },
            "type": "mesh3d"
           }
          ],
          "parcoords": [
           {
            "line": {
             "colorbar": {
              "outlinewidth": 0,
              "ticks": ""
             }
            },
            "type": "parcoords"
           }
          ],
          "pie": [
           {
            "automargin": true,
            "type": "pie"
           }
          ],
          "scatter": [
           {
            "fillpattern": {
             "fillmode": "overlay",
             "size": 10,
             "solidity": 0.2
            },
            "type": "scatter"
           }
          ],
          "scatter3d": [
           {
            "line": {
             "colorbar": {
              "outlinewidth": 0,
              "ticks": ""
             }
            },
            "marker": {
             "colorbar": {
              "outlinewidth": 0,
              "ticks": ""
             }
            },
            "type": "scatter3d"
           }
          ],
          "scattercarpet": [
           {
            "marker": {
             "colorbar": {
              "outlinewidth": 0,
              "ticks": ""
             }
            },
            "type": "scattercarpet"
           }
          ],
          "scattergeo": [
           {
            "marker": {
             "colorbar": {
              "outlinewidth": 0,
              "ticks": ""
             }
            },
            "type": "scattergeo"
           }
          ],
          "scattergl": [
           {
            "marker": {
             "colorbar": {
              "outlinewidth": 0,
              "ticks": ""
             }
            },
            "type": "scattergl"
           }
          ],
          "scattermapbox": [
           {
            "marker": {
             "colorbar": {
              "outlinewidth": 0,
              "ticks": ""
             }
            },
            "type": "scattermapbox"
           }
          ],
          "scatterpolar": [
           {
            "marker": {
             "colorbar": {
              "outlinewidth": 0,
              "ticks": ""
             }
            },
            "type": "scatterpolar"
           }
          ],
          "scatterpolargl": [
           {
            "marker": {
             "colorbar": {
              "outlinewidth": 0,
              "ticks": ""
             }
            },
            "type": "scatterpolargl"
           }
          ],
          "scatterternary": [
           {
            "marker": {
             "colorbar": {
              "outlinewidth": 0,
              "ticks": ""
             }
            },
            "type": "scatterternary"
           }
          ],
          "surface": [
           {
            "colorbar": {
             "outlinewidth": 0,
             "ticks": ""
            },
            "colorscale": [
             [
              0,
              "#0d0887"
             ],
             [
              0.1111111111111111,
              "#46039f"
             ],
             [
              0.2222222222222222,
              "#7201a8"
             ],
             [
              0.3333333333333333,
              "#9c179e"
             ],
             [
              0.4444444444444444,
              "#bd3786"
             ],
             [
              0.5555555555555556,
              "#d8576b"
             ],
             [
              0.6666666666666666,
              "#ed7953"
             ],
             [
              0.7777777777777778,
              "#fb9f3a"
             ],
             [
              0.8888888888888888,
              "#fdca26"
             ],
             [
              1,
              "#f0f921"
             ]
            ],
            "type": "surface"
           }
          ],
          "table": [
           {
            "cells": {
             "fill": {
              "color": "#EBF0F8"
             },
             "line": {
              "color": "white"
             }
            },
            "header": {
             "fill": {
              "color": "#C8D4E3"
             },
             "line": {
              "color": "white"
             }
            },
            "type": "table"
           }
          ]
         },
         "layout": {
          "annotationdefaults": {
           "arrowcolor": "#2a3f5f",
           "arrowhead": 0,
           "arrowwidth": 1
          },
          "autotypenumbers": "strict",
          "coloraxis": {
           "colorbar": {
            "outlinewidth": 0,
            "ticks": ""
           }
          },
          "colorscale": {
           "diverging": [
            [
             0,
             "#8e0152"
            ],
            [
             0.1,
             "#c51b7d"
            ],
            [
             0.2,
             "#de77ae"
            ],
            [
             0.3,
             "#f1b6da"
            ],
            [
             0.4,
             "#fde0ef"
            ],
            [
             0.5,
             "#f7f7f7"
            ],
            [
             0.6,
             "#e6f5d0"
            ],
            [
             0.7,
             "#b8e186"
            ],
            [
             0.8,
             "#7fbc41"
            ],
            [
             0.9,
             "#4d9221"
            ],
            [
             1,
             "#276419"
            ]
           ],
           "sequential": [
            [
             0,
             "#0d0887"
            ],
            [
             0.1111111111111111,
             "#46039f"
            ],
            [
             0.2222222222222222,
             "#7201a8"
            ],
            [
             0.3333333333333333,
             "#9c179e"
            ],
            [
             0.4444444444444444,
             "#bd3786"
            ],
            [
             0.5555555555555556,
             "#d8576b"
            ],
            [
             0.6666666666666666,
             "#ed7953"
            ],
            [
             0.7777777777777778,
             "#fb9f3a"
            ],
            [
             0.8888888888888888,
             "#fdca26"
            ],
            [
             1,
             "#f0f921"
            ]
           ],
           "sequentialminus": [
            [
             0,
             "#0d0887"
            ],
            [
             0.1111111111111111,
             "#46039f"
            ],
            [
             0.2222222222222222,
             "#7201a8"
            ],
            [
             0.3333333333333333,
             "#9c179e"
            ],
            [
             0.4444444444444444,
             "#bd3786"
            ],
            [
             0.5555555555555556,
             "#d8576b"
            ],
            [
             0.6666666666666666,
             "#ed7953"
            ],
            [
             0.7777777777777778,
             "#fb9f3a"
            ],
            [
             0.8888888888888888,
             "#fdca26"
            ],
            [
             1,
             "#f0f921"
            ]
           ]
          },
          "colorway": [
           "#636efa",
           "#EF553B",
           "#00cc96",
           "#ab63fa",
           "#FFA15A",
           "#19d3f3",
           "#FF6692",
           "#B6E880",
           "#FF97FF",
           "#FECB52"
          ],
          "font": {
           "color": "#2a3f5f"
          },
          "geo": {
           "bgcolor": "white",
           "lakecolor": "white",
           "landcolor": "#E5ECF6",
           "showlakes": true,
           "showland": true,
           "subunitcolor": "white"
          },
          "hoverlabel": {
           "align": "left"
          },
          "hovermode": "closest",
          "mapbox": {
           "style": "light"
          },
          "paper_bgcolor": "white",
          "plot_bgcolor": "#E5ECF6",
          "polar": {
           "angularaxis": {
            "gridcolor": "white",
            "linecolor": "white",
            "ticks": ""
           },
           "bgcolor": "#E5ECF6",
           "radialaxis": {
            "gridcolor": "white",
            "linecolor": "white",
            "ticks": ""
           }
          },
          "scene": {
           "xaxis": {
            "backgroundcolor": "#E5ECF6",
            "gridcolor": "white",
            "gridwidth": 2,
            "linecolor": "white",
            "showbackground": true,
            "ticks": "",
            "zerolinecolor": "white"
           },
           "yaxis": {
            "backgroundcolor": "#E5ECF6",
            "gridcolor": "white",
            "gridwidth": 2,
            "linecolor": "white",
            "showbackground": true,
            "ticks": "",
            "zerolinecolor": "white"
           },
           "zaxis": {
            "backgroundcolor": "#E5ECF6",
            "gridcolor": "white",
            "gridwidth": 2,
            "linecolor": "white",
            "showbackground": true,
            "ticks": "",
            "zerolinecolor": "white"
           }
          },
          "shapedefaults": {
           "line": {
            "color": "#2a3f5f"
           }
          },
          "ternary": {
           "aaxis": {
            "gridcolor": "white",
            "linecolor": "white",
            "ticks": ""
           },
           "baxis": {
            "gridcolor": "white",
            "linecolor": "white",
            "ticks": ""
           },
           "bgcolor": "#E5ECF6",
           "caxis": {
            "gridcolor": "white",
            "linecolor": "white",
            "ticks": ""
           }
          },
          "title": {
           "x": 0.05
          },
          "xaxis": {
           "automargin": true,
           "gridcolor": "white",
           "linecolor": "white",
           "ticks": "",
           "title": {
            "standoff": 15
           },
           "zerolinecolor": "white",
           "zerolinewidth": 2
          },
          "yaxis": {
           "automargin": true,
           "gridcolor": "white",
           "linecolor": "white",
           "ticks": "",
           "title": {
            "standoff": 15
           },
           "zerolinecolor": "white",
           "zerolinewidth": 2
          }
         }
        },
        "xaxis": {
         "anchor": "y",
         "domain": [
          0,
          1
         ],
         "title": {
          "text": "Date"
         }
        },
        "yaxis": {
         "anchor": "x",
         "domain": [
          0,
          1
         ],
         "title": {
          "text": "Sales"
         }
        }
       }
      }
     },
     "metadata": {},
     "output_type": "display_data"
    }
   ],
   "source": [
    "fig = px.scatter(df, color='Google Ads', x='Date', y='Sales')\n",
    "fig.show()"
   ]
  }
 ],
 "metadata": {
  "kernelspec": {
   "display_name": "base",
   "language": "python",
   "name": "python3"
  },
  "language_info": {
   "codemirror_mode": {
    "name": "ipython",
    "version": 3
   },
   "file_extension": ".py",
   "mimetype": "text/x-python",
   "name": "python",
   "nbconvert_exporter": "python",
   "pygments_lexer": "ipython3",
   "version": "3.11.5"
  }
 },
 "nbformat": 4,
 "nbformat_minor": 2
}
